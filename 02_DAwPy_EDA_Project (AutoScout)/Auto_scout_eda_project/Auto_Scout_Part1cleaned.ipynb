{
 "cells": [
  {
   "cell_type": "markdown",
   "metadata": {
    "id": "vvgJ5KWTs1MB"
   },
   "source": [
    "# PART- 1 `( Data Cleaning )`"
   ]
  },
  {
   "cell_type": "code",
   "execution_count": 1,
   "metadata": {
    "id": "Y13_gId7s1MC",
    "tags": []
   },
   "outputs": [],
   "source": [
    "import numpy as np\n",
    "import pandas as pd\n",
    "import seaborn as sns \n",
    "import matplotlib.pyplot as plt\n",
    "from ipywidgets import interact, Dropdown, IntSlider, Output, widgets\n",
    "# from IPython.core.display import display\n",
    "from IPython.display import display\n",
    "import re\n",
    "\n",
    "from skimpy import clean_columns\n",
    "# import requests\n",
    "# import geopy\n",
    "# from geopy.geocoders import Nominatim\n",
    "\n",
    "import warnings\n",
    "warnings.filterwarnings(\"ignore\")\n",
    "warnings.warn(\"this will not show\")\n",
    "\n",
    "%matplotlib inline\n",
    "# %matplotlib notebook\n",
    "\n",
    "plt.rcParams[\"figure.figsize\"] = (10, 6)\n",
    "# plt.rcParams['figure.dpi'] = 100\n",
    "\n",
    "sns.set_style(\"whitegrid\")\n",
    "pd.set_option('display.float_format', lambda x: '%.2f' % x)\n",
    "\n",
    "pd.options.display.max_rows = 300\n",
    "pd.options.display.max_columns = 100"
   ]
  },
  {
   "cell_type": "markdown",
   "metadata": {},
   "source": [
    "# df0"
   ]
  },
  {
   "cell_type": "code",
   "execution_count": 2,
   "metadata": {
    "tags": []
   },
   "outputs": [],
   "source": [
    "df0 =pd.read_json('as24_cars.json')"
   ]
  },
  {
   "cell_type": "code",
   "execution_count": 3,
   "metadata": {
    "scrolled": true,
    "tags": []
   },
   "outputs": [
    {
     "data": {
      "text/html": [
       "<div>\n",
       "<style scoped>\n",
       "    .dataframe tbody tr th:only-of-type {\n",
       "        vertical-align: middle;\n",
       "    }\n",
       "\n",
       "    .dataframe tbody tr th {\n",
       "        vertical-align: top;\n",
       "    }\n",
       "\n",
       "    .dataframe thead th {\n",
       "        text-align: right;\n",
       "    }\n",
       "</style>\n",
       "<table border=\"1\" class=\"dataframe\">\n",
       "  <thead>\n",
       "    <tr style=\"text-align: right;\">\n",
       "      <th></th>\n",
       "      <th>make_model</th>\n",
       "      <th>short_description</th>\n",
       "      <th>make</th>\n",
       "      <th>model</th>\n",
       "      <th>location</th>\n",
       "      <th>price</th>\n",
       "      <th>Body type</th>\n",
       "      <th>Type</th>\n",
       "      <th>Doors</th>\n",
       "      <th>Country version</th>\n",
       "      <th>Offer number</th>\n",
       "      <th>Warranty</th>\n",
       "      <th>Mileage</th>\n",
       "      <th>First registration</th>\n",
       "      <th>Gearbox</th>\n",
       "      <th>Fuel type</th>\n",
       "      <th>Colour</th>\n",
       "      <th>Paint</th>\n",
       "      <th>desc</th>\n",
       "      <th>seller</th>\n",
       "      <th>Seats</th>\n",
       "      <th>Power</th>\n",
       "      <th>Engine size</th>\n",
       "      <th>Gears</th>\n",
       "      <th>CO₂-emissions</th>\n",
       "      <th>Manufacturer colour</th>\n",
       "      <th>Drivetrain</th>\n",
       "      <th>Cylinders</th>\n",
       "      <th>Fuel consumption</th>\n",
       "      <th>\\nComfort &amp; Convenience\\n</th>\n",
       "      <th>\\nEntertainment &amp; Media\\n</th>\n",
       "      <th>\\nSafety &amp; Security\\n</th>\n",
       "      <th>\\nExtras\\n</th>\n",
       "      <th>Empty weight</th>\n",
       "      <th>Model code</th>\n",
       "      <th>General inspection</th>\n",
       "      <th>Last service</th>\n",
       "      <th>Full service history</th>\n",
       "      <th>Non-smoker vehicle</th>\n",
       "      <th>Emission class</th>\n",
       "      <th>Emissions sticker</th>\n",
       "      <th>Upholstery colour</th>\n",
       "      <th>Upholstery</th>\n",
       "      <th>Production date</th>\n",
       "      <th>Previous owner</th>\n",
       "      <th>Other fuel types</th>\n",
       "      <th>Power consumption</th>\n",
       "      <th>Energy efficiency class</th>\n",
       "      <th>CO₂-efficiency</th>\n",
       "      <th>Fuel consumption (WLTP)</th>\n",
       "      <th>CO₂-emissions (WLTP)</th>\n",
       "      <th>Available from</th>\n",
       "      <th>Taxi or rental car</th>\n",
       "      <th>Availability</th>\n",
       "      <th>Last timing belt change</th>\n",
       "      <th>Electric Range (WLTP)</th>\n",
       "      <th>Power consumption (WLTP)</th>\n",
       "      <th>Battery Ownership</th>\n",
       "    </tr>\n",
       "  </thead>\n",
       "  <tbody>\n",
       "    <tr>\n",
       "      <th>5979</th>\n",
       "      <td>Renault Laguna</td>\n",
       "      <td>Laguna SporTour 2.0 dci 16v 4Control 150cv</td>\n",
       "      <td>\\nRenault\\n</td>\n",
       "      <td>[\\n, Laguna ,\\n]</td>\n",
       "      <td>95126 Catania, IT</td>\n",
       "      <td>€ 4,000.-</td>\n",
       "      <td>[\\n, Coupe, \\n]</td>\n",
       "      <td>[\\n, Used, \\n]</td>\n",
       "      <td>[\\n, 5, \\n]</td>\n",
       "      <td>NaN</td>\n",
       "      <td>NaN</td>\n",
       "      <td>NaN</td>\n",
       "      <td>305,000 km</td>\n",
       "      <td>05/2010</td>\n",
       "      <td>[\\nManual\\n]</td>\n",
       "      <td>Diesel (Particle filter)</td>\n",
       "      <td>Grey</td>\n",
       "      <td>Metallic</td>\n",
       "      <td>[Auto Ferma da 2 anni, necessita solo di una m...</td>\n",
       "      <td>Private seller</td>\n",
       "      <td>[\\n, 5, \\n]</td>\n",
       "      <td>[\\n110 kW (150 hp)\\n]</td>\n",
       "      <td>[\\n1,995 cc\\n]</td>\n",
       "      <td>[\\n6\\n]</td>\n",
       "      <td>153 g/km (comb.)</td>\n",
       "      <td>NaN</td>\n",
       "      <td>NaN</td>\n",
       "      <td>[\\n4\\n]</td>\n",
       "      <td>[[5.9 l/100 km (comb.)], [7.4 l/100 km (city)]...</td>\n",
       "      <td>[Armrest, Automatic climate control, 2 zones, ...</td>\n",
       "      <td>[Bluetooth, Hands-free equipment, MP3, On-boar...</td>\n",
       "      <td>[ABS, Alarm system, Central door lock, Central...</td>\n",
       "      <td>[Alloy wheels (18\"), Ambient lighting, Automat...</td>\n",
       "      <td>[\\n1,576 kg\\n]</td>\n",
       "      <td>NaN</td>\n",
       "      <td>09/2022</td>\n",
       "      <td>NaN</td>\n",
       "      <td>NaN</td>\n",
       "      <td>Yes</td>\n",
       "      <td>NaN</td>\n",
       "      <td>NaN</td>\n",
       "      <td>Black</td>\n",
       "      <td>Part leather</td>\n",
       "      <td>NaN</td>\n",
       "      <td>[[305,000 km, 05/2010], 1]</td>\n",
       "      <td>NaN</td>\n",
       "      <td>NaN</td>\n",
       "      <td>NaN</td>\n",
       "      <td>NaN</td>\n",
       "      <td>NaN</td>\n",
       "      <td>NaN</td>\n",
       "      <td>NaN</td>\n",
       "      <td>NaN</td>\n",
       "      <td>NaN</td>\n",
       "      <td>NaN</td>\n",
       "      <td>NaN</td>\n",
       "      <td>NaN</td>\n",
       "      <td>NaN</td>\n",
       "    </tr>\n",
       "    <tr>\n",
       "      <th>9573</th>\n",
       "      <td>Peugeot 208</td>\n",
       "      <td>1.2PureTech Allure Pack LED/Airco/DAB **NIEUWS...</td>\n",
       "      <td>\\nPeugeot\\n</td>\n",
       "      <td>[\\n, 208 ,\\n]</td>\n",
       "      <td>Emiel Clauslaan 88,  9800 Deinze, BE</td>\n",
       "      <td>€ 20,950.-</td>\n",
       "      <td>[\\n, Sedan, \\n]</td>\n",
       "      <td>[\\n, Used, \\n]</td>\n",
       "      <td>[\\n, 5, \\n]</td>\n",
       "      <td>NaN</td>\n",
       "      <td>[\\n, 16303, \\n]</td>\n",
       "      <td>[\\n, 12 months, \\n]</td>\n",
       "      <td>2,546 km</td>\n",
       "      <td>11/2021</td>\n",
       "      <td>[\\nManual\\n]</td>\n",
       "      <td>Gasoline</td>\n",
       "      <td>Yellow</td>\n",
       "      <td>NaN</td>\n",
       "      <td>[Neerklapbare achterbank, ,  , OCCASIECENTER D...</td>\n",
       "      <td>Dealer</td>\n",
       "      <td>NaN</td>\n",
       "      <td>[\\n55 kW (75 hp)\\n]</td>\n",
       "      <td>[\\n1,199 cc\\n]</td>\n",
       "      <td>[\\n5\\n]</td>\n",
       "      <td>115 g/km (comb.)</td>\n",
       "      <td>NaN</td>\n",
       "      <td>[\\n, Front, \\n]</td>\n",
       "      <td>NaN</td>\n",
       "      <td>NaN</td>\n",
       "      <td>[Air conditioning, Automatic climate control, ...</td>\n",
       "      <td>[Android Auto, Apple CarPlay, Bluetooth, Digit...</td>\n",
       "      <td>[Central door lock, Driver-side airbag, Isofix...</td>\n",
       "      <td>[Alloy wheels, Electronic parking brake, Touch...</td>\n",
       "      <td>NaN</td>\n",
       "      <td>NaN</td>\n",
       "      <td>NaN</td>\n",
       "      <td>NaN</td>\n",
       "      <td>NaN</td>\n",
       "      <td>Yes</td>\n",
       "      <td>Euro 6</td>\n",
       "      <td>NaN</td>\n",
       "      <td>Black</td>\n",
       "      <td>Cloth</td>\n",
       "      <td>NaN</td>\n",
       "      <td>[[2,546 km, 11/2021], 1]</td>\n",
       "      <td>NaN</td>\n",
       "      <td>NaN</td>\n",
       "      <td>NaN</td>\n",
       "      <td>NaN</td>\n",
       "      <td>NaN</td>\n",
       "      <td>NaN</td>\n",
       "      <td>NaN</td>\n",
       "      <td>NaN</td>\n",
       "      <td>NaN</td>\n",
       "      <td>NaN</td>\n",
       "      <td>NaN</td>\n",
       "      <td>NaN</td>\n",
       "      <td>NaN</td>\n",
       "    </tr>\n",
       "    <tr>\n",
       "      <th>22600</th>\n",
       "      <td>Ford Mustang Mach-E</td>\n",
       "      <td>AWD *LED*iACC*NAVI*360CAM*</td>\n",
       "      <td>\\nFord\\n</td>\n",
       "      <td>[\\n, Mustang Mach-E ,\\n]</td>\n",
       "      <td>Donaustraße 5c,  86165 Augsburg, DE</td>\n",
       "      <td>€ 57,250.-</td>\n",
       "      <td>[\\n, Off-Road/Pick-up, \\n]</td>\n",
       "      <td>[\\n, Demonstration, \\n]</td>\n",
       "      <td>[\\n, 5, \\n]</td>\n",
       "      <td>[\\n, Germany, \\n]</td>\n",
       "      <td>[\\n, MMA60127, \\n]</td>\n",
       "      <td>[\\n, 24 months, \\n]</td>\n",
       "      <td>9,500 km</td>\n",
       "      <td>05/2022</td>\n",
       "      <td>[\\nAutomatic\\n]</td>\n",
       "      <td>NaN</td>\n",
       "      <td>Red</td>\n",
       "      <td>NaN</td>\n",
       "      <td>[Ihre Ansprechpartner für dieses KFZ:,  ,  , A...</td>\n",
       "      <td>Dealer</td>\n",
       "      <td>[\\n, 5, \\n]</td>\n",
       "      <td>[\\n198 kW (269 hp)\\n]</td>\n",
       "      <td>[\\n0 cc\\n]</td>\n",
       "      <td>[\\n1\\n]</td>\n",
       "      <td>NaN</td>\n",
       "      <td>Lucid-Rot</td>\n",
       "      <td>[\\n, 4WD, \\n]</td>\n",
       "      <td>NaN</td>\n",
       "      <td>NaN</td>\n",
       "      <td>[360° camera, Air conditioning, Armrest, Autom...</td>\n",
       "      <td>[Android Auto, Apple CarPlay, Bluetooth, Digit...</td>\n",
       "      <td>[ABS, Adaptive Cruise Control, Adaptive headli...</td>\n",
       "      <td>[Alloy wheels (19\"), Ambient lighting, Automat...</td>\n",
       "      <td>NaN</td>\n",
       "      <td>[\\n, 8566/BUN, \\n]</td>\n",
       "      <td>New</td>\n",
       "      <td>NaN</td>\n",
       "      <td>Yes</td>\n",
       "      <td>Yes</td>\n",
       "      <td>NaN</td>\n",
       "      <td>1 (No sticker)</td>\n",
       "      <td>Black</td>\n",
       "      <td>Full leather</td>\n",
       "      <td>2022.00</td>\n",
       "      <td>[[9,500 km, 05/2022], 1]</td>\n",
       "      <td>Electricity</td>\n",
       "      <td>17.2 kWh/100 km (comb.)</td>\n",
       "      <td>A+++</td>\n",
       "      <td>Calculated on basis of measured CO₂-emissions ...</td>\n",
       "      <td>NaN</td>\n",
       "      <td>NaN</td>\n",
       "      <td>NaN</td>\n",
       "      <td>NaN</td>\n",
       "      <td>[\\n, in 60 days after order, \\n]</td>\n",
       "      <td>NaN</td>\n",
       "      <td>NaN</td>\n",
       "      <td>NaN</td>\n",
       "      <td>NaN</td>\n",
       "    </tr>\n",
       "    <tr>\n",
       "      <th>16229</th>\n",
       "      <td>Dacia Logan</td>\n",
       "      <td>II MCV Comfort</td>\n",
       "      <td>\\nDacia\\n</td>\n",
       "      <td>[\\n, Logan ,\\n]</td>\n",
       "      <td>Hansestr. 1,  51688 Wipperfürth, DE</td>\n",
       "      <td>€ 9,800.-</td>\n",
       "      <td>[\\n, Station wagon, \\n]</td>\n",
       "      <td>[\\n, Used, \\n]</td>\n",
       "      <td>[\\n, 4, \\n]</td>\n",
       "      <td>[\\n, Germany, \\n]</td>\n",
       "      <td>NaN</td>\n",
       "      <td>[\\n, Yes, \\n]</td>\n",
       "      <td>70,298 km</td>\n",
       "      <td>02/2019</td>\n",
       "      <td>[\\nManual\\n]</td>\n",
       "      <td>Regular/Benzine 91</td>\n",
       "      <td>White</td>\n",
       "      <td>NaN</td>\n",
       "      <td>[Fahrzeug hat rundrum leichte Einparkschäden, ...</td>\n",
       "      <td>Dealer</td>\n",
       "      <td>[\\n, 5, \\n]</td>\n",
       "      <td>[\\n66 kW (90 hp)\\n]</td>\n",
       "      <td>[\\n898 cc\\n]</td>\n",
       "      <td>NaN</td>\n",
       "      <td>120 g/km (comb.)</td>\n",
       "      <td>WEISS GLACIER</td>\n",
       "      <td>NaN</td>\n",
       "      <td>NaN</td>\n",
       "      <td>[[5.3 l/100 km (comb.)], [6.6 l/100 km (city)]...</td>\n",
       "      <td>[Air conditioning, Armrest, Cruise control, El...</td>\n",
       "      <td>[Bluetooth, CD player, Hands-free equipment, O...</td>\n",
       "      <td>[ABS, Central door lock, Daytime running light...</td>\n",
       "      <td>[Cargo barrier, Steel wheels, Summer tyres, To...</td>\n",
       "      <td>NaN</td>\n",
       "      <td>NaN</td>\n",
       "      <td>New</td>\n",
       "      <td>NaN</td>\n",
       "      <td>Yes</td>\n",
       "      <td>NaN</td>\n",
       "      <td>Euro 6</td>\n",
       "      <td>4 (Green)</td>\n",
       "      <td>Black</td>\n",
       "      <td>Cloth</td>\n",
       "      <td>NaN</td>\n",
       "      <td>[[70,298 km, 02/2019], 1]</td>\n",
       "      <td>NaN</td>\n",
       "      <td>NaN</td>\n",
       "      <td>NaN</td>\n",
       "      <td>NaN</td>\n",
       "      <td>NaN</td>\n",
       "      <td>NaN</td>\n",
       "      <td>NaN</td>\n",
       "      <td>NaN</td>\n",
       "      <td>NaN</td>\n",
       "      <td>NaN</td>\n",
       "      <td>NaN</td>\n",
       "      <td>NaN</td>\n",
       "      <td>NaN</td>\n",
       "    </tr>\n",
       "    <tr>\n",
       "      <th>26869</th>\n",
       "      <td>Volvo C70</td>\n",
       "      <td>2.0i turbo 20V cat Cabriolet</td>\n",
       "      <td>\\nVolvo\\n</td>\n",
       "      <td>[\\n, C70 ,\\n]</td>\n",
       "      <td>Via Vandelli, 2,  41050 Castelnuovo Rangone - ...</td>\n",
       "      <td>€ 18,650.-</td>\n",
       "      <td>[\\n, Convertible, \\n]</td>\n",
       "      <td>[\\n, Used, \\n]</td>\n",
       "      <td>[\\n, 2, \\n]</td>\n",
       "      <td>NaN</td>\n",
       "      <td>[\\n, 17745226, \\n]</td>\n",
       "      <td>NaN</td>\n",
       "      <td>61,000 km</td>\n",
       "      <td>09/2002</td>\n",
       "      <td>[\\nManual\\n]</td>\n",
       "      <td>LPG</td>\n",
       "      <td>Blue</td>\n",
       "      <td>Metallic</td>\n",
       "      <td>[Unico Proprietario, Soli 61000Km, Bellissime ...</td>\n",
       "      <td>Dealer</td>\n",
       "      <td>[\\n, 4, \\n]</td>\n",
       "      <td>[\\n120 kW (163 hp)\\n]</td>\n",
       "      <td>[\\n1,984 cc\\n]</td>\n",
       "      <td>[\\n5\\n]</td>\n",
       "      <td>230 g/km (comb.)</td>\n",
       "      <td>Blu</td>\n",
       "      <td>[\\n, Front, \\n]</td>\n",
       "      <td>[\\n5\\n]</td>\n",
       "      <td>[[9.7 l/100 km (comb.)], [13.5 l/100 km (city)...</td>\n",
       "      <td>[Air conditioning, Armrest, Automatic climate ...</td>\n",
       "      <td>[CD player, Radio]</td>\n",
       "      <td>[ABS, Alarm system, Central door lock, Driver-...</td>\n",
       "      <td>[Alloy wheels (16\")]</td>\n",
       "      <td>[\\n1,681 kg\\n]</td>\n",
       "      <td>NaN</td>\n",
       "      <td>07/2023</td>\n",
       "      <td>07/2021</td>\n",
       "      <td>NaN</td>\n",
       "      <td>Yes</td>\n",
       "      <td>Euro 3</td>\n",
       "      <td>NaN</td>\n",
       "      <td>Grey</td>\n",
       "      <td>Full leather</td>\n",
       "      <td>NaN</td>\n",
       "      <td>[[61,000 km, 09/2002], 1]</td>\n",
       "      <td>NaN</td>\n",
       "      <td>NaN</td>\n",
       "      <td>NaN</td>\n",
       "      <td>NaN</td>\n",
       "      <td>NaN</td>\n",
       "      <td>NaN</td>\n",
       "      <td>NaN</td>\n",
       "      <td>NaN</td>\n",
       "      <td>NaN</td>\n",
       "      <td>06/2014</td>\n",
       "      <td>NaN</td>\n",
       "      <td>NaN</td>\n",
       "      <td>NaN</td>\n",
       "    </tr>\n",
       "  </tbody>\n",
       "</table>\n",
       "</div>"
      ],
      "text/plain": [
       "                make_model                                  short_description  \\\n",
       "5979        Renault Laguna         Laguna SporTour 2.0 dci 16v 4Control 150cv   \n",
       "9573           Peugeot 208  1.2PureTech Allure Pack LED/Airco/DAB **NIEUWS...   \n",
       "22600  Ford Mustang Mach-E                         AWD *LED*iACC*NAVI*360CAM*   \n",
       "16229          Dacia Logan                                     II MCV Comfort   \n",
       "26869            Volvo C70                       2.0i turbo 20V cat Cabriolet   \n",
       "\n",
       "              make                     model  \\\n",
       "5979   \\nRenault\\n          [\\n, Laguna ,\\n]   \n",
       "9573   \\nPeugeot\\n             [\\n, 208 ,\\n]   \n",
       "22600     \\nFord\\n  [\\n, Mustang Mach-E ,\\n]   \n",
       "16229    \\nDacia\\n           [\\n, Logan ,\\n]   \n",
       "26869    \\nVolvo\\n             [\\n, C70 ,\\n]   \n",
       "\n",
       "                                                location       price  \\\n",
       "5979                                   95126 Catania, IT   € 4,000.-   \n",
       "9573                Emiel Clauslaan 88,  9800 Deinze, BE  € 20,950.-   \n",
       "22600                Donaustraße 5c,  86165 Augsburg, DE  € 57,250.-   \n",
       "16229                Hansestr. 1,  51688 Wipperfürth, DE   € 9,800.-   \n",
       "26869  Via Vandelli, 2,  41050 Castelnuovo Rangone - ...  € 18,650.-   \n",
       "\n",
       "                        Body type                     Type        Doors  \\\n",
       "5979              [\\n, Coupe, \\n]           [\\n, Used, \\n]  [\\n, 5, \\n]   \n",
       "9573              [\\n, Sedan, \\n]           [\\n, Used, \\n]  [\\n, 5, \\n]   \n",
       "22600  [\\n, Off-Road/Pick-up, \\n]  [\\n, Demonstration, \\n]  [\\n, 5, \\n]   \n",
       "16229     [\\n, Station wagon, \\n]           [\\n, Used, \\n]  [\\n, 4, \\n]   \n",
       "26869       [\\n, Convertible, \\n]           [\\n, Used, \\n]  [\\n, 2, \\n]   \n",
       "\n",
       "         Country version        Offer number             Warranty     Mileage  \\\n",
       "5979                 NaN                 NaN                  NaN  305,000 km   \n",
       "9573                 NaN     [\\n, 16303, \\n]  [\\n, 12 months, \\n]    2,546 km   \n",
       "22600  [\\n, Germany, \\n]  [\\n, MMA60127, \\n]  [\\n, 24 months, \\n]    9,500 km   \n",
       "16229  [\\n, Germany, \\n]                 NaN        [\\n, Yes, \\n]   70,298 km   \n",
       "26869                NaN  [\\n, 17745226, \\n]                  NaN   61,000 km   \n",
       "\n",
       "      First registration          Gearbox                 Fuel type  Colour  \\\n",
       "5979             05/2010     [\\nManual\\n]  Diesel (Particle filter)    Grey   \n",
       "9573             11/2021     [\\nManual\\n]                  Gasoline  Yellow   \n",
       "22600            05/2022  [\\nAutomatic\\n]                       NaN     Red   \n",
       "16229            02/2019     [\\nManual\\n]        Regular/Benzine 91   White   \n",
       "26869            09/2002     [\\nManual\\n]                       LPG    Blue   \n",
       "\n",
       "          Paint                                               desc  \\\n",
       "5979   Metallic  [Auto Ferma da 2 anni, necessita solo di una m...   \n",
       "9573        NaN  [Neerklapbare achterbank, ,  , OCCASIECENTER D...   \n",
       "22600       NaN  [Ihre Ansprechpartner für dieses KFZ:,  ,  , A...   \n",
       "16229       NaN  [Fahrzeug hat rundrum leichte Einparkschäden, ...   \n",
       "26869  Metallic  [Unico Proprietario, Soli 61000Km, Bellissime ...   \n",
       "\n",
       "               seller        Seats                  Power     Engine size  \\\n",
       "5979   Private seller  [\\n, 5, \\n]  [\\n110 kW (150 hp)\\n]  [\\n1,995 cc\\n]   \n",
       "9573           Dealer          NaN    [\\n55 kW (75 hp)\\n]  [\\n1,199 cc\\n]   \n",
       "22600          Dealer  [\\n, 5, \\n]  [\\n198 kW (269 hp)\\n]      [\\n0 cc\\n]   \n",
       "16229          Dealer  [\\n, 5, \\n]    [\\n66 kW (90 hp)\\n]    [\\n898 cc\\n]   \n",
       "26869          Dealer  [\\n, 4, \\n]  [\\n120 kW (163 hp)\\n]  [\\n1,984 cc\\n]   \n",
       "\n",
       "         Gears     CO₂-emissions Manufacturer colour       Drivetrain  \\\n",
       "5979   [\\n6\\n]  153 g/km (comb.)                 NaN              NaN   \n",
       "9573   [\\n5\\n]  115 g/km (comb.)                 NaN  [\\n, Front, \\n]   \n",
       "22600  [\\n1\\n]               NaN           Lucid-Rot    [\\n, 4WD, \\n]   \n",
       "16229      NaN  120 g/km (comb.)       WEISS GLACIER              NaN   \n",
       "26869  [\\n5\\n]  230 g/km (comb.)                 Blu  [\\n, Front, \\n]   \n",
       "\n",
       "      Cylinders                                   Fuel consumption  \\\n",
       "5979    [\\n4\\n]  [[5.9 l/100 km (comb.)], [7.4 l/100 km (city)]...   \n",
       "9573        NaN                                                NaN   \n",
       "22600       NaN                                                NaN   \n",
       "16229       NaN  [[5.3 l/100 km (comb.)], [6.6 l/100 km (city)]...   \n",
       "26869   [\\n5\\n]  [[9.7 l/100 km (comb.)], [13.5 l/100 km (city)...   \n",
       "\n",
       "                               \\nComfort & Convenience\\n  \\\n",
       "5979   [Armrest, Automatic climate control, 2 zones, ...   \n",
       "9573   [Air conditioning, Automatic climate control, ...   \n",
       "22600  [360° camera, Air conditioning, Armrest, Autom...   \n",
       "16229  [Air conditioning, Armrest, Cruise control, El...   \n",
       "26869  [Air conditioning, Armrest, Automatic climate ...   \n",
       "\n",
       "                               \\nEntertainment & Media\\n  \\\n",
       "5979   [Bluetooth, Hands-free equipment, MP3, On-boar...   \n",
       "9573   [Android Auto, Apple CarPlay, Bluetooth, Digit...   \n",
       "22600  [Android Auto, Apple CarPlay, Bluetooth, Digit...   \n",
       "16229  [Bluetooth, CD player, Hands-free equipment, O...   \n",
       "26869                                 [CD player, Radio]   \n",
       "\n",
       "                                   \\nSafety & Security\\n  \\\n",
       "5979   [ABS, Alarm system, Central door lock, Central...   \n",
       "9573   [Central door lock, Driver-side airbag, Isofix...   \n",
       "22600  [ABS, Adaptive Cruise Control, Adaptive headli...   \n",
       "16229  [ABS, Central door lock, Daytime running light...   \n",
       "26869  [ABS, Alarm system, Central door lock, Driver-...   \n",
       "\n",
       "                                              \\nExtras\\n    Empty weight  \\\n",
       "5979   [Alloy wheels (18\"), Ambient lighting, Automat...  [\\n1,576 kg\\n]   \n",
       "9573   [Alloy wheels, Electronic parking brake, Touch...             NaN   \n",
       "22600  [Alloy wheels (19\"), Ambient lighting, Automat...             NaN   \n",
       "16229  [Cargo barrier, Steel wheels, Summer tyres, To...             NaN   \n",
       "26869                               [Alloy wheels (16\")]  [\\n1,681 kg\\n]   \n",
       "\n",
       "               Model code General inspection Last service  \\\n",
       "5979                  NaN            09/2022          NaN   \n",
       "9573                  NaN                NaN          NaN   \n",
       "22600  [\\n, 8566/BUN, \\n]                New          NaN   \n",
       "16229                 NaN                New          NaN   \n",
       "26869                 NaN            07/2023      07/2021   \n",
       "\n",
       "      Full service history Non-smoker vehicle Emission class  \\\n",
       "5979                   NaN                Yes            NaN   \n",
       "9573                   NaN                Yes         Euro 6   \n",
       "22600                  Yes                Yes            NaN   \n",
       "16229                  Yes                NaN         Euro 6   \n",
       "26869                  NaN                Yes         Euro 3   \n",
       "\n",
       "      Emissions sticker Upholstery colour    Upholstery  Production date  \\\n",
       "5979                NaN             Black  Part leather              NaN   \n",
       "9573                NaN             Black         Cloth              NaN   \n",
       "22600    1 (No sticker)             Black  Full leather          2022.00   \n",
       "16229         4 (Green)             Black         Cloth              NaN   \n",
       "26869               NaN              Grey  Full leather              NaN   \n",
       "\n",
       "                   Previous owner Other fuel types        Power consumption  \\\n",
       "5979   [[305,000 km, 05/2010], 1]              NaN                      NaN   \n",
       "9573     [[2,546 km, 11/2021], 1]              NaN                      NaN   \n",
       "22600    [[9,500 km, 05/2022], 1]      Electricity  17.2 kWh/100 km (comb.)   \n",
       "16229   [[70,298 km, 02/2019], 1]              NaN                      NaN   \n",
       "26869   [[61,000 km, 09/2002], 1]              NaN                      NaN   \n",
       "\n",
       "      Energy efficiency class  \\\n",
       "5979                      NaN   \n",
       "9573                      NaN   \n",
       "22600                    A+++   \n",
       "16229                     NaN   \n",
       "26869                     NaN   \n",
       "\n",
       "                                          CO₂-efficiency  \\\n",
       "5979                                                 NaN   \n",
       "9573                                                 NaN   \n",
       "22600  Calculated on basis of measured CO₂-emissions ...   \n",
       "16229                                                NaN   \n",
       "26869                                                NaN   \n",
       "\n",
       "      Fuel consumption (WLTP) CO₂-emissions (WLTP) Available from  \\\n",
       "5979                      NaN                  NaN            NaN   \n",
       "9573                      NaN                  NaN            NaN   \n",
       "22600                     NaN                  NaN            NaN   \n",
       "16229                     NaN                  NaN            NaN   \n",
       "26869                     NaN                  NaN            NaN   \n",
       "\n",
       "      Taxi or rental car                      Availability  \\\n",
       "5979                 NaN                               NaN   \n",
       "9573                 NaN                               NaN   \n",
       "22600                NaN  [\\n, in 60 days after order, \\n]   \n",
       "16229                NaN                               NaN   \n",
       "26869                NaN                               NaN   \n",
       "\n",
       "      Last timing belt change Electric Range (WLTP) Power consumption (WLTP)  \\\n",
       "5979                      NaN                   NaN                      NaN   \n",
       "9573                      NaN                   NaN                      NaN   \n",
       "22600                     NaN                   NaN                      NaN   \n",
       "16229                     NaN                   NaN                      NaN   \n",
       "26869                 06/2014                   NaN                      NaN   \n",
       "\n",
       "      Battery Ownership  \n",
       "5979                NaN  \n",
       "9573                NaN  \n",
       "22600               NaN  \n",
       "16229               NaN  \n",
       "26869               NaN  "
      ]
     },
     "execution_count": 3,
     "metadata": {},
     "output_type": "execute_result"
    }
   ],
   "source": [
    "df0.sample(5)"
   ]
  },
  {
   "cell_type": "code",
   "execution_count": 4,
   "metadata": {
    "scrolled": true,
    "tags": []
   },
   "outputs": [
    {
     "name": "stdout",
     "output_type": "stream",
     "text": [
      "<class 'pandas.core.frame.DataFrame'>\n",
      "RangeIndex: 29480 entries, 0 to 29479\n",
      "Data columns (total 58 columns):\n",
      " #   Column                    Non-Null Count  Dtype  \n",
      "---  ------                    --------------  -----  \n",
      " 0   make_model                28630 non-null  object \n",
      " 1   short_description         28630 non-null  object \n",
      " 2   make                      28630 non-null  object \n",
      " 3   model                     28630 non-null  object \n",
      " 4   location                  28630 non-null  object \n",
      " 5   price                     28630 non-null  object \n",
      " 6   Body type                 28630 non-null  object \n",
      " 7   Type                      28630 non-null  object \n",
      " 8   Doors                     28271 non-null  object \n",
      " 9   Country version           16889 non-null  object \n",
      " 10  Offer number              23100 non-null  object \n",
      " 11  Warranty                  15784 non-null  object \n",
      " 12  Mileage                   28629 non-null  object \n",
      " 13  First registration        28628 non-null  object \n",
      " 14  Gearbox                   28382 non-null  object \n",
      " 15  Fuel type                 26843 non-null  object \n",
      " 16  Colour                    26906 non-null  object \n",
      " 17  Paint                     14495 non-null  object \n",
      " 18  desc                      28047 non-null  object \n",
      " 19  seller                    28630 non-null  object \n",
      " 20  Seats                     25505 non-null  object \n",
      " 21  Power                     28058 non-null  object \n",
      " 22  Engine size               27227 non-null  object \n",
      " 23  Gears                     18954 non-null  object \n",
      " 24  CO₂-emissions             18594 non-null  object \n",
      " 25  Manufacturer colour       21787 non-null  object \n",
      " 26  Drivetrain                16893 non-null  object \n",
      " 27  Cylinders                 18852 non-null  object \n",
      " 28  Fuel consumption          23385 non-null  object \n",
      " 29  \n",
      "Comfort & Convenience\n",
      "   25433 non-null  object \n",
      " 30  \n",
      "Entertainment & Media\n",
      "   23644 non-null  object \n",
      " 31  \n",
      "Safety & Security\n",
      "       25415 non-null  object \n",
      " 32  \n",
      "Extras\n",
      "                  23480 non-null  object \n",
      " 33  Empty weight              17758 non-null  object \n",
      " 34  Model code                8367 non-null   object \n",
      " 35  General inspection        12254 non-null  object \n",
      " 36  Last service              2003 non-null   object \n",
      " 37  Full service history      12565 non-null  object \n",
      " 38  Non-smoker vehicle        11594 non-null  object \n",
      " 39  Emission class            17859 non-null  object \n",
      " 40  Emissions sticker         9414 non-null   object \n",
      " 41  Upholstery colour         14569 non-null  object \n",
      " 42  Upholstery                18610 non-null  object \n",
      " 43  Production date           5908 non-null   float64\n",
      " 44  Previous owner            14015 non-null  object \n",
      " 45  Other fuel types          2313 non-null   object \n",
      " 46  Power consumption         515 non-null    object \n",
      " 47  Energy efficiency class   7804 non-null   object \n",
      " 48  CO₂-efficiency            7804 non-null   object \n",
      " 49  Fuel consumption (WLTP)   100 non-null    object \n",
      " 50  CO₂-emissions (WLTP)      116 non-null    object \n",
      " 51  Available from            393 non-null    object \n",
      " 52  Taxi or rental car        422 non-null    object \n",
      " 53  Availability              301 non-null    object \n",
      " 54  Last timing belt change   572 non-null    object \n",
      " 55  Electric Range (WLTP)     16 non-null     object \n",
      " 56  Power consumption (WLTP)  16 non-null     object \n",
      " 57  Battery Ownership         7 non-null      object \n",
      "dtypes: float64(1), object(57)\n",
      "memory usage: 13.0+ MB\n"
     ]
    }
   ],
   "source": [
    "df0.info()"
   ]
  },
  {
   "cell_type": "markdown",
   "metadata": {},
   "source": [
    "# df"
   ]
  },
  {
   "cell_type": "code",
   "execution_count": 5,
   "metadata": {
    "tags": []
   },
   "outputs": [],
   "source": [
    "df = df0.copy()"
   ]
  },
  {
   "cell_type": "code",
   "execution_count": 6,
   "metadata": {
    "tags": []
   },
   "outputs": [
    {
     "data": {
      "text/plain": [
       "(29480, 58)"
      ]
     },
     "execution_count": 6,
     "metadata": {},
     "output_type": "execute_result"
    }
   ],
   "source": [
    "df.shape"
   ]
  },
  {
   "cell_type": "code",
   "execution_count": 7,
   "metadata": {
    "scrolled": true,
    "tags": []
   },
   "outputs": [
    {
     "data": {
      "text/html": [
       "<div>\n",
       "<style scoped>\n",
       "    .dataframe tbody tr th:only-of-type {\n",
       "        vertical-align: middle;\n",
       "    }\n",
       "\n",
       "    .dataframe tbody tr th {\n",
       "        vertical-align: top;\n",
       "    }\n",
       "\n",
       "    .dataframe thead th {\n",
       "        text-align: right;\n",
       "    }\n",
       "</style>\n",
       "<table border=\"1\" class=\"dataframe\">\n",
       "  <thead>\n",
       "    <tr style=\"text-align: right;\">\n",
       "      <th></th>\n",
       "      <th>make_model</th>\n",
       "      <th>short_description</th>\n",
       "      <th>make</th>\n",
       "      <th>model</th>\n",
       "      <th>location</th>\n",
       "      <th>price</th>\n",
       "      <th>Body type</th>\n",
       "      <th>Type</th>\n",
       "      <th>Doors</th>\n",
       "      <th>Country version</th>\n",
       "      <th>Offer number</th>\n",
       "      <th>Warranty</th>\n",
       "      <th>Mileage</th>\n",
       "      <th>First registration</th>\n",
       "      <th>Gearbox</th>\n",
       "      <th>Fuel type</th>\n",
       "      <th>Colour</th>\n",
       "      <th>Paint</th>\n",
       "      <th>desc</th>\n",
       "      <th>seller</th>\n",
       "      <th>Seats</th>\n",
       "      <th>Power</th>\n",
       "      <th>Engine size</th>\n",
       "      <th>Gears</th>\n",
       "      <th>CO₂-emissions</th>\n",
       "      <th>Manufacturer colour</th>\n",
       "      <th>Drivetrain</th>\n",
       "      <th>Cylinders</th>\n",
       "      <th>Fuel consumption</th>\n",
       "      <th>\\nComfort &amp; Convenience\\n</th>\n",
       "      <th>\\nEntertainment &amp; Media\\n</th>\n",
       "      <th>\\nSafety &amp; Security\\n</th>\n",
       "      <th>\\nExtras\\n</th>\n",
       "      <th>Empty weight</th>\n",
       "      <th>Model code</th>\n",
       "      <th>General inspection</th>\n",
       "      <th>Last service</th>\n",
       "      <th>Full service history</th>\n",
       "      <th>Non-smoker vehicle</th>\n",
       "      <th>Emission class</th>\n",
       "      <th>Emissions sticker</th>\n",
       "      <th>Upholstery colour</th>\n",
       "      <th>Upholstery</th>\n",
       "      <th>Production date</th>\n",
       "      <th>Previous owner</th>\n",
       "      <th>Other fuel types</th>\n",
       "      <th>Power consumption</th>\n",
       "      <th>Energy efficiency class</th>\n",
       "      <th>CO₂-efficiency</th>\n",
       "      <th>Fuel consumption (WLTP)</th>\n",
       "      <th>CO₂-emissions (WLTP)</th>\n",
       "      <th>Available from</th>\n",
       "      <th>Taxi or rental car</th>\n",
       "      <th>Availability</th>\n",
       "      <th>Last timing belt change</th>\n",
       "      <th>Electric Range (WLTP)</th>\n",
       "      <th>Power consumption (WLTP)</th>\n",
       "      <th>Battery Ownership</th>\n",
       "    </tr>\n",
       "  </thead>\n",
       "  <tbody>\n",
       "    <tr>\n",
       "      <th>15807</th>\n",
       "      <td>Dacia Duster</td>\n",
       "      <td>PRESTIGE 1.6SCe LPG 84kW(114ch) 5V * GPS * CUI...</td>\n",
       "      <td>\\nDacia\\n</td>\n",
       "      <td>[\\n, Duster ,\\n]</td>\n",
       "      <td>Route de Marche 8B,  5377 Baillonville, BE</td>\n",
       "      <td>€ 18,490.-</td>\n",
       "      <td>[\\n, Off-Road/Pick-up, \\n]</td>\n",
       "      <td>[\\n, Used, \\n]</td>\n",
       "      <td>[\\n, 5, \\n]</td>\n",
       "      <td>[\\n, Belgium, \\n]</td>\n",
       "      <td>[\\n, 3490_35317, \\n]</td>\n",
       "      <td>[\\n, 12 months, \\n]</td>\n",
       "      <td>50,706 km</td>\n",
       "      <td>08/2019</td>\n",
       "      <td>[\\nManual\\n]</td>\n",
       "      <td>Gasoline (Particle filter)</td>\n",
       "      <td>Grey</td>\n",
       "      <td>Metallic</td>\n",
       "      <td>[Nos réf : *BLV-VO15250-27*, TCO (coût total à...</td>\n",
       "      <td>Dealer</td>\n",
       "      <td>[\\n, 5, \\n]</td>\n",
       "      <td>[\\n84 kW (114 hp)\\n]</td>\n",
       "      <td>[\\n1,598 cc\\n]</td>\n",
       "      <td>NaN</td>\n",
       "      <td>149 g/km (comb.)</td>\n",
       "      <td>GRIS COMETE</td>\n",
       "      <td>NaN</td>\n",
       "      <td>NaN</td>\n",
       "      <td>[[6.5 l/100 km (comb.)], [8 l/100 km (city)], ...</td>\n",
       "      <td>[Electrically heated windshield, Power windows...</td>\n",
       "      <td>[On-board computer, Radio]</td>\n",
       "      <td>[ABS, Driver-side airbag, Electronic stability...</td>\n",
       "      <td>[Roof rack]</td>\n",
       "      <td>NaN</td>\n",
       "      <td>NaN</td>\n",
       "      <td>NaN</td>\n",
       "      <td>NaN</td>\n",
       "      <td>Yes</td>\n",
       "      <td>Yes</td>\n",
       "      <td>Euro 6d-TEMP</td>\n",
       "      <td>NaN</td>\n",
       "      <td>Black</td>\n",
       "      <td>Full leather</td>\n",
       "      <td>NaN</td>\n",
       "      <td>[[50,706 km, 08/2019], 1]</td>\n",
       "      <td>NaN</td>\n",
       "      <td>NaN</td>\n",
       "      <td>NaN</td>\n",
       "      <td>NaN</td>\n",
       "      <td>NaN</td>\n",
       "      <td>NaN</td>\n",
       "      <td>NaN</td>\n",
       "      <td>NaN</td>\n",
       "      <td>NaN</td>\n",
       "      <td>NaN</td>\n",
       "      <td>NaN</td>\n",
       "      <td>NaN</td>\n",
       "      <td>NaN</td>\n",
       "    </tr>\n",
       "    <tr>\n",
       "      <th>17941</th>\n",
       "      <td>Toyota GT86</td>\n",
       "      <td>2,0 Boxer D4-S Aut.</td>\n",
       "      <td>\\nToyota\\n</td>\n",
       "      <td>[\\n, GT86 ,\\n]</td>\n",
       "      <td>Betriebsgebiet Nord,  7123 Mönchhof, AT</td>\n",
       "      <td>€ 19,990.-</td>\n",
       "      <td>[\\n, Coupe, \\n]</td>\n",
       "      <td>[\\n, Used, \\n]</td>\n",
       "      <td>[\\n, 3, \\n]</td>\n",
       "      <td>NaN</td>\n",
       "      <td>NaN</td>\n",
       "      <td>NaN</td>\n",
       "      <td>126,000 km</td>\n",
       "      <td>09/2012</td>\n",
       "      <td>[\\nAutomatic\\n]</td>\n",
       "      <td>Gasoline</td>\n",
       "      <td>Black</td>\n",
       "      <td>Metallic</td>\n",
       "      <td>NaN</td>\n",
       "      <td>Dealer</td>\n",
       "      <td>[\\n, 4, \\n]</td>\n",
       "      <td>[\\n147 kW (200 hp)\\n]</td>\n",
       "      <td>[\\n1,998 cc\\n]</td>\n",
       "      <td>[\\n6\\n]</td>\n",
       "      <td>NaN</td>\n",
       "      <td>NaN</td>\n",
       "      <td>NaN</td>\n",
       "      <td>[\\n4\\n]</td>\n",
       "      <td>[[7.1 l/100 km (comb.)], [9.6 l/100 km (city)]...</td>\n",
       "      <td>[Air conditioning, Automatic climate control, ...</td>\n",
       "      <td>[Bluetooth, Hands-free equipment, On-board com...</td>\n",
       "      <td>[ABS, Central door lock, Daytime running light...</td>\n",
       "      <td>[Alloy wheels, Headlight washer system, Spoiler]</td>\n",
       "      <td>[\\n1,250 kg\\n]</td>\n",
       "      <td>NaN</td>\n",
       "      <td>NaN</td>\n",
       "      <td>NaN</td>\n",
       "      <td>Yes</td>\n",
       "      <td>Yes</td>\n",
       "      <td>Euro 5</td>\n",
       "      <td>NaN</td>\n",
       "      <td>Black</td>\n",
       "      <td>Part leather</td>\n",
       "      <td>NaN</td>\n",
       "      <td>[[126,000 km, 09/2012], 2]</td>\n",
       "      <td>NaN</td>\n",
       "      <td>NaN</td>\n",
       "      <td>NaN</td>\n",
       "      <td>NaN</td>\n",
       "      <td>NaN</td>\n",
       "      <td>NaN</td>\n",
       "      <td>NaN</td>\n",
       "      <td>NaN</td>\n",
       "      <td>NaN</td>\n",
       "      <td>NaN</td>\n",
       "      <td>NaN</td>\n",
       "      <td>NaN</td>\n",
       "      <td>NaN</td>\n",
       "    </tr>\n",
       "    <tr>\n",
       "      <th>14123</th>\n",
       "      <td>Skoda Fabia</td>\n",
       "      <td>1.0 TSI Like 70kW</td>\n",
       "      <td>\\nSkoda\\n</td>\n",
       "      <td>[\\n, Fabia ,\\n]</td>\n",
       "      <td>CARRETERA FUENCARRAL A HORTALEZA 89 D,  28050 ...</td>\n",
       "      <td>€ 12,299.-</td>\n",
       "      <td>[\\n, Compact, \\n]</td>\n",
       "      <td>[\\n, Used, \\n]</td>\n",
       "      <td>[\\n, 5, \\n]</td>\n",
       "      <td>[\\n, Spain, \\n]</td>\n",
       "      <td>[\\n, 7469369, \\n]</td>\n",
       "      <td>[\\n, 12 months, \\n]</td>\n",
       "      <td>35,089 km</td>\n",
       "      <td>07/2018</td>\n",
       "      <td>[\\nManual\\n]</td>\n",
       "      <td>Gasoline</td>\n",
       "      <td>Red</td>\n",
       "      <td>NaN</td>\n",
       "      <td>[ , Precio al contado: 13499 euros,  , AUTOHER...</td>\n",
       "      <td>Dealer</td>\n",
       "      <td>[\\n, 5, \\n]</td>\n",
       "      <td>[\\n70 kW (95 hp)\\n]</td>\n",
       "      <td>[\\n999 cc\\n]</td>\n",
       "      <td>[\\n5\\n]</td>\n",
       "      <td>NaN</td>\n",
       "      <td>Rojo</td>\n",
       "      <td>[\\n, Front, \\n]</td>\n",
       "      <td>[\\n3\\n]</td>\n",
       "      <td>[[4.3 l/100 km (comb.)], [5.1 l/100 km (city)]...</td>\n",
       "      <td>[Electrical side mirrors, Multi-function steer...</td>\n",
       "      <td>[Bluetooth, On-board computer]</td>\n",
       "      <td>[ABS, Central door lock, Driver-side airbag, I...</td>\n",
       "      <td>[Alloy wheels]</td>\n",
       "      <td>[\\n1,110 kg\\n]</td>\n",
       "      <td>NaN</td>\n",
       "      <td>NaN</td>\n",
       "      <td>NaN</td>\n",
       "      <td>NaN</td>\n",
       "      <td>NaN</td>\n",
       "      <td>NaN</td>\n",
       "      <td>NaN</td>\n",
       "      <td>NaN</td>\n",
       "      <td>NaN</td>\n",
       "      <td>NaN</td>\n",
       "      <td>NaN</td>\n",
       "      <td>NaN</td>\n",
       "      <td>NaN</td>\n",
       "      <td>NaN</td>\n",
       "      <td>NaN</td>\n",
       "      <td>NaN</td>\n",
       "      <td>NaN</td>\n",
       "      <td>NaN</td>\n",
       "      <td>NaN</td>\n",
       "      <td>NaN</td>\n",
       "      <td>NaN</td>\n",
       "      <td>NaN</td>\n",
       "      <td>NaN</td>\n",
       "      <td>NaN</td>\n",
       "    </tr>\n",
       "    <tr>\n",
       "      <th>8192</th>\n",
       "      <td>Peugeot 207</td>\n",
       "      <td>CC Cabrio-Coupe Filou</td>\n",
       "      <td>\\nPeugeot\\n</td>\n",
       "      <td>[\\n, 207 ,\\n]</td>\n",
       "      <td>Im Altenschemel 78,  67435 Lachen-speyerdorf, DE</td>\n",
       "      <td>€ 2,650.-</td>\n",
       "      <td>[\\n, Coupe, \\n]</td>\n",
       "      <td>[\\n, Used, \\n]</td>\n",
       "      <td>[\\n, 2, \\n]</td>\n",
       "      <td>NaN</td>\n",
       "      <td>[\\n, 107, \\n]</td>\n",
       "      <td>NaN</td>\n",
       "      <td>222,607 km</td>\n",
       "      <td>06/2008</td>\n",
       "      <td>[\\nManual\\n]</td>\n",
       "      <td>Regular/Benzine 91</td>\n",
       "      <td>Black</td>\n",
       "      <td>Metallic</td>\n",
       "      <td>[Sonderausstattung:,  LM-Felgen 6x16 (Spa), Me...</td>\n",
       "      <td>Dealer</td>\n",
       "      <td>[\\n, 4, \\n]</td>\n",
       "      <td>[\\n88 kW (120 hp)\\n]</td>\n",
       "      <td>[\\n1,598 cc\\n]</td>\n",
       "      <td>NaN</td>\n",
       "      <td>155 g/km (comb.)</td>\n",
       "      <td>FARBE SCHWARZ OBSIDIEN/METALLI</td>\n",
       "      <td>NaN</td>\n",
       "      <td>NaN</td>\n",
       "      <td>[[6.5 l/100 km (comb.)], [8.8 l/100 km (city)]...</td>\n",
       "      <td>[Air conditioning, Electrical side mirrors, Po...</td>\n",
       "      <td>[Radio]</td>\n",
       "      <td>[ABS, Central door lock, Driver-side airbag, E...</td>\n",
       "      <td>[Alloy wheels, Sport seats]</td>\n",
       "      <td>NaN</td>\n",
       "      <td>NaN</td>\n",
       "      <td>07/2023</td>\n",
       "      <td>NaN</td>\n",
       "      <td>Yes</td>\n",
       "      <td>NaN</td>\n",
       "      <td>Euro 4</td>\n",
       "      <td>4 (Green)</td>\n",
       "      <td>Black</td>\n",
       "      <td>Cloth</td>\n",
       "      <td>NaN</td>\n",
       "      <td>NaN</td>\n",
       "      <td>NaN</td>\n",
       "      <td>NaN</td>\n",
       "      <td>NaN</td>\n",
       "      <td>NaN</td>\n",
       "      <td>NaN</td>\n",
       "      <td>NaN</td>\n",
       "      <td>NaN</td>\n",
       "      <td>NaN</td>\n",
       "      <td>NaN</td>\n",
       "      <td>NaN</td>\n",
       "      <td>NaN</td>\n",
       "      <td>NaN</td>\n",
       "      <td>NaN</td>\n",
       "    </tr>\n",
       "    <tr>\n",
       "      <th>23642</th>\n",
       "      <td>Ford Fiesta</td>\n",
       "      <td>ST-Line; Tageszulassung</td>\n",
       "      <td>\\nFord\\n</td>\n",
       "      <td>[\\n, Fiesta ,\\n]</td>\n",
       "      <td>Ludwig-Erhard-Str. 1-3,  03238 Massen, DE</td>\n",
       "      <td>€ 23,500.-</td>\n",
       "      <td>[\\n, Sedan, \\n]</td>\n",
       "      <td>[\\n, Pre-registered, \\n]</td>\n",
       "      <td>[\\n, 5, \\n]</td>\n",
       "      <td>[\\n, Germany, \\n]</td>\n",
       "      <td>[\\n, 8, \\n]</td>\n",
       "      <td>NaN</td>\n",
       "      <td>30 km</td>\n",
       "      <td>05/2022</td>\n",
       "      <td>[\\nManual\\n]</td>\n",
       "      <td>Super E10 95</td>\n",
       "      <td>Grey</td>\n",
       "      <td>Metallic</td>\n",
       "      <td>[DAB-Radio, Bluetooth, Notrufassistent, Apple ...</td>\n",
       "      <td>Dealer</td>\n",
       "      <td>[\\n, 5, \\n]</td>\n",
       "      <td>[\\n92 kW (125 hp)\\n]</td>\n",
       "      <td>[\\n999 cc\\n]</td>\n",
       "      <td>[\\n6\\n]</td>\n",
       "      <td>112 g/km (comb.)</td>\n",
       "      <td>Magnetic-Grau (Metallic)</td>\n",
       "      <td>NaN</td>\n",
       "      <td>[\\n3\\n]</td>\n",
       "      <td>[[4.9 l/100 km (comb.)]]</td>\n",
       "      <td>[Air conditioning, Armrest, Automatic climate ...</td>\n",
       "      <td>[Bluetooth, Digital radio, On-board computer, ...</td>\n",
       "      <td>[ABS, Central door lock, Central door lock wit...</td>\n",
       "      <td>[Alloy wheels, Emergency tyre repair kit, Spoi...</td>\n",
       "      <td>[\\n1,211 kg\\n]</td>\n",
       "      <td>[\\n, 8566/BUF, \\n]</td>\n",
       "      <td>05/2025</td>\n",
       "      <td>NaN</td>\n",
       "      <td>NaN</td>\n",
       "      <td>NaN</td>\n",
       "      <td>Euro 6d</td>\n",
       "      <td>4 (Green)</td>\n",
       "      <td>NaN</td>\n",
       "      <td>NaN</td>\n",
       "      <td>NaN</td>\n",
       "      <td>NaN</td>\n",
       "      <td>NaN</td>\n",
       "      <td>NaN</td>\n",
       "      <td>B</td>\n",
       "      <td>Calculated on basis of measured CO₂-emissions ...</td>\n",
       "      <td>NaN</td>\n",
       "      <td>NaN</td>\n",
       "      <td>NaN</td>\n",
       "      <td>NaN</td>\n",
       "      <td>NaN</td>\n",
       "      <td>NaN</td>\n",
       "      <td>NaN</td>\n",
       "      <td>NaN</td>\n",
       "      <td>NaN</td>\n",
       "    </tr>\n",
       "    <tr>\n",
       "      <th>26157</th>\n",
       "      <td>Volvo C30</td>\n",
       "      <td>1.6 D Momentum</td>\n",
       "      <td>\\nVolvo\\n</td>\n",
       "      <td>[\\n, C30 ,\\n]</td>\n",
       "      <td>Generaal de wittelaan 7 B,  2800 Mechelen, BE</td>\n",
       "      <td>€ 8,990.-</td>\n",
       "      <td>[\\n, Compact, \\n]</td>\n",
       "      <td>[\\n, Used, \\n]</td>\n",
       "      <td>NaN</td>\n",
       "      <td>NaN</td>\n",
       "      <td>NaN</td>\n",
       "      <td>[\\n, 12 months, \\n]</td>\n",
       "      <td>56,500 km</td>\n",
       "      <td>11/2010</td>\n",
       "      <td>[\\nManual\\n]</td>\n",
       "      <td>Diesel</td>\n",
       "      <td>Grey</td>\n",
       "      <td>Metallic</td>\n",
       "      <td>[Bezoek nu WWW.VERMANTSELEKT.BE ...steeds meer...</td>\n",
       "      <td>Dealer</td>\n",
       "      <td>NaN</td>\n",
       "      <td>[\\n80 kW (109 hp)\\n]</td>\n",
       "      <td>NaN</td>\n",
       "      <td>NaN</td>\n",
       "      <td>NaN</td>\n",
       "      <td>NaN</td>\n",
       "      <td>NaN</td>\n",
       "      <td>NaN</td>\n",
       "      <td>NaN</td>\n",
       "      <td>[Air conditioning, Automatic climate control, ...</td>\n",
       "      <td>[On-board computer]</td>\n",
       "      <td>NaN</td>\n",
       "      <td>[Sport seats]</td>\n",
       "      <td>NaN</td>\n",
       "      <td>NaN</td>\n",
       "      <td>NaN</td>\n",
       "      <td>NaN</td>\n",
       "      <td>NaN</td>\n",
       "      <td>Yes</td>\n",
       "      <td>NaN</td>\n",
       "      <td>NaN</td>\n",
       "      <td>Black</td>\n",
       "      <td>Part leather</td>\n",
       "      <td>NaN</td>\n",
       "      <td>NaN</td>\n",
       "      <td>NaN</td>\n",
       "      <td>NaN</td>\n",
       "      <td>NaN</td>\n",
       "      <td>NaN</td>\n",
       "      <td>NaN</td>\n",
       "      <td>NaN</td>\n",
       "      <td>NaN</td>\n",
       "      <td>NaN</td>\n",
       "      <td>NaN</td>\n",
       "      <td>NaN</td>\n",
       "      <td>NaN</td>\n",
       "      <td>NaN</td>\n",
       "      <td>NaN</td>\n",
       "    </tr>\n",
       "    <tr>\n",
       "      <th>29074</th>\n",
       "      <td>Volvo V60 Cross Country</td>\n",
       "      <td>D4 AWD Geartronic Business Pro , AZIENDALE</td>\n",
       "      <td>\\nVolvo\\n</td>\n",
       "      <td>[\\n, V60 Cross Country ,\\n]</td>\n",
       "      <td>Via A. Diaz, 22,  25010 San Zeno Naviglio, IT</td>\n",
       "      <td>€ 39,480.-</td>\n",
       "      <td>[\\n, Station wagon, \\n]</td>\n",
       "      <td>[\\n, Used, \\n]</td>\n",
       "      <td>[\\n, 5, \\n]</td>\n",
       "      <td>NaN</td>\n",
       "      <td>[\\n, 6169875, \\n]</td>\n",
       "      <td>NaN</td>\n",
       "      <td>27,715 km</td>\n",
       "      <td>07/2020</td>\n",
       "      <td>[\\nAutomatic\\n]</td>\n",
       "      <td>Diesel</td>\n",
       "      <td>Black</td>\n",
       "      <td>NaN</td>\n",
       "      <td>[DEK:[6169875], RIF: 1339497VSZ, Volvo V60 Cro...</td>\n",
       "      <td>Dealer</td>\n",
       "      <td>[\\n, 5, \\n]</td>\n",
       "      <td>[\\n140 kW (190 hp)\\n]</td>\n",
       "      <td>[\\n1,969 cc\\n]</td>\n",
       "      <td>[\\n8\\n]</td>\n",
       "      <td>135 g/km (comb.)</td>\n",
       "      <td>Nero</td>\n",
       "      <td>[\\n, 4WD, \\n]</td>\n",
       "      <td>[\\n4\\n]</td>\n",
       "      <td>[[5.1 l/100 km (comb.)], [6.1 l/100 km (city)]...</td>\n",
       "      <td>[Air conditioning, Armrest, Automatic climate ...</td>\n",
       "      <td>[Digital radio, Radio, USB]</td>\n",
       "      <td>[Driver drowsiness detection, Driver-side airb...</td>\n",
       "      <td>[Alloy wheels, Automatically dimming interior ...</td>\n",
       "      <td>NaN</td>\n",
       "      <td>NaN</td>\n",
       "      <td>NaN</td>\n",
       "      <td>NaN</td>\n",
       "      <td>NaN</td>\n",
       "      <td>NaN</td>\n",
       "      <td>Euro 6</td>\n",
       "      <td>NaN</td>\n",
       "      <td>NaN</td>\n",
       "      <td>Full leather</td>\n",
       "      <td>2020.00</td>\n",
       "      <td>NaN</td>\n",
       "      <td>NaN</td>\n",
       "      <td>NaN</td>\n",
       "      <td>NaN</td>\n",
       "      <td>NaN</td>\n",
       "      <td>NaN</td>\n",
       "      <td>NaN</td>\n",
       "      <td>NaN</td>\n",
       "      <td>NaN</td>\n",
       "      <td>NaN</td>\n",
       "      <td>NaN</td>\n",
       "      <td>NaN</td>\n",
       "      <td>NaN</td>\n",
       "      <td>NaN</td>\n",
       "    </tr>\n",
       "    <tr>\n",
       "      <th>19111</th>\n",
       "      <td>Toyota Prius</td>\n",
       "      <td>Plug-in Hybrid Comfort</td>\n",
       "      <td>\\nToyota\\n</td>\n",
       "      <td>[\\n, Prius ,\\n]</td>\n",
       "      <td>Halskestraße 1,  72766 Reutlingen, DE</td>\n",
       "      <td>€ 29,990.-</td>\n",
       "      <td>[\\n, Sedan, \\n]</td>\n",
       "      <td>[\\n, Used, \\n]</td>\n",
       "      <td>[\\n, 5, \\n]</td>\n",
       "      <td>[\\n, Germany, \\n]</td>\n",
       "      <td>[\\n, 102211578, \\n]</td>\n",
       "      <td>[\\n, 12 months, \\n]</td>\n",
       "      <td>37,000 km</td>\n",
       "      <td>06/2019</td>\n",
       "      <td>[\\nAutomatic\\n]</td>\n",
       "      <td>NaN</td>\n",
       "      <td>Blue</td>\n",
       "      <td>Metallic</td>\n",
       "      <td>[Standort: ,  Halskestr. 1 - 72766 Reutlingen ...</td>\n",
       "      <td>Dealer</td>\n",
       "      <td>[\\n, 5, \\n]</td>\n",
       "      <td>[\\n72 kW (98 hp)\\n]</td>\n",
       "      <td>[\\n1,798 cc\\n]</td>\n",
       "      <td>[\\n1\\n]</td>\n",
       "      <td>22 g/km (comb.)</td>\n",
       "      <td>Aqua blue metallic</td>\n",
       "      <td>NaN</td>\n",
       "      <td>[\\n4\\n]</td>\n",
       "      <td>[[1 l/100 km (comb.)]]</td>\n",
       "      <td>[Air conditioning, Armrest, Automatic climate ...</td>\n",
       "      <td>[Bluetooth, CD player, Hands-free equipment, I...</td>\n",
       "      <td>[ABS, Adaptive Cruise Control, Blind spot moni...</td>\n",
       "      <td>[Alloy wheels (15\"), Automatically dimming int...</td>\n",
       "      <td>[\\n1,605 kg\\n]</td>\n",
       "      <td>[\\n, 5013/AKE, \\n]</td>\n",
       "      <td>New</td>\n",
       "      <td>NaN</td>\n",
       "      <td>Yes</td>\n",
       "      <td>Yes</td>\n",
       "      <td>Euro 6</td>\n",
       "      <td>4 (Green)</td>\n",
       "      <td>Black</td>\n",
       "      <td>Cloth</td>\n",
       "      <td>2019.00</td>\n",
       "      <td>[[37,000 km, 06/2019], 1]</td>\n",
       "      <td>Electricity</td>\n",
       "      <td>NaN</td>\n",
       "      <td>A+</td>\n",
       "      <td>Calculated on basis of measured CO₂-emissions ...</td>\n",
       "      <td>NaN</td>\n",
       "      <td>NaN</td>\n",
       "      <td>NaN</td>\n",
       "      <td>NaN</td>\n",
       "      <td>NaN</td>\n",
       "      <td>NaN</td>\n",
       "      <td>NaN</td>\n",
       "      <td>NaN</td>\n",
       "      <td>NaN</td>\n",
       "    </tr>\n",
       "  </tbody>\n",
       "</table>\n",
       "</div>"
      ],
      "text/plain": [
       "                    make_model  \\\n",
       "15807             Dacia Duster   \n",
       "17941              Toyota GT86   \n",
       "14123              Skoda Fabia   \n",
       "8192               Peugeot 207   \n",
       "23642              Ford Fiesta   \n",
       "26157                Volvo C30   \n",
       "29074  Volvo V60 Cross Country   \n",
       "19111             Toyota Prius   \n",
       "\n",
       "                                       short_description         make  \\\n",
       "15807  PRESTIGE 1.6SCe LPG 84kW(114ch) 5V * GPS * CUI...    \\nDacia\\n   \n",
       "17941                                2,0 Boxer D4-S Aut.   \\nToyota\\n   \n",
       "14123                                  1.0 TSI Like 70kW    \\nSkoda\\n   \n",
       "8192                               CC Cabrio-Coupe Filou  \\nPeugeot\\n   \n",
       "23642                            ST-Line; Tageszulassung     \\nFord\\n   \n",
       "26157                                     1.6 D Momentum    \\nVolvo\\n   \n",
       "29074         D4 AWD Geartronic Business Pro , AZIENDALE    \\nVolvo\\n   \n",
       "19111                             Plug-in Hybrid Comfort   \\nToyota\\n   \n",
       "\n",
       "                             model  \\\n",
       "15807             [\\n, Duster ,\\n]   \n",
       "17941               [\\n, GT86 ,\\n]   \n",
       "14123              [\\n, Fabia ,\\n]   \n",
       "8192                 [\\n, 207 ,\\n]   \n",
       "23642             [\\n, Fiesta ,\\n]   \n",
       "26157                [\\n, C30 ,\\n]   \n",
       "29074  [\\n, V60 Cross Country ,\\n]   \n",
       "19111              [\\n, Prius ,\\n]   \n",
       "\n",
       "                                                location       price  \\\n",
       "15807         Route de Marche 8B,  5377 Baillonville, BE  € 18,490.-   \n",
       "17941            Betriebsgebiet Nord,  7123 Mönchhof, AT  € 19,990.-   \n",
       "14123  CARRETERA FUENCARRAL A HORTALEZA 89 D,  28050 ...  € 12,299.-   \n",
       "8192    Im Altenschemel 78,  67435 Lachen-speyerdorf, DE   € 2,650.-   \n",
       "23642          Ludwig-Erhard-Str. 1-3,  03238 Massen, DE  € 23,500.-   \n",
       "26157      Generaal de wittelaan 7 B,  2800 Mechelen, BE   € 8,990.-   \n",
       "29074      Via A. Diaz, 22,  25010 San Zeno Naviglio, IT  € 39,480.-   \n",
       "19111              Halskestraße 1,  72766 Reutlingen, DE  € 29,990.-   \n",
       "\n",
       "                        Body type                      Type        Doors  \\\n",
       "15807  [\\n, Off-Road/Pick-up, \\n]            [\\n, Used, \\n]  [\\n, 5, \\n]   \n",
       "17941             [\\n, Coupe, \\n]            [\\n, Used, \\n]  [\\n, 3, \\n]   \n",
       "14123           [\\n, Compact, \\n]            [\\n, Used, \\n]  [\\n, 5, \\n]   \n",
       "8192              [\\n, Coupe, \\n]            [\\n, Used, \\n]  [\\n, 2, \\n]   \n",
       "23642             [\\n, Sedan, \\n]  [\\n, Pre-registered, \\n]  [\\n, 5, \\n]   \n",
       "26157           [\\n, Compact, \\n]            [\\n, Used, \\n]          NaN   \n",
       "29074     [\\n, Station wagon, \\n]            [\\n, Used, \\n]  [\\n, 5, \\n]   \n",
       "19111             [\\n, Sedan, \\n]            [\\n, Used, \\n]  [\\n, 5, \\n]   \n",
       "\n",
       "         Country version          Offer number             Warranty  \\\n",
       "15807  [\\n, Belgium, \\n]  [\\n, 3490_35317, \\n]  [\\n, 12 months, \\n]   \n",
       "17941                NaN                   NaN                  NaN   \n",
       "14123    [\\n, Spain, \\n]     [\\n, 7469369, \\n]  [\\n, 12 months, \\n]   \n",
       "8192                 NaN         [\\n, 107, \\n]                  NaN   \n",
       "23642  [\\n, Germany, \\n]           [\\n, 8, \\n]                  NaN   \n",
       "26157                NaN                   NaN  [\\n, 12 months, \\n]   \n",
       "29074                NaN     [\\n, 6169875, \\n]                  NaN   \n",
       "19111  [\\n, Germany, \\n]   [\\n, 102211578, \\n]  [\\n, 12 months, \\n]   \n",
       "\n",
       "          Mileage First registration          Gearbox  \\\n",
       "15807   50,706 km            08/2019     [\\nManual\\n]   \n",
       "17941  126,000 km            09/2012  [\\nAutomatic\\n]   \n",
       "14123   35,089 km            07/2018     [\\nManual\\n]   \n",
       "8192   222,607 km            06/2008     [\\nManual\\n]   \n",
       "23642       30 km            05/2022     [\\nManual\\n]   \n",
       "26157   56,500 km            11/2010     [\\nManual\\n]   \n",
       "29074   27,715 km            07/2020  [\\nAutomatic\\n]   \n",
       "19111   37,000 km            06/2019  [\\nAutomatic\\n]   \n",
       "\n",
       "                        Fuel type Colour     Paint  \\\n",
       "15807  Gasoline (Particle filter)   Grey  Metallic   \n",
       "17941                    Gasoline  Black  Metallic   \n",
       "14123                    Gasoline    Red       NaN   \n",
       "8192           Regular/Benzine 91  Black  Metallic   \n",
       "23642                Super E10 95   Grey  Metallic   \n",
       "26157                      Diesel   Grey  Metallic   \n",
       "29074                      Diesel  Black       NaN   \n",
       "19111                         NaN   Blue  Metallic   \n",
       "\n",
       "                                                    desc  seller        Seats  \\\n",
       "15807  [Nos réf : *BLV-VO15250-27*, TCO (coût total à...  Dealer  [\\n, 5, \\n]   \n",
       "17941                                                NaN  Dealer  [\\n, 4, \\n]   \n",
       "14123  [ , Precio al contado: 13499 euros,  , AUTOHER...  Dealer  [\\n, 5, \\n]   \n",
       "8192   [Sonderausstattung:,  LM-Felgen 6x16 (Spa), Me...  Dealer  [\\n, 4, \\n]   \n",
       "23642  [DAB-Radio, Bluetooth, Notrufassistent, Apple ...  Dealer  [\\n, 5, \\n]   \n",
       "26157  [Bezoek nu WWW.VERMANTSELEKT.BE ...steeds meer...  Dealer          NaN   \n",
       "29074  [DEK:[6169875], RIF: 1339497VSZ, Volvo V60 Cro...  Dealer  [\\n, 5, \\n]   \n",
       "19111  [Standort: ,  Halskestr. 1 - 72766 Reutlingen ...  Dealer  [\\n, 5, \\n]   \n",
       "\n",
       "                       Power     Engine size    Gears     CO₂-emissions  \\\n",
       "15807   [\\n84 kW (114 hp)\\n]  [\\n1,598 cc\\n]      NaN  149 g/km (comb.)   \n",
       "17941  [\\n147 kW (200 hp)\\n]  [\\n1,998 cc\\n]  [\\n6\\n]               NaN   \n",
       "14123    [\\n70 kW (95 hp)\\n]    [\\n999 cc\\n]  [\\n5\\n]               NaN   \n",
       "8192    [\\n88 kW (120 hp)\\n]  [\\n1,598 cc\\n]      NaN  155 g/km (comb.)   \n",
       "23642   [\\n92 kW (125 hp)\\n]    [\\n999 cc\\n]  [\\n6\\n]  112 g/km (comb.)   \n",
       "26157   [\\n80 kW (109 hp)\\n]             NaN      NaN               NaN   \n",
       "29074  [\\n140 kW (190 hp)\\n]  [\\n1,969 cc\\n]  [\\n8\\n]  135 g/km (comb.)   \n",
       "19111    [\\n72 kW (98 hp)\\n]  [\\n1,798 cc\\n]  [\\n1\\n]   22 g/km (comb.)   \n",
       "\n",
       "                  Manufacturer colour       Drivetrain Cylinders  \\\n",
       "15807                     GRIS COMETE              NaN       NaN   \n",
       "17941                             NaN              NaN   [\\n4\\n]   \n",
       "14123                            Rojo  [\\n, Front, \\n]   [\\n3\\n]   \n",
       "8192   FARBE SCHWARZ OBSIDIEN/METALLI              NaN       NaN   \n",
       "23642        Magnetic-Grau (Metallic)              NaN   [\\n3\\n]   \n",
       "26157                             NaN              NaN       NaN   \n",
       "29074                            Nero    [\\n, 4WD, \\n]   [\\n4\\n]   \n",
       "19111              Aqua blue metallic              NaN   [\\n4\\n]   \n",
       "\n",
       "                                        Fuel consumption  \\\n",
       "15807  [[6.5 l/100 km (comb.)], [8 l/100 km (city)], ...   \n",
       "17941  [[7.1 l/100 km (comb.)], [9.6 l/100 km (city)]...   \n",
       "14123  [[4.3 l/100 km (comb.)], [5.1 l/100 km (city)]...   \n",
       "8192   [[6.5 l/100 km (comb.)], [8.8 l/100 km (city)]...   \n",
       "23642                           [[4.9 l/100 km (comb.)]]   \n",
       "26157                                                NaN   \n",
       "29074  [[5.1 l/100 km (comb.)], [6.1 l/100 km (city)]...   \n",
       "19111                             [[1 l/100 km (comb.)]]   \n",
       "\n",
       "                               \\nComfort & Convenience\\n  \\\n",
       "15807  [Electrically heated windshield, Power windows...   \n",
       "17941  [Air conditioning, Automatic climate control, ...   \n",
       "14123  [Electrical side mirrors, Multi-function steer...   \n",
       "8192   [Air conditioning, Electrical side mirrors, Po...   \n",
       "23642  [Air conditioning, Armrest, Automatic climate ...   \n",
       "26157  [Air conditioning, Automatic climate control, ...   \n",
       "29074  [Air conditioning, Armrest, Automatic climate ...   \n",
       "19111  [Air conditioning, Armrest, Automatic climate ...   \n",
       "\n",
       "                               \\nEntertainment & Media\\n  \\\n",
       "15807                         [On-board computer, Radio]   \n",
       "17941  [Bluetooth, Hands-free equipment, On-board com...   \n",
       "14123                     [Bluetooth, On-board computer]   \n",
       "8192                                             [Radio]   \n",
       "23642  [Bluetooth, Digital radio, On-board computer, ...   \n",
       "26157                                [On-board computer]   \n",
       "29074                        [Digital radio, Radio, USB]   \n",
       "19111  [Bluetooth, CD player, Hands-free equipment, I...   \n",
       "\n",
       "                                   \\nSafety & Security\\n  \\\n",
       "15807  [ABS, Driver-side airbag, Electronic stability...   \n",
       "17941  [ABS, Central door lock, Daytime running light...   \n",
       "14123  [ABS, Central door lock, Driver-side airbag, I...   \n",
       "8192   [ABS, Central door lock, Driver-side airbag, E...   \n",
       "23642  [ABS, Central door lock, Central door lock wit...   \n",
       "26157                                                NaN   \n",
       "29074  [Driver drowsiness detection, Driver-side airb...   \n",
       "19111  [ABS, Adaptive Cruise Control, Blind spot moni...   \n",
       "\n",
       "                                              \\nExtras\\n    Empty weight  \\\n",
       "15807                                        [Roof rack]             NaN   \n",
       "17941   [Alloy wheels, Headlight washer system, Spoiler]  [\\n1,250 kg\\n]   \n",
       "14123                                     [Alloy wheels]  [\\n1,110 kg\\n]   \n",
       "8192                         [Alloy wheels, Sport seats]             NaN   \n",
       "23642  [Alloy wheels, Emergency tyre repair kit, Spoi...  [\\n1,211 kg\\n]   \n",
       "26157                                      [Sport seats]             NaN   \n",
       "29074  [Alloy wheels, Automatically dimming interior ...             NaN   \n",
       "19111  [Alloy wheels (15\"), Automatically dimming int...  [\\n1,605 kg\\n]   \n",
       "\n",
       "               Model code General inspection Last service  \\\n",
       "15807                 NaN                NaN          NaN   \n",
       "17941                 NaN                NaN          NaN   \n",
       "14123                 NaN                NaN          NaN   \n",
       "8192                  NaN            07/2023          NaN   \n",
       "23642  [\\n, 8566/BUF, \\n]            05/2025          NaN   \n",
       "26157                 NaN                NaN          NaN   \n",
       "29074                 NaN                NaN          NaN   \n",
       "19111  [\\n, 5013/AKE, \\n]                New          NaN   \n",
       "\n",
       "      Full service history Non-smoker vehicle Emission class  \\\n",
       "15807                  Yes                Yes   Euro 6d-TEMP   \n",
       "17941                  Yes                Yes         Euro 5   \n",
       "14123                  NaN                NaN            NaN   \n",
       "8192                   Yes                NaN         Euro 4   \n",
       "23642                  NaN                NaN        Euro 6d   \n",
       "26157                  NaN                Yes            NaN   \n",
       "29074                  NaN                NaN         Euro 6   \n",
       "19111                  Yes                Yes         Euro 6   \n",
       "\n",
       "      Emissions sticker Upholstery colour    Upholstery  Production date  \\\n",
       "15807               NaN             Black  Full leather              NaN   \n",
       "17941               NaN             Black  Part leather              NaN   \n",
       "14123               NaN               NaN           NaN              NaN   \n",
       "8192          4 (Green)             Black         Cloth              NaN   \n",
       "23642         4 (Green)               NaN           NaN              NaN   \n",
       "26157               NaN             Black  Part leather              NaN   \n",
       "29074               NaN               NaN  Full leather          2020.00   \n",
       "19111         4 (Green)             Black         Cloth          2019.00   \n",
       "\n",
       "                   Previous owner Other fuel types Power consumption  \\\n",
       "15807   [[50,706 km, 08/2019], 1]              NaN               NaN   \n",
       "17941  [[126,000 km, 09/2012], 2]              NaN               NaN   \n",
       "14123                         NaN              NaN               NaN   \n",
       "8192                          NaN              NaN               NaN   \n",
       "23642                         NaN              NaN               NaN   \n",
       "26157                         NaN              NaN               NaN   \n",
       "29074                         NaN              NaN               NaN   \n",
       "19111   [[37,000 km, 06/2019], 1]      Electricity               NaN   \n",
       "\n",
       "      Energy efficiency class  \\\n",
       "15807                     NaN   \n",
       "17941                     NaN   \n",
       "14123                     NaN   \n",
       "8192                      NaN   \n",
       "23642                       B   \n",
       "26157                     NaN   \n",
       "29074                     NaN   \n",
       "19111                      A+   \n",
       "\n",
       "                                          CO₂-efficiency  \\\n",
       "15807                                                NaN   \n",
       "17941                                                NaN   \n",
       "14123                                                NaN   \n",
       "8192                                                 NaN   \n",
       "23642  Calculated on basis of measured CO₂-emissions ...   \n",
       "26157                                                NaN   \n",
       "29074                                                NaN   \n",
       "19111  Calculated on basis of measured CO₂-emissions ...   \n",
       "\n",
       "      Fuel consumption (WLTP) CO₂-emissions (WLTP) Available from  \\\n",
       "15807                     NaN                  NaN            NaN   \n",
       "17941                     NaN                  NaN            NaN   \n",
       "14123                     NaN                  NaN            NaN   \n",
       "8192                      NaN                  NaN            NaN   \n",
       "23642                     NaN                  NaN            NaN   \n",
       "26157                     NaN                  NaN            NaN   \n",
       "29074                     NaN                  NaN            NaN   \n",
       "19111                     NaN                  NaN            NaN   \n",
       "\n",
       "      Taxi or rental car Availability Last timing belt change  \\\n",
       "15807                NaN          NaN                     NaN   \n",
       "17941                NaN          NaN                     NaN   \n",
       "14123                NaN          NaN                     NaN   \n",
       "8192                 NaN          NaN                     NaN   \n",
       "23642                NaN          NaN                     NaN   \n",
       "26157                NaN          NaN                     NaN   \n",
       "29074                NaN          NaN                     NaN   \n",
       "19111                NaN          NaN                     NaN   \n",
       "\n",
       "      Electric Range (WLTP) Power consumption (WLTP) Battery Ownership  \n",
       "15807                   NaN                      NaN               NaN  \n",
       "17941                   NaN                      NaN               NaN  \n",
       "14123                   NaN                      NaN               NaN  \n",
       "8192                    NaN                      NaN               NaN  \n",
       "23642                   NaN                      NaN               NaN  \n",
       "26157                   NaN                      NaN               NaN  \n",
       "29074                   NaN                      NaN               NaN  \n",
       "19111                   NaN                      NaN               NaN  "
      ]
     },
     "execution_count": 7,
     "metadata": {},
     "output_type": "execute_result"
    }
   ],
   "source": [
    "df.sample(8)"
   ]
  },
  {
   "cell_type": "code",
   "execution_count": 8,
   "metadata": {
    "scrolled": true,
    "tags": []
   },
   "outputs": [
    {
     "name": "stdout",
     "output_type": "stream",
     "text": [
      "<class 'pandas.core.frame.DataFrame'>\n",
      "RangeIndex: 29480 entries, 0 to 29479\n",
      "Data columns (total 58 columns):\n",
      " #   Column                    Non-Null Count  Dtype  \n",
      "---  ------                    --------------  -----  \n",
      " 0   make_model                28630 non-null  object \n",
      " 1   short_description         28630 non-null  object \n",
      " 2   make                      28630 non-null  object \n",
      " 3   model                     28630 non-null  object \n",
      " 4   location                  28630 non-null  object \n",
      " 5   price                     28630 non-null  object \n",
      " 6   Body type                 28630 non-null  object \n",
      " 7   Type                      28630 non-null  object \n",
      " 8   Doors                     28271 non-null  object \n",
      " 9   Country version           16889 non-null  object \n",
      " 10  Offer number              23100 non-null  object \n",
      " 11  Warranty                  15784 non-null  object \n",
      " 12  Mileage                   28629 non-null  object \n",
      " 13  First registration        28628 non-null  object \n",
      " 14  Gearbox                   28382 non-null  object \n",
      " 15  Fuel type                 26843 non-null  object \n",
      " 16  Colour                    26906 non-null  object \n",
      " 17  Paint                     14495 non-null  object \n",
      " 18  desc                      28047 non-null  object \n",
      " 19  seller                    28630 non-null  object \n",
      " 20  Seats                     25505 non-null  object \n",
      " 21  Power                     28058 non-null  object \n",
      " 22  Engine size               27227 non-null  object \n",
      " 23  Gears                     18954 non-null  object \n",
      " 24  CO₂-emissions             18594 non-null  object \n",
      " 25  Manufacturer colour       21787 non-null  object \n",
      " 26  Drivetrain                16893 non-null  object \n",
      " 27  Cylinders                 18852 non-null  object \n",
      " 28  Fuel consumption          23385 non-null  object \n",
      " 29  \n",
      "Comfort & Convenience\n",
      "   25433 non-null  object \n",
      " 30  \n",
      "Entertainment & Media\n",
      "   23644 non-null  object \n",
      " 31  \n",
      "Safety & Security\n",
      "       25415 non-null  object \n",
      " 32  \n",
      "Extras\n",
      "                  23480 non-null  object \n",
      " 33  Empty weight              17758 non-null  object \n",
      " 34  Model code                8367 non-null   object \n",
      " 35  General inspection        12254 non-null  object \n",
      " 36  Last service              2003 non-null   object \n",
      " 37  Full service history      12565 non-null  object \n",
      " 38  Non-smoker vehicle        11594 non-null  object \n",
      " 39  Emission class            17859 non-null  object \n",
      " 40  Emissions sticker         9414 non-null   object \n",
      " 41  Upholstery colour         14569 non-null  object \n",
      " 42  Upholstery                18610 non-null  object \n",
      " 43  Production date           5908 non-null   float64\n",
      " 44  Previous owner            14015 non-null  object \n",
      " 45  Other fuel types          2313 non-null   object \n",
      " 46  Power consumption         515 non-null    object \n",
      " 47  Energy efficiency class   7804 non-null   object \n",
      " 48  CO₂-efficiency            7804 non-null   object \n",
      " 49  Fuel consumption (WLTP)   100 non-null    object \n",
      " 50  CO₂-emissions (WLTP)      116 non-null    object \n",
      " 51  Available from            393 non-null    object \n",
      " 52  Taxi or rental car        422 non-null    object \n",
      " 53  Availability              301 non-null    object \n",
      " 54  Last timing belt change   572 non-null    object \n",
      " 55  Electric Range (WLTP)     16 non-null     object \n",
      " 56  Power consumption (WLTP)  16 non-null     object \n",
      " 57  Battery Ownership         7 non-null      object \n",
      "dtypes: float64(1), object(57)\n",
      "memory usage: 13.0+ MB\n"
     ]
    }
   ],
   "source": [
    "df.info()"
   ]
  },
  {
   "cell_type": "code",
   "execution_count": 9,
   "metadata": {
    "scrolled": true,
    "tags": []
   },
   "outputs": [],
   "source": [
    "#pip install skimpy"
   ]
  },
  {
   "cell_type": "code",
   "execution_count": 10,
   "metadata": {},
   "outputs": [],
   "source": [
    "from skimpy import clean_columns"
   ]
  },
  {
   "cell_type": "code",
   "execution_count": 11,
   "metadata": {},
   "outputs": [
    {
     "data": {
      "text/html": [
       "<pre style=\"white-space:pre;overflow-x:auto;line-height:normal;font-family:Menlo,'DejaVu Sans Mono',consolas,'Courier New',monospace\"><span style=\"color: #008080; text-decoration-color: #008080; font-weight: bold\">50</span> column names have been cleaned\n",
       "</pre>\n"
      ],
      "text/plain": [
       "\u001b[1;36m50\u001b[0m column names have been cleaned\n"
      ]
     },
     "metadata": {},
     "output_type": "display_data"
    }
   ],
   "source": [
    "df = clean_columns(df)"
   ]
  },
  {
   "cell_type": "code",
   "execution_count": 12,
   "metadata": {},
   "outputs": [],
   "source": [
    "def columnnames_clean(cols):\n",
    "    a = []\n",
    "    for col in cols:\n",
    "        a.append(col.lower().replace(' ', '_').replace('₂', '2').replace('-','_').replace('\\n',''))\n",
    "    return a\n",
    "\n",
    "# a masstailored function that can be used to beautify column names instead of using skimpy"
   ]
  },
  {
   "cell_type": "code",
   "execution_count": 13,
   "metadata": {
    "tags": []
   },
   "outputs": [
    {
     "data": {
      "text/html": [
       "<div>\n",
       "<style scoped>\n",
       "    .dataframe tbody tr th:only-of-type {\n",
       "        vertical-align: middle;\n",
       "    }\n",
       "\n",
       "    .dataframe tbody tr th {\n",
       "        vertical-align: top;\n",
       "    }\n",
       "\n",
       "    .dataframe thead th {\n",
       "        text-align: right;\n",
       "    }\n",
       "</style>\n",
       "<table border=\"1\" class=\"dataframe\">\n",
       "  <thead>\n",
       "    <tr style=\"text-align: right;\">\n",
       "      <th></th>\n",
       "      <th>make_model</th>\n",
       "      <th>short_description</th>\n",
       "      <th>make</th>\n",
       "      <th>model</th>\n",
       "      <th>location</th>\n",
       "      <th>price</th>\n",
       "      <th>body_type</th>\n",
       "      <th>type</th>\n",
       "      <th>doors</th>\n",
       "      <th>country_version</th>\n",
       "      <th>offer_number</th>\n",
       "      <th>warranty</th>\n",
       "      <th>mileage</th>\n",
       "      <th>first_registration</th>\n",
       "      <th>gearbox</th>\n",
       "      <th>fuel_type</th>\n",
       "      <th>colour</th>\n",
       "      <th>paint</th>\n",
       "      <th>desc</th>\n",
       "      <th>seller</th>\n",
       "      <th>seats</th>\n",
       "      <th>power</th>\n",
       "      <th>engine_size</th>\n",
       "      <th>gears</th>\n",
       "      <th>co_emissions</th>\n",
       "      <th>manufacturer_colour</th>\n",
       "      <th>drivetrain</th>\n",
       "      <th>cylinders</th>\n",
       "      <th>fuel_consumption</th>\n",
       "      <th>comfort_&amp;_convenience</th>\n",
       "      <th>entertainment_&amp;_media</th>\n",
       "      <th>safety_&amp;_security</th>\n",
       "      <th>extras</th>\n",
       "      <th>empty_weight</th>\n",
       "      <th>model_code</th>\n",
       "      <th>general_inspection</th>\n",
       "      <th>last_service</th>\n",
       "      <th>full_service_history</th>\n",
       "      <th>non_smoker_vehicle</th>\n",
       "      <th>emission_class</th>\n",
       "      <th>emissions_sticker</th>\n",
       "      <th>upholstery_colour</th>\n",
       "      <th>upholstery</th>\n",
       "      <th>production_date</th>\n",
       "      <th>previous_owner</th>\n",
       "      <th>other_fuel_types</th>\n",
       "      <th>power_consumption</th>\n",
       "      <th>energy_efficiency_class</th>\n",
       "      <th>co_efficiency</th>\n",
       "      <th>fuel_consumption_wltp</th>\n",
       "      <th>co_emissions_wltp</th>\n",
       "      <th>available_from</th>\n",
       "      <th>taxi_or_rental_car</th>\n",
       "      <th>availability</th>\n",
       "      <th>last_timing_belt_change</th>\n",
       "      <th>electric_range_wltp</th>\n",
       "      <th>power_consumption_wltp</th>\n",
       "      <th>battery_ownership</th>\n",
       "    </tr>\n",
       "  </thead>\n",
       "  <tbody>\n",
       "    <tr>\n",
       "      <th>0</th>\n",
       "      <td>Mercedes-Benz A 160</td>\n",
       "      <td>CDi</td>\n",
       "      <td>\\nMercedes-Benz\\n</td>\n",
       "      <td>[\\n, A 160 ,\\n]</td>\n",
       "      <td>P.I. EL PALMAR C/FORJA 6,  11500 PUERTO DE SAN...</td>\n",
       "      <td>€ 16,950.-</td>\n",
       "      <td>[\\n, Compact, \\n]</td>\n",
       "      <td>[\\n, Used, \\n]</td>\n",
       "      <td>[\\n, 5, \\n]</td>\n",
       "      <td>[\\n, Spain, \\n]</td>\n",
       "      <td>[\\n, 7468157, \\n]</td>\n",
       "      <td>[\\n, 24 months, \\n]</td>\n",
       "      <td>120,200 km</td>\n",
       "      <td>06/2016</td>\n",
       "      <td>[\\nManual\\n]</td>\n",
       "      <td>Diesel</td>\n",
       "      <td>Black</td>\n",
       "      <td>Metallic</td>\n",
       "      <td>[ , Precio al contado: 16950 euros,  ,  , Vehí...</td>\n",
       "      <td>Dealer</td>\n",
       "      <td>NaN</td>\n",
       "      <td>NaN</td>\n",
       "      <td>NaN</td>\n",
       "      <td>NaN</td>\n",
       "      <td>NaN</td>\n",
       "      <td>NaN</td>\n",
       "      <td>NaN</td>\n",
       "      <td>NaN</td>\n",
       "      <td>NaN</td>\n",
       "      <td>NaN</td>\n",
       "      <td>NaN</td>\n",
       "      <td>NaN</td>\n",
       "      <td>NaN</td>\n",
       "      <td>NaN</td>\n",
       "      <td>NaN</td>\n",
       "      <td>NaN</td>\n",
       "      <td>NaN</td>\n",
       "      <td>NaN</td>\n",
       "      <td>NaN</td>\n",
       "      <td>NaN</td>\n",
       "      <td>NaN</td>\n",
       "      <td>NaN</td>\n",
       "      <td>NaN</td>\n",
       "      <td>NaN</td>\n",
       "      <td>NaN</td>\n",
       "      <td>NaN</td>\n",
       "      <td>NaN</td>\n",
       "      <td>NaN</td>\n",
       "      <td>NaN</td>\n",
       "      <td>NaN</td>\n",
       "      <td>NaN</td>\n",
       "      <td>NaN</td>\n",
       "      <td>NaN</td>\n",
       "      <td>NaN</td>\n",
       "      <td>NaN</td>\n",
       "      <td>NaN</td>\n",
       "      <td>NaN</td>\n",
       "      <td>NaN</td>\n",
       "    </tr>\n",
       "    <tr>\n",
       "      <th>1</th>\n",
       "      <td>Mercedes-Benz EQE 350</td>\n",
       "      <td>350+</td>\n",
       "      <td>\\nMercedes-Benz\\n</td>\n",
       "      <td>[\\n, EQE 350 ,\\n]</td>\n",
       "      <td>APARTADO DE CORREOS 1032,  26140 LOGROÑO, ES</td>\n",
       "      <td>€ 80,900.-</td>\n",
       "      <td>[\\n, Compact, \\n]</td>\n",
       "      <td>[\\n, Pre-registered, \\n]</td>\n",
       "      <td>[\\n, 4, \\n]</td>\n",
       "      <td>[\\n, Spain, \\n]</td>\n",
       "      <td>[\\n, 7054863, \\n]</td>\n",
       "      <td>[\\n, 24 months, \\n]</td>\n",
       "      <td>5,000 km</td>\n",
       "      <td>06/2022</td>\n",
       "      <td>[\\nAutomatic\\n]</td>\n",
       "      <td>Electric</td>\n",
       "      <td>NaN</td>\n",
       "      <td>NaN</td>\n",
       "      <td>[ , Precio al contado: 88900 euros,  , AUTO OJ...</td>\n",
       "      <td>Dealer</td>\n",
       "      <td>[\\n, 5, \\n]</td>\n",
       "      <td>[\\n215 kW (292 hp)\\n]</td>\n",
       "      <td>[\\n1 cc\\n]</td>\n",
       "      <td>[\\n9\\n]</td>\n",
       "      <td>0 g/km (comb.)</td>\n",
       "      <td>Negro Obsidiana</td>\n",
       "      <td>NaN</td>\n",
       "      <td>NaN</td>\n",
       "      <td>NaN</td>\n",
       "      <td>NaN</td>\n",
       "      <td>NaN</td>\n",
       "      <td>NaN</td>\n",
       "      <td>NaN</td>\n",
       "      <td>NaN</td>\n",
       "      <td>NaN</td>\n",
       "      <td>NaN</td>\n",
       "      <td>NaN</td>\n",
       "      <td>NaN</td>\n",
       "      <td>NaN</td>\n",
       "      <td>NaN</td>\n",
       "      <td>NaN</td>\n",
       "      <td>NaN</td>\n",
       "      <td>NaN</td>\n",
       "      <td>NaN</td>\n",
       "      <td>NaN</td>\n",
       "      <td>NaN</td>\n",
       "      <td>NaN</td>\n",
       "      <td>NaN</td>\n",
       "      <td>NaN</td>\n",
       "      <td>NaN</td>\n",
       "      <td>NaN</td>\n",
       "      <td>NaN</td>\n",
       "      <td>NaN</td>\n",
       "      <td>NaN</td>\n",
       "      <td>NaN</td>\n",
       "      <td>NaN</td>\n",
       "      <td>NaN</td>\n",
       "      <td>NaN</td>\n",
       "    </tr>\n",
       "    <tr>\n",
       "      <th>2</th>\n",
       "      <td>Mercedes-Benz A 45 AMG</td>\n",
       "      <td>S 4Matic+ 8G-DCT</td>\n",
       "      <td>\\nMercedes-Benz\\n</td>\n",
       "      <td>[\\n, A 45 AMG ,\\n]</td>\n",
       "      <td>PORT. TARRACO, MOLL DE LLEVANT, Nº 5, LOC. 6-8...</td>\n",
       "      <td>€ 69,900.-</td>\n",
       "      <td>[\\n, Compact, \\n]</td>\n",
       "      <td>[\\n, Used, \\n]</td>\n",
       "      <td>[\\n, 5, \\n]</td>\n",
       "      <td>[\\n, Spain, \\n]</td>\n",
       "      <td>[\\n, 7410454, \\n]</td>\n",
       "      <td>[\\n, 12 months, \\n]</td>\n",
       "      <td>18,900 km</td>\n",
       "      <td>07/2020</td>\n",
       "      <td>[\\nAutomatic\\n]</td>\n",
       "      <td>Gasoline</td>\n",
       "      <td>Grey</td>\n",
       "      <td>NaN</td>\n",
       "      <td>[Gris MANUFAKTUR mountaingrau magno,  , Linea/...</td>\n",
       "      <td>Dealer</td>\n",
       "      <td>[\\n, 5, \\n]</td>\n",
       "      <td>[\\n310 kW (421 hp)\\n]</td>\n",
       "      <td>[\\n1,991 cc\\n]</td>\n",
       "      <td>[\\n8\\n]</td>\n",
       "      <td>NaN</td>\n",
       "      <td>Mountaingrau magno</td>\n",
       "      <td>[\\n, 4WD, \\n]</td>\n",
       "      <td>[\\n4\\n]</td>\n",
       "      <td>[[8.4 l/100 km (comb.)], [10.9 l/100 km (city)...</td>\n",
       "      <td>NaN</td>\n",
       "      <td>NaN</td>\n",
       "      <td>NaN</td>\n",
       "      <td>NaN</td>\n",
       "      <td>NaN</td>\n",
       "      <td>NaN</td>\n",
       "      <td>NaN</td>\n",
       "      <td>NaN</td>\n",
       "      <td>NaN</td>\n",
       "      <td>NaN</td>\n",
       "      <td>NaN</td>\n",
       "      <td>NaN</td>\n",
       "      <td>NaN</td>\n",
       "      <td>NaN</td>\n",
       "      <td>NaN</td>\n",
       "      <td>NaN</td>\n",
       "      <td>NaN</td>\n",
       "      <td>NaN</td>\n",
       "      <td>NaN</td>\n",
       "      <td>NaN</td>\n",
       "      <td>NaN</td>\n",
       "      <td>NaN</td>\n",
       "      <td>NaN</td>\n",
       "      <td>NaN</td>\n",
       "      <td>NaN</td>\n",
       "      <td>NaN</td>\n",
       "      <td>NaN</td>\n",
       "      <td>NaN</td>\n",
       "      <td>NaN</td>\n",
       "    </tr>\n",
       "    <tr>\n",
       "      <th>3</th>\n",
       "      <td>Mercedes-Benz A 35 AMG</td>\n",
       "      <td>4Matic+ 7G-DCT</td>\n",
       "      <td>\\nMercedes-Benz\\n</td>\n",
       "      <td>[\\n, A 35 AMG ,\\n]</td>\n",
       "      <td>Carrer de Provença, 31 Local,  8029 BARCELONA, ES</td>\n",
       "      <td>€ 46,990.-</td>\n",
       "      <td>[\\n, Compact, \\n]</td>\n",
       "      <td>[\\n, Used, \\n]</td>\n",
       "      <td>[\\n, 5, \\n]</td>\n",
       "      <td>[\\n, Spain, \\n]</td>\n",
       "      <td>[\\n, 7464503, \\n]</td>\n",
       "      <td>[\\n, 12 months, \\n]</td>\n",
       "      <td>18,995 km</td>\n",
       "      <td>01/2020</td>\n",
       "      <td>[\\nAutomatic\\n]</td>\n",
       "      <td>Gasoline</td>\n",
       "      <td>Yellow</td>\n",
       "      <td>NaN</td>\n",
       "      <td>[ , Precio al contado: 48990 euros,  ,  , BONI...</td>\n",
       "      <td>Dealer</td>\n",
       "      <td>[\\n, 5, \\n]</td>\n",
       "      <td>[\\n225 kW (306 hp)\\n]</td>\n",
       "      <td>[\\n1,991 cc\\n]</td>\n",
       "      <td>[\\n7\\n]</td>\n",
       "      <td>NaN</td>\n",
       "      <td>Amarillo Sol</td>\n",
       "      <td>[\\n, 4WD, \\n]</td>\n",
       "      <td>[\\n4\\n]</td>\n",
       "      <td>[[7.3 l/100 km (comb.)], [9.3 l/100 km (city)]...</td>\n",
       "      <td>[Air conditioning, Automatic climate control, ...</td>\n",
       "      <td>[USB]</td>\n",
       "      <td>[ABS, Central door lock, Driver-side airbag, E...</td>\n",
       "      <td>[Sport seats]</td>\n",
       "      <td>NaN</td>\n",
       "      <td>NaN</td>\n",
       "      <td>NaN</td>\n",
       "      <td>NaN</td>\n",
       "      <td>NaN</td>\n",
       "      <td>NaN</td>\n",
       "      <td>NaN</td>\n",
       "      <td>NaN</td>\n",
       "      <td>NaN</td>\n",
       "      <td>NaN</td>\n",
       "      <td>NaN</td>\n",
       "      <td>NaN</td>\n",
       "      <td>NaN</td>\n",
       "      <td>NaN</td>\n",
       "      <td>NaN</td>\n",
       "      <td>NaN</td>\n",
       "      <td>NaN</td>\n",
       "      <td>NaN</td>\n",
       "      <td>NaN</td>\n",
       "      <td>NaN</td>\n",
       "      <td>NaN</td>\n",
       "      <td>NaN</td>\n",
       "      <td>NaN</td>\n",
       "      <td>NaN</td>\n",
       "      <td>NaN</td>\n",
       "    </tr>\n",
       "    <tr>\n",
       "      <th>4</th>\n",
       "      <td>Mercedes-Benz A 45 AMG</td>\n",
       "      <td>200CDI BE Line 4M 7G-DCT</td>\n",
       "      <td>\\nMercedes-Benz\\n</td>\n",
       "      <td>[\\n, A 45 AMG ,\\n]</td>\n",
       "      <td>CARRIL ARAGONES 4,  30007 CASILLAS, ES</td>\n",
       "      <td>€ 16,800.-</td>\n",
       "      <td>[\\n, Compact, \\n]</td>\n",
       "      <td>[\\n, Used, \\n]</td>\n",
       "      <td>[\\n, 5, \\n]</td>\n",
       "      <td>[\\n, Spain, \\n]</td>\n",
       "      <td>[\\n, 7127931, \\n]</td>\n",
       "      <td>[\\n, 12 months, \\n]</td>\n",
       "      <td>197,000 km</td>\n",
       "      <td>09/2015</td>\n",
       "      <td>[\\nAutomatic\\n]</td>\n",
       "      <td>Diesel</td>\n",
       "      <td>White</td>\n",
       "      <td>Metallic</td>\n",
       "      <td>[ , Precio al contado: 17400 euros,  , Vehícul...</td>\n",
       "      <td>Dealer</td>\n",
       "      <td>[\\n, 5, \\n]</td>\n",
       "      <td>[\\n100 kW (136 hp)\\n]</td>\n",
       "      <td>[\\n2,143 cc\\n]</td>\n",
       "      <td>[\\n7\\n]</td>\n",
       "      <td>NaN</td>\n",
       "      <td>NaN</td>\n",
       "      <td>[\\n, 4WD, \\n]</td>\n",
       "      <td>[\\n4\\n]</td>\n",
       "      <td>[[4.9 l/100 km (comb.)], [5.7 l/100 km (city)]...</td>\n",
       "      <td>[Air conditioning, Electrical side mirrors, Mu...</td>\n",
       "      <td>[Bluetooth, CD player, MP3, USB]</td>\n",
       "      <td>[ABS, Central door lock, Driver-side airbag, E...</td>\n",
       "      <td>NaN</td>\n",
       "      <td>[\\n1,545 kg\\n]</td>\n",
       "      <td>NaN</td>\n",
       "      <td>NaN</td>\n",
       "      <td>NaN</td>\n",
       "      <td>NaN</td>\n",
       "      <td>NaN</td>\n",
       "      <td>NaN</td>\n",
       "      <td>NaN</td>\n",
       "      <td>NaN</td>\n",
       "      <td>NaN</td>\n",
       "      <td>NaN</td>\n",
       "      <td>NaN</td>\n",
       "      <td>NaN</td>\n",
       "      <td>NaN</td>\n",
       "      <td>NaN</td>\n",
       "      <td>NaN</td>\n",
       "      <td>NaN</td>\n",
       "      <td>NaN</td>\n",
       "      <td>NaN</td>\n",
       "      <td>NaN</td>\n",
       "      <td>NaN</td>\n",
       "      <td>NaN</td>\n",
       "      <td>NaN</td>\n",
       "      <td>NaN</td>\n",
       "      <td>NaN</td>\n",
       "    </tr>\n",
       "  </tbody>\n",
       "</table>\n",
       "</div>"
      ],
      "text/plain": [
       "               make_model         short_description               make  \\\n",
       "0     Mercedes-Benz A 160                       CDi  \\nMercedes-Benz\\n   \n",
       "1   Mercedes-Benz EQE 350                      350+  \\nMercedes-Benz\\n   \n",
       "2  Mercedes-Benz A 45 AMG          S 4Matic+ 8G-DCT  \\nMercedes-Benz\\n   \n",
       "3  Mercedes-Benz A 35 AMG            4Matic+ 7G-DCT  \\nMercedes-Benz\\n   \n",
       "4  Mercedes-Benz A 45 AMG  200CDI BE Line 4M 7G-DCT  \\nMercedes-Benz\\n   \n",
       "\n",
       "                model                                           location  \\\n",
       "0     [\\n, A 160 ,\\n]  P.I. EL PALMAR C/FORJA 6,  11500 PUERTO DE SAN...   \n",
       "1   [\\n, EQE 350 ,\\n]       APARTADO DE CORREOS 1032,  26140 LOGROÑO, ES   \n",
       "2  [\\n, A 45 AMG ,\\n]  PORT. TARRACO, MOLL DE LLEVANT, Nº 5, LOC. 6-8...   \n",
       "3  [\\n, A 35 AMG ,\\n]  Carrer de Provença, 31 Local,  8029 BARCELONA, ES   \n",
       "4  [\\n, A 45 AMG ,\\n]             CARRIL ARAGONES 4,  30007 CASILLAS, ES   \n",
       "\n",
       "        price          body_type                      type        doors  \\\n",
       "0  € 16,950.-  [\\n, Compact, \\n]            [\\n, Used, \\n]  [\\n, 5, \\n]   \n",
       "1  € 80,900.-  [\\n, Compact, \\n]  [\\n, Pre-registered, \\n]  [\\n, 4, \\n]   \n",
       "2  € 69,900.-  [\\n, Compact, \\n]            [\\n, Used, \\n]  [\\n, 5, \\n]   \n",
       "3  € 46,990.-  [\\n, Compact, \\n]            [\\n, Used, \\n]  [\\n, 5, \\n]   \n",
       "4  € 16,800.-  [\\n, Compact, \\n]            [\\n, Used, \\n]  [\\n, 5, \\n]   \n",
       "\n",
       "   country_version       offer_number             warranty     mileage  \\\n",
       "0  [\\n, Spain, \\n]  [\\n, 7468157, \\n]  [\\n, 24 months, \\n]  120,200 km   \n",
       "1  [\\n, Spain, \\n]  [\\n, 7054863, \\n]  [\\n, 24 months, \\n]    5,000 km   \n",
       "2  [\\n, Spain, \\n]  [\\n, 7410454, \\n]  [\\n, 12 months, \\n]   18,900 km   \n",
       "3  [\\n, Spain, \\n]  [\\n, 7464503, \\n]  [\\n, 12 months, \\n]   18,995 km   \n",
       "4  [\\n, Spain, \\n]  [\\n, 7127931, \\n]  [\\n, 12 months, \\n]  197,000 km   \n",
       "\n",
       "  first_registration          gearbox fuel_type  colour     paint  \\\n",
       "0            06/2016     [\\nManual\\n]    Diesel   Black  Metallic   \n",
       "1            06/2022  [\\nAutomatic\\n]  Electric     NaN       NaN   \n",
       "2            07/2020  [\\nAutomatic\\n]  Gasoline    Grey       NaN   \n",
       "3            01/2020  [\\nAutomatic\\n]  Gasoline  Yellow       NaN   \n",
       "4            09/2015  [\\nAutomatic\\n]    Diesel   White  Metallic   \n",
       "\n",
       "                                                desc  seller        seats  \\\n",
       "0  [ , Precio al contado: 16950 euros,  ,  , Vehí...  Dealer          NaN   \n",
       "1  [ , Precio al contado: 88900 euros,  , AUTO OJ...  Dealer  [\\n, 5, \\n]   \n",
       "2  [Gris MANUFAKTUR mountaingrau magno,  , Linea/...  Dealer  [\\n, 5, \\n]   \n",
       "3  [ , Precio al contado: 48990 euros,  ,  , BONI...  Dealer  [\\n, 5, \\n]   \n",
       "4  [ , Precio al contado: 17400 euros,  , Vehícul...  Dealer  [\\n, 5, \\n]   \n",
       "\n",
       "                   power     engine_size    gears    co_emissions  \\\n",
       "0                    NaN             NaN      NaN             NaN   \n",
       "1  [\\n215 kW (292 hp)\\n]      [\\n1 cc\\n]  [\\n9\\n]  0 g/km (comb.)   \n",
       "2  [\\n310 kW (421 hp)\\n]  [\\n1,991 cc\\n]  [\\n8\\n]             NaN   \n",
       "3  [\\n225 kW (306 hp)\\n]  [\\n1,991 cc\\n]  [\\n7\\n]             NaN   \n",
       "4  [\\n100 kW (136 hp)\\n]  [\\n2,143 cc\\n]  [\\n7\\n]             NaN   \n",
       "\n",
       "  manufacturer_colour     drivetrain cylinders  \\\n",
       "0                 NaN            NaN       NaN   \n",
       "1     Negro Obsidiana            NaN       NaN   \n",
       "2  Mountaingrau magno  [\\n, 4WD, \\n]   [\\n4\\n]   \n",
       "3        Amarillo Sol  [\\n, 4WD, \\n]   [\\n4\\n]   \n",
       "4                 NaN  [\\n, 4WD, \\n]   [\\n4\\n]   \n",
       "\n",
       "                                    fuel_consumption  \\\n",
       "0                                                NaN   \n",
       "1                                                NaN   \n",
       "2  [[8.4 l/100 km (comb.)], [10.9 l/100 km (city)...   \n",
       "3  [[7.3 l/100 km (comb.)], [9.3 l/100 km (city)]...   \n",
       "4  [[4.9 l/100 km (comb.)], [5.7 l/100 km (city)]...   \n",
       "\n",
       "                               comfort_&_convenience  \\\n",
       "0                                                NaN   \n",
       "1                                                NaN   \n",
       "2                                                NaN   \n",
       "3  [Air conditioning, Automatic climate control, ...   \n",
       "4  [Air conditioning, Electrical side mirrors, Mu...   \n",
       "\n",
       "              entertainment_&_media  \\\n",
       "0                               NaN   \n",
       "1                               NaN   \n",
       "2                               NaN   \n",
       "3                             [USB]   \n",
       "4  [Bluetooth, CD player, MP3, USB]   \n",
       "\n",
       "                                   safety_&_security         extras  \\\n",
       "0                                                NaN            NaN   \n",
       "1                                                NaN            NaN   \n",
       "2                                                NaN            NaN   \n",
       "3  [ABS, Central door lock, Driver-side airbag, E...  [Sport seats]   \n",
       "4  [ABS, Central door lock, Driver-side airbag, E...            NaN   \n",
       "\n",
       "     empty_weight model_code general_inspection last_service  \\\n",
       "0             NaN        NaN                NaN          NaN   \n",
       "1             NaN        NaN                NaN          NaN   \n",
       "2             NaN        NaN                NaN          NaN   \n",
       "3             NaN        NaN                NaN          NaN   \n",
       "4  [\\n1,545 kg\\n]        NaN                NaN          NaN   \n",
       "\n",
       "  full_service_history non_smoker_vehicle emission_class emissions_sticker  \\\n",
       "0                  NaN                NaN            NaN               NaN   \n",
       "1                  NaN                NaN            NaN               NaN   \n",
       "2                  NaN                NaN            NaN               NaN   \n",
       "3                  NaN                NaN            NaN               NaN   \n",
       "4                  NaN                NaN            NaN               NaN   \n",
       "\n",
       "  upholstery_colour upholstery  production_date previous_owner  \\\n",
       "0               NaN        NaN              NaN            NaN   \n",
       "1               NaN        NaN              NaN            NaN   \n",
       "2               NaN        NaN              NaN            NaN   \n",
       "3               NaN        NaN              NaN            NaN   \n",
       "4               NaN        NaN              NaN            NaN   \n",
       "\n",
       "  other_fuel_types power_consumption energy_efficiency_class co_efficiency  \\\n",
       "0              NaN               NaN                     NaN           NaN   \n",
       "1              NaN               NaN                     NaN           NaN   \n",
       "2              NaN               NaN                     NaN           NaN   \n",
       "3              NaN               NaN                     NaN           NaN   \n",
       "4              NaN               NaN                     NaN           NaN   \n",
       "\n",
       "  fuel_consumption_wltp co_emissions_wltp available_from taxi_or_rental_car  \\\n",
       "0                   NaN               NaN            NaN                NaN   \n",
       "1                   NaN               NaN            NaN                NaN   \n",
       "2                   NaN               NaN            NaN                NaN   \n",
       "3                   NaN               NaN            NaN                NaN   \n",
       "4                   NaN               NaN            NaN                NaN   \n",
       "\n",
       "  availability last_timing_belt_change electric_range_wltp  \\\n",
       "0          NaN                     NaN                 NaN   \n",
       "1          NaN                     NaN                 NaN   \n",
       "2          NaN                     NaN                 NaN   \n",
       "3          NaN                     NaN                 NaN   \n",
       "4          NaN                     NaN                 NaN   \n",
       "\n",
       "  power_consumption_wltp battery_ownership  \n",
       "0                    NaN               NaN  \n",
       "1                    NaN               NaN  \n",
       "2                    NaN               NaN  \n",
       "3                    NaN               NaN  \n",
       "4                    NaN               NaN  "
      ]
     },
     "execution_count": 13,
     "metadata": {},
     "output_type": "execute_result"
    }
   ],
   "source": [
    "df.head()"
   ]
  },
  {
   "cell_type": "code",
   "execution_count": 14,
   "metadata": {
    "tags": []
   },
   "outputs": [
    {
     "data": {
      "text/plain": [
       "Index(['make_model', 'short_description', 'make', 'model', 'location', 'price',\n",
       "       'body_type', 'type', 'doors', 'country_version', 'offer_number',\n",
       "       'warranty', 'mileage', 'first_registration', 'gearbox', 'fuel_type',\n",
       "       'colour', 'paint', 'desc', 'seller', 'seats', 'power', 'engine_size',\n",
       "       'gears', 'co_emissions', 'manufacturer_colour', 'drivetrain',\n",
       "       'cylinders', 'fuel_consumption', 'comfort_&_convenience',\n",
       "       'entertainment_&_media', 'safety_&_security', 'extras', 'empty_weight',\n",
       "       'model_code', 'general_inspection', 'last_service',\n",
       "       'full_service_history', 'non_smoker_vehicle', 'emission_class',\n",
       "       'emissions_sticker', 'upholstery_colour', 'upholstery',\n",
       "       'production_date', 'previous_owner', 'other_fuel_types',\n",
       "       'power_consumption', 'energy_efficiency_class', 'co_efficiency',\n",
       "       'fuel_consumption_wltp', 'co_emissions_wltp', 'available_from',\n",
       "       'taxi_or_rental_car', 'availability', 'last_timing_belt_change',\n",
       "       'electric_range_wltp', 'power_consumption_wltp', 'battery_ownership'],\n",
       "      dtype='object')"
      ]
     },
     "execution_count": 14,
     "metadata": {},
     "output_type": "execute_result"
    }
   ],
   "source": [
    "df.columns"
   ]
  },
  {
   "cell_type": "code",
   "execution_count": 15,
   "metadata": {},
   "outputs": [],
   "source": [
    "# Let's remember our User Defined Function for first looking to the columns\n",
    "\n",
    "def first_looking(df, col):\n",
    "    print(\"column name    : \", col)  # Prints out related column name\n",
    "    print(\"--------------------------------\")\n",
    "    print(\"per_of_nulls   : \", \"%\", round(df[col].isnull().sum() * 100 / df.shape[0], 2))  # Calculates the percentage of Null values for related column\n",
    "    print(\"num_of_nulls   : \", df[col].isnull().sum())  # Prints out the total number of Null values for related column\n",
    "    print(\"num_of_uniques : \", df[col].astype(str).nunique())  # Prints out the number of unique values for related column\n",
    "    print(\"shape_of_df    : \", df.shape)  # Prints out the shape of DataFrame\n",
    "    print(\"--------------------------------\")\n",
    "    print(df[col].value_counts(dropna=False))  # Prints out the number of occurance for unique values in the related column"
   ]
  },
  {
   "cell_type": "markdown",
   "metadata": {},
   "source": [
    "# make_model"
   ]
  },
  {
   "cell_type": "code",
   "execution_count": 16,
   "metadata": {},
   "outputs": [
    {
     "data": {
      "text/plain": [
       "'make_model'"
      ]
     },
     "execution_count": 16,
     "metadata": {},
     "output_type": "execute_result"
    }
   ],
   "source": [
    "df.columns[0]"
   ]
  },
  {
   "cell_type": "code",
   "execution_count": 17,
   "metadata": {
    "scrolled": true,
    "tags": []
   },
   "outputs": [
    {
     "data": {
      "text/plain": [
       "0           Mercedes-Benz A 160\n",
       "1         Mercedes-Benz EQE 350\n",
       "2        Mercedes-Benz A 45 AMG\n",
       "3        Mercedes-Benz A 35 AMG\n",
       "4        Mercedes-Benz A 45 AMG\n",
       "                  ...          \n",
       "29475                 Volvo S40\n",
       "29476                 Volvo C30\n",
       "29477                 Volvo S90\n",
       "29478                 Volvo S80\n",
       "29479                       NaN\n",
       "Name: make_model, Length: 29480, dtype: object"
      ]
     },
     "execution_count": 17,
     "metadata": {},
     "output_type": "execute_result"
    }
   ],
   "source": [
    "df.make_model"
   ]
  },
  {
   "cell_type": "code",
   "execution_count": 18,
   "metadata": {},
   "outputs": [],
   "source": [
    "df.make = df.make.str.replace(\"\\\\n\", \"\")"
   ]
  },
  {
   "cell_type": "code",
   "execution_count": 19,
   "metadata": {},
   "outputs": [],
   "source": [
    "df.model = df.model.astype('str').apply(lambda x: re.findall(', ([A-Za-z0-9 ]+)', x)[0] if len( re.findall(' [A-Za-z0-9 ]+', x) )>0 else np.nan)"
   ]
  },
  {
   "cell_type": "code",
   "execution_count": 20,
   "metadata": {},
   "outputs": [],
   "source": [
    "df['new'] = df['make']+' '+df['model']"
   ]
  },
  {
   "cell_type": "code",
   "execution_count": 21,
   "metadata": {},
   "outputs": [
    {
     "data": {
      "text/plain": [
       "False"
      ]
     },
     "execution_count": 21,
     "metadata": {},
     "output_type": "execute_result"
    }
   ],
   "source": [
    "df.new.equals(df.make_model)"
   ]
  },
  {
   "cell_type": "code",
   "execution_count": 22,
   "metadata": {},
   "outputs": [],
   "source": [
    "df.new = df.new.str.rstrip()"
   ]
  },
  {
   "cell_type": "code",
   "execution_count": 23,
   "metadata": {
    "scrolled": true,
    "tags": []
   },
   "outputs": [
    {
     "data": {
      "text/plain": [
       "1785     NaN\n",
       "1814     NaN\n",
       "2700     NaN\n",
       "3008     NaN\n",
       "3114     NaN\n",
       "        ... \n",
       "29419    NaN\n",
       "29445    NaN\n",
       "29451    NaN\n",
       "29473    NaN\n",
       "29479    NaN\n",
       "Name: new, Length: 850, dtype: object"
      ]
     },
     "execution_count": 23,
     "metadata": {},
     "output_type": "execute_result"
    }
   ],
   "source": [
    "df[df.make_model.isna()]['new']"
   ]
  },
  {
   "cell_type": "code",
   "execution_count": 24,
   "metadata": {
    "tags": []
   },
   "outputs": [
    {
     "data": {
      "text/plain": [
       "Volvo            3659\n",
       "Mercedes-Benz    2398\n",
       "Opel             2385\n",
       "Peugeot          2360\n",
       "Renault          2351\n",
       "Fiat             2338\n",
       "Ford             2324\n",
       "Nissan           2064\n",
       "Toyota           2038\n",
       "Hyundai          1867\n",
       "SEAT             1743\n",
       "Skoda            1566\n",
       "Dacia            1537\n",
       "Name: make, dtype: int64"
      ]
     },
     "execution_count": 24,
     "metadata": {},
     "output_type": "execute_result"
    }
   ],
   "source": [
    "df.make.value_counts()"
   ]
  },
  {
   "cell_type": "code",
   "execution_count": 25,
   "metadata": {
    "scrolled": true,
    "tags": []
   },
   "outputs": [
    {
     "data": {
      "text/plain": [
       "Megane          863\n",
       "Leon            787\n",
       "V40             740\n",
       "Sandero         730\n",
       "i30             706\n",
       "               ... \n",
       "G 65 AMG          1\n",
       "King Cab          1\n",
       "R 11              1\n",
       "Grand Modus       1\n",
       "244               1\n",
       "Name: model, Length: 591, dtype: int64"
      ]
     },
     "execution_count": 25,
     "metadata": {},
     "output_type": "execute_result"
    }
   ],
   "source": [
    "df.model.value_counts()"
   ]
  },
  {
   "cell_type": "code",
   "execution_count": 26,
   "metadata": {},
   "outputs": [
    {
     "data": {
      "text/plain": [
       "(29480, 59)"
      ]
     },
     "execution_count": 26,
     "metadata": {},
     "output_type": "execute_result"
    }
   ],
   "source": [
    "df.shape"
   ]
  },
  {
   "cell_type": "markdown",
   "metadata": {
    "tags": []
   },
   "source": [
    "ınspectıng make_model column"
   ]
  },
  {
   "cell_type": "code",
   "execution_count": 27,
   "metadata": {
    "scrolled": true,
    "tags": []
   },
   "outputs": [
    {
     "data": {
      "text/plain": [
       "Renault Megane     863\n",
       "NaN                850\n",
       "SEAT Leon          787\n",
       "Volvo V40          740\n",
       "Dacia Sandero      730\n",
       "                  ... \n",
       "Toyota GR86          1\n",
       "Toyota Tacoma        1\n",
       "Toyota Tundra        1\n",
       "Toyota 4-Runner      1\n",
       "Volvo 244            1\n",
       "Name: make_model, Length: 612, dtype: int64"
      ]
     },
     "execution_count": 27,
     "metadata": {},
     "output_type": "execute_result"
    }
   ],
   "source": [
    "df.make_model.value_counts(dropna=False)   # I will keep it as it is for now"
   ]
  },
  {
   "cell_type": "markdown",
   "metadata": {},
   "source": [
    "# short_description"
   ]
  },
  {
   "cell_type": "code",
   "execution_count": 28,
   "metadata": {},
   "outputs": [
    {
     "data": {
      "text/plain": [
       "'short_description'"
      ]
     },
     "execution_count": 28,
     "metadata": {},
     "output_type": "execute_result"
    }
   ],
   "source": [
    "df.columns[1]"
   ]
  },
  {
   "cell_type": "code",
   "execution_count": 29,
   "metadata": {
    "scrolled": true,
    "tags": []
   },
   "outputs": [
    {
     "data": {
      "text/plain": [
       "0                                                      CDi\n",
       "1                                                     350+\n",
       "2                                         S 4Matic+ 8G-DCT\n",
       "3                                           4Matic+ 7G-DCT\n",
       "4                                 200CDI BE Line 4M 7G-DCT\n",
       "                               ...                        \n",
       "29475          2.4i Momentum/ Airco/ NAP/ APK/ Elek. Ramen\n",
       "29476                      1.6 D DRIVe Start/Stop R-design\n",
       "29477    T5 AUT(8) MOMENTUM BUSINESS SCHUIFDAK 360GR CA...\n",
       "29478    2.9 Executive G. NETTE AUTO! LEER! NAVI! CRUIS...\n",
       "29479                                                  NaN\n",
       "Name: short_description, Length: 29480, dtype: object"
      ]
     },
     "execution_count": 29,
     "metadata": {},
     "output_type": "execute_result"
    }
   ],
   "source": [
    "df.short_description"
   ]
  },
  {
   "cell_type": "code",
   "execution_count": 30,
   "metadata": {},
   "outputs": [],
   "source": [
    "#^keep it as it is for now"
   ]
  },
  {
   "cell_type": "markdown",
   "metadata": {},
   "source": [
    "# make"
   ]
  },
  {
   "cell_type": "code",
   "execution_count": 31,
   "metadata": {},
   "outputs": [
    {
     "data": {
      "text/plain": [
       "'make'"
      ]
     },
     "execution_count": 31,
     "metadata": {},
     "output_type": "execute_result"
    }
   ],
   "source": [
    "df.columns[2]"
   ]
  },
  {
   "cell_type": "code",
   "execution_count": 32,
   "metadata": {
    "scrolled": true,
    "tags": []
   },
   "outputs": [
    {
     "data": {
      "text/plain": [
       "0        Mercedes-Benz\n",
       "1        Mercedes-Benz\n",
       "2        Mercedes-Benz\n",
       "3        Mercedes-Benz\n",
       "4        Mercedes-Benz\n",
       "             ...      \n",
       "29475            Volvo\n",
       "29476            Volvo\n",
       "29477            Volvo\n",
       "29478            Volvo\n",
       "29479              NaN\n",
       "Name: make, Length: 29480, dtype: object"
      ]
     },
     "execution_count": 32,
     "metadata": {},
     "output_type": "execute_result"
    }
   ],
   "source": [
    "df.make"
   ]
  },
  {
   "cell_type": "code",
   "execution_count": 33,
   "metadata": {},
   "outputs": [],
   "source": [
    "df.make = df.make.str.replace('\\n','')"
   ]
  },
  {
   "cell_type": "code",
   "execution_count": 34,
   "metadata": {
    "tags": []
   },
   "outputs": [
    {
     "data": {
      "text/plain": [
       "Volvo            3659\n",
       "Mercedes-Benz    2398\n",
       "Opel             2385\n",
       "Peugeot          2360\n",
       "Renault          2351\n",
       "Fiat             2338\n",
       "Ford             2324\n",
       "Nissan           2064\n",
       "Toyota           2038\n",
       "Hyundai          1867\n",
       "SEAT             1743\n",
       "Skoda            1566\n",
       "Dacia            1537\n",
       "Name: make, dtype: int64"
      ]
     },
     "execution_count": 34,
     "metadata": {},
     "output_type": "execute_result"
    }
   ],
   "source": [
    "df.make.value_counts()"
   ]
  },
  {
   "cell_type": "markdown",
   "metadata": {},
   "source": [
    "# model"
   ]
  },
  {
   "cell_type": "code",
   "execution_count": 35,
   "metadata": {},
   "outputs": [
    {
     "data": {
      "text/plain": [
       "'model'"
      ]
     },
     "execution_count": 35,
     "metadata": {},
     "output_type": "execute_result"
    }
   ],
   "source": [
    "df.columns[3]"
   ]
  },
  {
   "cell_type": "code",
   "execution_count": 36,
   "metadata": {
    "scrolled": true,
    "tags": []
   },
   "outputs": [
    {
     "data": {
      "text/plain": [
       "0           A 160 \n",
       "1         EQE 350 \n",
       "2        A 45 AMG \n",
       "3        A 35 AMG \n",
       "4        A 45 AMG \n",
       "           ...    \n",
       "29475         S40 \n",
       "29476         C30 \n",
       "29477         S90 \n",
       "29478         S80 \n",
       "29479          NaN\n",
       "Name: model, Length: 29480, dtype: object"
      ]
     },
     "execution_count": 36,
     "metadata": {},
     "output_type": "execute_result"
    }
   ],
   "source": [
    "df.model"
   ]
  },
  {
   "cell_type": "code",
   "execution_count": 37,
   "metadata": {
    "scrolled": true,
    "tags": []
   },
   "outputs": [
    {
     "data": {
      "text/plain": [
       "Megane          863\n",
       "Leon            787\n",
       "V40             740\n",
       "Sandero         730\n",
       "i30             706\n",
       "               ... \n",
       "G 65 AMG          1\n",
       "King Cab          1\n",
       "R 11              1\n",
       "Grand Modus       1\n",
       "244               1\n",
       "Name: model, Length: 591, dtype: int64"
      ]
     },
     "execution_count": 37,
     "metadata": {},
     "output_type": "execute_result"
    }
   ],
   "source": [
    "df.model.value_counts()"
   ]
  },
  {
   "cell_type": "code",
   "execution_count": 38,
   "metadata": {
    "scrolled": true,
    "tags": []
   },
   "outputs": [
    {
     "data": {
      "text/html": [
       "<div>\n",
       "<style scoped>\n",
       "    .dataframe tbody tr th:only-of-type {\n",
       "        vertical-align: middle;\n",
       "    }\n",
       "\n",
       "    .dataframe tbody tr th {\n",
       "        vertical-align: top;\n",
       "    }\n",
       "\n",
       "    .dataframe thead th {\n",
       "        text-align: right;\n",
       "    }\n",
       "</style>\n",
       "<table border=\"1\" class=\"dataframe\">\n",
       "  <thead>\n",
       "    <tr style=\"text-align: right;\">\n",
       "      <th></th>\n",
       "      <th>make_model</th>\n",
       "      <th>short_description</th>\n",
       "      <th>make</th>\n",
       "      <th>model</th>\n",
       "      <th>location</th>\n",
       "      <th>price</th>\n",
       "      <th>body_type</th>\n",
       "      <th>type</th>\n",
       "      <th>doors</th>\n",
       "      <th>country_version</th>\n",
       "      <th>offer_number</th>\n",
       "      <th>warranty</th>\n",
       "      <th>mileage</th>\n",
       "      <th>first_registration</th>\n",
       "      <th>gearbox</th>\n",
       "      <th>fuel_type</th>\n",
       "      <th>colour</th>\n",
       "      <th>paint</th>\n",
       "      <th>desc</th>\n",
       "      <th>seller</th>\n",
       "      <th>seats</th>\n",
       "      <th>power</th>\n",
       "      <th>engine_size</th>\n",
       "      <th>gears</th>\n",
       "      <th>co_emissions</th>\n",
       "      <th>manufacturer_colour</th>\n",
       "      <th>drivetrain</th>\n",
       "      <th>cylinders</th>\n",
       "      <th>fuel_consumption</th>\n",
       "      <th>comfort_&amp;_convenience</th>\n",
       "      <th>entertainment_&amp;_media</th>\n",
       "      <th>safety_&amp;_security</th>\n",
       "      <th>extras</th>\n",
       "      <th>empty_weight</th>\n",
       "      <th>model_code</th>\n",
       "      <th>general_inspection</th>\n",
       "      <th>last_service</th>\n",
       "      <th>full_service_history</th>\n",
       "      <th>non_smoker_vehicle</th>\n",
       "      <th>emission_class</th>\n",
       "      <th>emissions_sticker</th>\n",
       "      <th>upholstery_colour</th>\n",
       "      <th>upholstery</th>\n",
       "      <th>production_date</th>\n",
       "      <th>previous_owner</th>\n",
       "      <th>other_fuel_types</th>\n",
       "      <th>power_consumption</th>\n",
       "      <th>energy_efficiency_class</th>\n",
       "      <th>co_efficiency</th>\n",
       "      <th>fuel_consumption_wltp</th>\n",
       "      <th>co_emissions_wltp</th>\n",
       "      <th>available_from</th>\n",
       "      <th>taxi_or_rental_car</th>\n",
       "      <th>availability</th>\n",
       "      <th>last_timing_belt_change</th>\n",
       "      <th>electric_range_wltp</th>\n",
       "      <th>power_consumption_wltp</th>\n",
       "      <th>battery_ownership</th>\n",
       "      <th>new</th>\n",
       "    </tr>\n",
       "  </thead>\n",
       "  <tbody>\n",
       "    <tr>\n",
       "      <th>0</th>\n",
       "      <td>Mercedes-Benz A 160</td>\n",
       "      <td>CDi</td>\n",
       "      <td>Mercedes-Benz</td>\n",
       "      <td>A 160</td>\n",
       "      <td>P.I. EL PALMAR C/FORJA 6,  11500 PUERTO DE SAN...</td>\n",
       "      <td>€ 16,950.-</td>\n",
       "      <td>[\\n, Compact, \\n]</td>\n",
       "      <td>[\\n, Used, \\n]</td>\n",
       "      <td>[\\n, 5, \\n]</td>\n",
       "      <td>[\\n, Spain, \\n]</td>\n",
       "      <td>[\\n, 7468157, \\n]</td>\n",
       "      <td>[\\n, 24 months, \\n]</td>\n",
       "      <td>120,200 km</td>\n",
       "      <td>06/2016</td>\n",
       "      <td>[\\nManual\\n]</td>\n",
       "      <td>Diesel</td>\n",
       "      <td>Black</td>\n",
       "      <td>Metallic</td>\n",
       "      <td>[ , Precio al contado: 16950 euros,  ,  , Vehí...</td>\n",
       "      <td>Dealer</td>\n",
       "      <td>NaN</td>\n",
       "      <td>NaN</td>\n",
       "      <td>NaN</td>\n",
       "      <td>NaN</td>\n",
       "      <td>NaN</td>\n",
       "      <td>NaN</td>\n",
       "      <td>NaN</td>\n",
       "      <td>NaN</td>\n",
       "      <td>NaN</td>\n",
       "      <td>NaN</td>\n",
       "      <td>NaN</td>\n",
       "      <td>NaN</td>\n",
       "      <td>NaN</td>\n",
       "      <td>NaN</td>\n",
       "      <td>NaN</td>\n",
       "      <td>NaN</td>\n",
       "      <td>NaN</td>\n",
       "      <td>NaN</td>\n",
       "      <td>NaN</td>\n",
       "      <td>NaN</td>\n",
       "      <td>NaN</td>\n",
       "      <td>NaN</td>\n",
       "      <td>NaN</td>\n",
       "      <td>NaN</td>\n",
       "      <td>NaN</td>\n",
       "      <td>NaN</td>\n",
       "      <td>NaN</td>\n",
       "      <td>NaN</td>\n",
       "      <td>NaN</td>\n",
       "      <td>NaN</td>\n",
       "      <td>NaN</td>\n",
       "      <td>NaN</td>\n",
       "      <td>NaN</td>\n",
       "      <td>NaN</td>\n",
       "      <td>NaN</td>\n",
       "      <td>NaN</td>\n",
       "      <td>NaN</td>\n",
       "      <td>NaN</td>\n",
       "      <td>Mercedes-Benz A 160</td>\n",
       "    </tr>\n",
       "    <tr>\n",
       "      <th>1</th>\n",
       "      <td>Mercedes-Benz EQE 350</td>\n",
       "      <td>350+</td>\n",
       "      <td>Mercedes-Benz</td>\n",
       "      <td>EQE 350</td>\n",
       "      <td>APARTADO DE CORREOS 1032,  26140 LOGROÑO, ES</td>\n",
       "      <td>€ 80,900.-</td>\n",
       "      <td>[\\n, Compact, \\n]</td>\n",
       "      <td>[\\n, Pre-registered, \\n]</td>\n",
       "      <td>[\\n, 4, \\n]</td>\n",
       "      <td>[\\n, Spain, \\n]</td>\n",
       "      <td>[\\n, 7054863, \\n]</td>\n",
       "      <td>[\\n, 24 months, \\n]</td>\n",
       "      <td>5,000 km</td>\n",
       "      <td>06/2022</td>\n",
       "      <td>[\\nAutomatic\\n]</td>\n",
       "      <td>Electric</td>\n",
       "      <td>NaN</td>\n",
       "      <td>NaN</td>\n",
       "      <td>[ , Precio al contado: 88900 euros,  , AUTO OJ...</td>\n",
       "      <td>Dealer</td>\n",
       "      <td>[\\n, 5, \\n]</td>\n",
       "      <td>[\\n215 kW (292 hp)\\n]</td>\n",
       "      <td>[\\n1 cc\\n]</td>\n",
       "      <td>[\\n9\\n]</td>\n",
       "      <td>0 g/km (comb.)</td>\n",
       "      <td>Negro Obsidiana</td>\n",
       "      <td>NaN</td>\n",
       "      <td>NaN</td>\n",
       "      <td>NaN</td>\n",
       "      <td>NaN</td>\n",
       "      <td>NaN</td>\n",
       "      <td>NaN</td>\n",
       "      <td>NaN</td>\n",
       "      <td>NaN</td>\n",
       "      <td>NaN</td>\n",
       "      <td>NaN</td>\n",
       "      <td>NaN</td>\n",
       "      <td>NaN</td>\n",
       "      <td>NaN</td>\n",
       "      <td>NaN</td>\n",
       "      <td>NaN</td>\n",
       "      <td>NaN</td>\n",
       "      <td>NaN</td>\n",
       "      <td>NaN</td>\n",
       "      <td>NaN</td>\n",
       "      <td>NaN</td>\n",
       "      <td>NaN</td>\n",
       "      <td>NaN</td>\n",
       "      <td>NaN</td>\n",
       "      <td>NaN</td>\n",
       "      <td>NaN</td>\n",
       "      <td>NaN</td>\n",
       "      <td>NaN</td>\n",
       "      <td>NaN</td>\n",
       "      <td>NaN</td>\n",
       "      <td>NaN</td>\n",
       "      <td>NaN</td>\n",
       "      <td>NaN</td>\n",
       "      <td>Mercedes-Benz EQE 350</td>\n",
       "    </tr>\n",
       "    <tr>\n",
       "      <th>2</th>\n",
       "      <td>Mercedes-Benz A 45 AMG</td>\n",
       "      <td>S 4Matic+ 8G-DCT</td>\n",
       "      <td>Mercedes-Benz</td>\n",
       "      <td>A 45 AMG</td>\n",
       "      <td>PORT. TARRACO, MOLL DE LLEVANT, Nº 5, LOC. 6-8...</td>\n",
       "      <td>€ 69,900.-</td>\n",
       "      <td>[\\n, Compact, \\n]</td>\n",
       "      <td>[\\n, Used, \\n]</td>\n",
       "      <td>[\\n, 5, \\n]</td>\n",
       "      <td>[\\n, Spain, \\n]</td>\n",
       "      <td>[\\n, 7410454, \\n]</td>\n",
       "      <td>[\\n, 12 months, \\n]</td>\n",
       "      <td>18,900 km</td>\n",
       "      <td>07/2020</td>\n",
       "      <td>[\\nAutomatic\\n]</td>\n",
       "      <td>Gasoline</td>\n",
       "      <td>Grey</td>\n",
       "      <td>NaN</td>\n",
       "      <td>[Gris MANUFAKTUR mountaingrau magno,  , Linea/...</td>\n",
       "      <td>Dealer</td>\n",
       "      <td>[\\n, 5, \\n]</td>\n",
       "      <td>[\\n310 kW (421 hp)\\n]</td>\n",
       "      <td>[\\n1,991 cc\\n]</td>\n",
       "      <td>[\\n8\\n]</td>\n",
       "      <td>NaN</td>\n",
       "      <td>Mountaingrau magno</td>\n",
       "      <td>[\\n, 4WD, \\n]</td>\n",
       "      <td>[\\n4\\n]</td>\n",
       "      <td>[[8.4 l/100 km (comb.)], [10.9 l/100 km (city)...</td>\n",
       "      <td>NaN</td>\n",
       "      <td>NaN</td>\n",
       "      <td>NaN</td>\n",
       "      <td>NaN</td>\n",
       "      <td>NaN</td>\n",
       "      <td>NaN</td>\n",
       "      <td>NaN</td>\n",
       "      <td>NaN</td>\n",
       "      <td>NaN</td>\n",
       "      <td>NaN</td>\n",
       "      <td>NaN</td>\n",
       "      <td>NaN</td>\n",
       "      <td>NaN</td>\n",
       "      <td>NaN</td>\n",
       "      <td>NaN</td>\n",
       "      <td>NaN</td>\n",
       "      <td>NaN</td>\n",
       "      <td>NaN</td>\n",
       "      <td>NaN</td>\n",
       "      <td>NaN</td>\n",
       "      <td>NaN</td>\n",
       "      <td>NaN</td>\n",
       "      <td>NaN</td>\n",
       "      <td>NaN</td>\n",
       "      <td>NaN</td>\n",
       "      <td>NaN</td>\n",
       "      <td>NaN</td>\n",
       "      <td>NaN</td>\n",
       "      <td>NaN</td>\n",
       "      <td>Mercedes-Benz A 45 AMG</td>\n",
       "    </tr>\n",
       "    <tr>\n",
       "      <th>3</th>\n",
       "      <td>Mercedes-Benz A 35 AMG</td>\n",
       "      <td>4Matic+ 7G-DCT</td>\n",
       "      <td>Mercedes-Benz</td>\n",
       "      <td>A 35 AMG</td>\n",
       "      <td>Carrer de Provença, 31 Local,  8029 BARCELONA, ES</td>\n",
       "      <td>€ 46,990.-</td>\n",
       "      <td>[\\n, Compact, \\n]</td>\n",
       "      <td>[\\n, Used, \\n]</td>\n",
       "      <td>[\\n, 5, \\n]</td>\n",
       "      <td>[\\n, Spain, \\n]</td>\n",
       "      <td>[\\n, 7464503, \\n]</td>\n",
       "      <td>[\\n, 12 months, \\n]</td>\n",
       "      <td>18,995 km</td>\n",
       "      <td>01/2020</td>\n",
       "      <td>[\\nAutomatic\\n]</td>\n",
       "      <td>Gasoline</td>\n",
       "      <td>Yellow</td>\n",
       "      <td>NaN</td>\n",
       "      <td>[ , Precio al contado: 48990 euros,  ,  , BONI...</td>\n",
       "      <td>Dealer</td>\n",
       "      <td>[\\n, 5, \\n]</td>\n",
       "      <td>[\\n225 kW (306 hp)\\n]</td>\n",
       "      <td>[\\n1,991 cc\\n]</td>\n",
       "      <td>[\\n7\\n]</td>\n",
       "      <td>NaN</td>\n",
       "      <td>Amarillo Sol</td>\n",
       "      <td>[\\n, 4WD, \\n]</td>\n",
       "      <td>[\\n4\\n]</td>\n",
       "      <td>[[7.3 l/100 km (comb.)], [9.3 l/100 km (city)]...</td>\n",
       "      <td>[Air conditioning, Automatic climate control, ...</td>\n",
       "      <td>[USB]</td>\n",
       "      <td>[ABS, Central door lock, Driver-side airbag, E...</td>\n",
       "      <td>[Sport seats]</td>\n",
       "      <td>NaN</td>\n",
       "      <td>NaN</td>\n",
       "      <td>NaN</td>\n",
       "      <td>NaN</td>\n",
       "      <td>NaN</td>\n",
       "      <td>NaN</td>\n",
       "      <td>NaN</td>\n",
       "      <td>NaN</td>\n",
       "      <td>NaN</td>\n",
       "      <td>NaN</td>\n",
       "      <td>NaN</td>\n",
       "      <td>NaN</td>\n",
       "      <td>NaN</td>\n",
       "      <td>NaN</td>\n",
       "      <td>NaN</td>\n",
       "      <td>NaN</td>\n",
       "      <td>NaN</td>\n",
       "      <td>NaN</td>\n",
       "      <td>NaN</td>\n",
       "      <td>NaN</td>\n",
       "      <td>NaN</td>\n",
       "      <td>NaN</td>\n",
       "      <td>NaN</td>\n",
       "      <td>NaN</td>\n",
       "      <td>NaN</td>\n",
       "      <td>Mercedes-Benz A 35 AMG</td>\n",
       "    </tr>\n",
       "    <tr>\n",
       "      <th>4</th>\n",
       "      <td>Mercedes-Benz A 45 AMG</td>\n",
       "      <td>200CDI BE Line 4M 7G-DCT</td>\n",
       "      <td>Mercedes-Benz</td>\n",
       "      <td>A 45 AMG</td>\n",
       "      <td>CARRIL ARAGONES 4,  30007 CASILLAS, ES</td>\n",
       "      <td>€ 16,800.-</td>\n",
       "      <td>[\\n, Compact, \\n]</td>\n",
       "      <td>[\\n, Used, \\n]</td>\n",
       "      <td>[\\n, 5, \\n]</td>\n",
       "      <td>[\\n, Spain, \\n]</td>\n",
       "      <td>[\\n, 7127931, \\n]</td>\n",
       "      <td>[\\n, 12 months, \\n]</td>\n",
       "      <td>197,000 km</td>\n",
       "      <td>09/2015</td>\n",
       "      <td>[\\nAutomatic\\n]</td>\n",
       "      <td>Diesel</td>\n",
       "      <td>White</td>\n",
       "      <td>Metallic</td>\n",
       "      <td>[ , Precio al contado: 17400 euros,  , Vehícul...</td>\n",
       "      <td>Dealer</td>\n",
       "      <td>[\\n, 5, \\n]</td>\n",
       "      <td>[\\n100 kW (136 hp)\\n]</td>\n",
       "      <td>[\\n2,143 cc\\n]</td>\n",
       "      <td>[\\n7\\n]</td>\n",
       "      <td>NaN</td>\n",
       "      <td>NaN</td>\n",
       "      <td>[\\n, 4WD, \\n]</td>\n",
       "      <td>[\\n4\\n]</td>\n",
       "      <td>[[4.9 l/100 km (comb.)], [5.7 l/100 km (city)]...</td>\n",
       "      <td>[Air conditioning, Electrical side mirrors, Mu...</td>\n",
       "      <td>[Bluetooth, CD player, MP3, USB]</td>\n",
       "      <td>[ABS, Central door lock, Driver-side airbag, E...</td>\n",
       "      <td>NaN</td>\n",
       "      <td>[\\n1,545 kg\\n]</td>\n",
       "      <td>NaN</td>\n",
       "      <td>NaN</td>\n",
       "      <td>NaN</td>\n",
       "      <td>NaN</td>\n",
       "      <td>NaN</td>\n",
       "      <td>NaN</td>\n",
       "      <td>NaN</td>\n",
       "      <td>NaN</td>\n",
       "      <td>NaN</td>\n",
       "      <td>NaN</td>\n",
       "      <td>NaN</td>\n",
       "      <td>NaN</td>\n",
       "      <td>NaN</td>\n",
       "      <td>NaN</td>\n",
       "      <td>NaN</td>\n",
       "      <td>NaN</td>\n",
       "      <td>NaN</td>\n",
       "      <td>NaN</td>\n",
       "      <td>NaN</td>\n",
       "      <td>NaN</td>\n",
       "      <td>NaN</td>\n",
       "      <td>NaN</td>\n",
       "      <td>NaN</td>\n",
       "      <td>NaN</td>\n",
       "      <td>Mercedes-Benz A 45 AMG</td>\n",
       "    </tr>\n",
       "  </tbody>\n",
       "</table>\n",
       "</div>"
      ],
      "text/plain": [
       "               make_model         short_description           make      model  \\\n",
       "0     Mercedes-Benz A 160                       CDi  Mercedes-Benz     A 160    \n",
       "1   Mercedes-Benz EQE 350                      350+  Mercedes-Benz   EQE 350    \n",
       "2  Mercedes-Benz A 45 AMG          S 4Matic+ 8G-DCT  Mercedes-Benz  A 45 AMG    \n",
       "3  Mercedes-Benz A 35 AMG            4Matic+ 7G-DCT  Mercedes-Benz  A 35 AMG    \n",
       "4  Mercedes-Benz A 45 AMG  200CDI BE Line 4M 7G-DCT  Mercedes-Benz  A 45 AMG    \n",
       "\n",
       "                                            location       price  \\\n",
       "0  P.I. EL PALMAR C/FORJA 6,  11500 PUERTO DE SAN...  € 16,950.-   \n",
       "1       APARTADO DE CORREOS 1032,  26140 LOGROÑO, ES  € 80,900.-   \n",
       "2  PORT. TARRACO, MOLL DE LLEVANT, Nº 5, LOC. 6-8...  € 69,900.-   \n",
       "3  Carrer de Provença, 31 Local,  8029 BARCELONA, ES  € 46,990.-   \n",
       "4             CARRIL ARAGONES 4,  30007 CASILLAS, ES  € 16,800.-   \n",
       "\n",
       "           body_type                      type        doors  country_version  \\\n",
       "0  [\\n, Compact, \\n]            [\\n, Used, \\n]  [\\n, 5, \\n]  [\\n, Spain, \\n]   \n",
       "1  [\\n, Compact, \\n]  [\\n, Pre-registered, \\n]  [\\n, 4, \\n]  [\\n, Spain, \\n]   \n",
       "2  [\\n, Compact, \\n]            [\\n, Used, \\n]  [\\n, 5, \\n]  [\\n, Spain, \\n]   \n",
       "3  [\\n, Compact, \\n]            [\\n, Used, \\n]  [\\n, 5, \\n]  [\\n, Spain, \\n]   \n",
       "4  [\\n, Compact, \\n]            [\\n, Used, \\n]  [\\n, 5, \\n]  [\\n, Spain, \\n]   \n",
       "\n",
       "        offer_number             warranty     mileage first_registration  \\\n",
       "0  [\\n, 7468157, \\n]  [\\n, 24 months, \\n]  120,200 km            06/2016   \n",
       "1  [\\n, 7054863, \\n]  [\\n, 24 months, \\n]    5,000 km            06/2022   \n",
       "2  [\\n, 7410454, \\n]  [\\n, 12 months, \\n]   18,900 km            07/2020   \n",
       "3  [\\n, 7464503, \\n]  [\\n, 12 months, \\n]   18,995 km            01/2020   \n",
       "4  [\\n, 7127931, \\n]  [\\n, 12 months, \\n]  197,000 km            09/2015   \n",
       "\n",
       "           gearbox fuel_type  colour     paint  \\\n",
       "0     [\\nManual\\n]    Diesel   Black  Metallic   \n",
       "1  [\\nAutomatic\\n]  Electric     NaN       NaN   \n",
       "2  [\\nAutomatic\\n]  Gasoline    Grey       NaN   \n",
       "3  [\\nAutomatic\\n]  Gasoline  Yellow       NaN   \n",
       "4  [\\nAutomatic\\n]    Diesel   White  Metallic   \n",
       "\n",
       "                                                desc  seller        seats  \\\n",
       "0  [ , Precio al contado: 16950 euros,  ,  , Vehí...  Dealer          NaN   \n",
       "1  [ , Precio al contado: 88900 euros,  , AUTO OJ...  Dealer  [\\n, 5, \\n]   \n",
       "2  [Gris MANUFAKTUR mountaingrau magno,  , Linea/...  Dealer  [\\n, 5, \\n]   \n",
       "3  [ , Precio al contado: 48990 euros,  ,  , BONI...  Dealer  [\\n, 5, \\n]   \n",
       "4  [ , Precio al contado: 17400 euros,  , Vehícul...  Dealer  [\\n, 5, \\n]   \n",
       "\n",
       "                   power     engine_size    gears    co_emissions  \\\n",
       "0                    NaN             NaN      NaN             NaN   \n",
       "1  [\\n215 kW (292 hp)\\n]      [\\n1 cc\\n]  [\\n9\\n]  0 g/km (comb.)   \n",
       "2  [\\n310 kW (421 hp)\\n]  [\\n1,991 cc\\n]  [\\n8\\n]             NaN   \n",
       "3  [\\n225 kW (306 hp)\\n]  [\\n1,991 cc\\n]  [\\n7\\n]             NaN   \n",
       "4  [\\n100 kW (136 hp)\\n]  [\\n2,143 cc\\n]  [\\n7\\n]             NaN   \n",
       "\n",
       "  manufacturer_colour     drivetrain cylinders  \\\n",
       "0                 NaN            NaN       NaN   \n",
       "1     Negro Obsidiana            NaN       NaN   \n",
       "2  Mountaingrau magno  [\\n, 4WD, \\n]   [\\n4\\n]   \n",
       "3        Amarillo Sol  [\\n, 4WD, \\n]   [\\n4\\n]   \n",
       "4                 NaN  [\\n, 4WD, \\n]   [\\n4\\n]   \n",
       "\n",
       "                                    fuel_consumption  \\\n",
       "0                                                NaN   \n",
       "1                                                NaN   \n",
       "2  [[8.4 l/100 km (comb.)], [10.9 l/100 km (city)...   \n",
       "3  [[7.3 l/100 km (comb.)], [9.3 l/100 km (city)]...   \n",
       "4  [[4.9 l/100 km (comb.)], [5.7 l/100 km (city)]...   \n",
       "\n",
       "                               comfort_&_convenience  \\\n",
       "0                                                NaN   \n",
       "1                                                NaN   \n",
       "2                                                NaN   \n",
       "3  [Air conditioning, Automatic climate control, ...   \n",
       "4  [Air conditioning, Electrical side mirrors, Mu...   \n",
       "\n",
       "              entertainment_&_media  \\\n",
       "0                               NaN   \n",
       "1                               NaN   \n",
       "2                               NaN   \n",
       "3                             [USB]   \n",
       "4  [Bluetooth, CD player, MP3, USB]   \n",
       "\n",
       "                                   safety_&_security         extras  \\\n",
       "0                                                NaN            NaN   \n",
       "1                                                NaN            NaN   \n",
       "2                                                NaN            NaN   \n",
       "3  [ABS, Central door lock, Driver-side airbag, E...  [Sport seats]   \n",
       "4  [ABS, Central door lock, Driver-side airbag, E...            NaN   \n",
       "\n",
       "     empty_weight model_code general_inspection last_service  \\\n",
       "0             NaN        NaN                NaN          NaN   \n",
       "1             NaN        NaN                NaN          NaN   \n",
       "2             NaN        NaN                NaN          NaN   \n",
       "3             NaN        NaN                NaN          NaN   \n",
       "4  [\\n1,545 kg\\n]        NaN                NaN          NaN   \n",
       "\n",
       "  full_service_history non_smoker_vehicle emission_class emissions_sticker  \\\n",
       "0                  NaN                NaN            NaN               NaN   \n",
       "1                  NaN                NaN            NaN               NaN   \n",
       "2                  NaN                NaN            NaN               NaN   \n",
       "3                  NaN                NaN            NaN               NaN   \n",
       "4                  NaN                NaN            NaN               NaN   \n",
       "\n",
       "  upholstery_colour upholstery  production_date previous_owner  \\\n",
       "0               NaN        NaN              NaN            NaN   \n",
       "1               NaN        NaN              NaN            NaN   \n",
       "2               NaN        NaN              NaN            NaN   \n",
       "3               NaN        NaN              NaN            NaN   \n",
       "4               NaN        NaN              NaN            NaN   \n",
       "\n",
       "  other_fuel_types power_consumption energy_efficiency_class co_efficiency  \\\n",
       "0              NaN               NaN                     NaN           NaN   \n",
       "1              NaN               NaN                     NaN           NaN   \n",
       "2              NaN               NaN                     NaN           NaN   \n",
       "3              NaN               NaN                     NaN           NaN   \n",
       "4              NaN               NaN                     NaN           NaN   \n",
       "\n",
       "  fuel_consumption_wltp co_emissions_wltp available_from taxi_or_rental_car  \\\n",
       "0                   NaN               NaN            NaN                NaN   \n",
       "1                   NaN               NaN            NaN                NaN   \n",
       "2                   NaN               NaN            NaN                NaN   \n",
       "3                   NaN               NaN            NaN                NaN   \n",
       "4                   NaN               NaN            NaN                NaN   \n",
       "\n",
       "  availability last_timing_belt_change electric_range_wltp  \\\n",
       "0          NaN                     NaN                 NaN   \n",
       "1          NaN                     NaN                 NaN   \n",
       "2          NaN                     NaN                 NaN   \n",
       "3          NaN                     NaN                 NaN   \n",
       "4          NaN                     NaN                 NaN   \n",
       "\n",
       "  power_consumption_wltp battery_ownership                     new  \n",
       "0                    NaN               NaN     Mercedes-Benz A 160  \n",
       "1                    NaN               NaN   Mercedes-Benz EQE 350  \n",
       "2                    NaN               NaN  Mercedes-Benz A 45 AMG  \n",
       "3                    NaN               NaN  Mercedes-Benz A 35 AMG  \n",
       "4                    NaN               NaN  Mercedes-Benz A 45 AMG  "
      ]
     },
     "execution_count": 38,
     "metadata": {},
     "output_type": "execute_result"
    }
   ],
   "source": [
    "df.head(5)"
   ]
  },
  {
   "cell_type": "markdown",
   "metadata": {},
   "source": [
    "# location"
   ]
  },
  {
   "cell_type": "code",
   "execution_count": 39,
   "metadata": {},
   "outputs": [
    {
     "data": {
      "text/plain": [
       "'location'"
      ]
     },
     "execution_count": 39,
     "metadata": {},
     "output_type": "execute_result"
    }
   ],
   "source": [
    "df.columns[4]"
   ]
  },
  {
   "cell_type": "code",
   "execution_count": 40,
   "metadata": {
    "scrolled": true,
    "tags": []
   },
   "outputs": [
    {
     "data": {
      "text/plain": [
       "0        P.I. EL PALMAR C/FORJA 6,  11500 PUERTO DE SAN...\n",
       "1             APARTADO DE CORREOS 1032,  26140 LOGROÑO, ES\n",
       "2        PORT. TARRACO, MOLL DE LLEVANT, Nº 5, LOC. 6-8...\n",
       "3        Carrer de Provença, 31 Local,  8029 BARCELONA, ES\n",
       "4                   CARRIL ARAGONES 4,  30007 CASILLAS, ES\n",
       "                               ...                        \n",
       "29475                    Stobbeweg 6,  2461 EX TER AAR, NL\n",
       "29476               Sur rendez-vous,  5060 Sambreville, BE\n",
       "29477      Bergambachterstraat 5,  2871 JB SCHOONHOVEN, NL\n",
       "29478                    Lage Ham 106,  5102 AE DONGEN, NL\n",
       "29479                                                  NaN\n",
       "Name: location, Length: 29480, dtype: object"
      ]
     },
     "execution_count": 40,
     "metadata": {},
     "output_type": "execute_result"
    }
   ],
   "source": [
    "df.location"
   ]
  },
  {
   "cell_type": "code",
   "execution_count": 41,
   "metadata": {},
   "outputs": [],
   "source": [
    "#df[(country)]= df.location.apply(lambda x: x[-2:]if x!= 'nan' else np.nan)"
   ]
  },
  {
   "cell_type": "markdown",
   "metadata": {},
   "source": [
    "# price"
   ]
  },
  {
   "cell_type": "code",
   "execution_count": 42,
   "metadata": {},
   "outputs": [
    {
     "data": {
      "text/plain": [
       "'price'"
      ]
     },
     "execution_count": 42,
     "metadata": {},
     "output_type": "execute_result"
    }
   ],
   "source": [
    "df.columns[5]"
   ]
  },
  {
   "cell_type": "code",
   "execution_count": 43,
   "metadata": {
    "scrolled": true,
    "tags": []
   },
   "outputs": [
    {
     "data": {
      "text/plain": [
       "0        € 16,950.-\n",
       "1        € 80,900.-\n",
       "2        € 69,900.-\n",
       "3        € 46,990.-\n",
       "4        € 16,800.-\n",
       "            ...    \n",
       "29475     € 5,499.-\n",
       "29476     € 7,300.-\n",
       "29477    € 29,900.-\n",
       "29478     € 4,440.-\n",
       "29479           NaN\n",
       "Name: price, Length: 29480, dtype: object"
      ]
     },
     "execution_count": 43,
     "metadata": {},
     "output_type": "execute_result"
    }
   ],
   "source": [
    "df.price"
   ]
  },
  {
   "cell_type": "code",
   "execution_count": 44,
   "metadata": {},
   "outputs": [],
   "source": [
    "df.price = df.price.str.replace('€','').str.replace(',','').str.replace('-','')"
   ]
  },
  {
   "cell_type": "code",
   "execution_count": 45,
   "metadata": {
    "scrolled": true,
    "tags": []
   },
   "outputs": [
    {
     "data": {
      "text/plain": [
       " 14990.    222\n",
       " 12990.    219\n",
       " 16990.    186\n",
       " 19990.    166\n",
       " 9990.     160\n",
       "          ... \n",
       " 19112.      1\n",
       " 30465.      1\n",
       " 18461.      1\n",
       " 22649.      1\n",
       " 4440.       1\n",
       "Name: price, Length: 5021, dtype: int64"
      ]
     },
     "execution_count": 45,
     "metadata": {},
     "output_type": "execute_result"
    }
   ],
   "source": [
    "df.price.value_counts()"
   ]
  },
  {
   "cell_type": "code",
   "execution_count": 46,
   "metadata": {},
   "outputs": [],
   "source": [
    "df.price = df.price.astype('float')"
   ]
  },
  {
   "cell_type": "code",
   "execution_count": 47,
   "metadata": {
    "scrolled": true,
    "tags": []
   },
   "outputs": [
    {
     "data": {
      "text/plain": [
       "0        16950\n",
       "1        80900\n",
       "2        69900\n",
       "3        46990\n",
       "4        16800\n",
       "         ...  \n",
       "29475     5499\n",
       "29476     7300\n",
       "29477    29900\n",
       "29478     4440\n",
       "29479      NaN\n",
       "Name: price, Length: 29480, dtype: object"
      ]
     },
     "execution_count": 47,
     "metadata": {},
     "output_type": "execute_result"
    }
   ],
   "source": [
    "df.price.astype('str').apply(lambda x: re.findall('[0-9]+',x )[0] if  len(re.findall('[0-9]+',x))>0 else np.nan )"
   ]
  },
  {
   "cell_type": "code",
   "execution_count": 48,
   "metadata": {
    "scrolled": true,
    "tags": []
   },
   "outputs": [
    {
     "data": {
      "text/plain": [
       "NaN         850\n",
       "14990.00    222\n",
       "12990.00    219\n",
       "16990.00    186\n",
       "19990.00    166\n",
       "           ... \n",
       "19112.00      1\n",
       "30465.00      1\n",
       "18461.00      1\n",
       "22649.00      1\n",
       "4440.00       1\n",
       "Name: price, Length: 5022, dtype: int64"
      ]
     },
     "execution_count": 48,
     "metadata": {},
     "output_type": "execute_result"
    }
   ],
   "source": [
    "df['price'].value_counts(dropna=False)"
   ]
  },
  {
   "cell_type": "markdown",
   "metadata": {},
   "source": [
    "# body_type"
   ]
  },
  {
   "cell_type": "code",
   "execution_count": 49,
   "metadata": {},
   "outputs": [
    {
     "data": {
      "text/plain": [
       "'body_type'"
      ]
     },
     "execution_count": 49,
     "metadata": {},
     "output_type": "execute_result"
    }
   ],
   "source": [
    "df.columns[6]"
   ]
  },
  {
   "cell_type": "code",
   "execution_count": 50,
   "metadata": {
    "scrolled": true,
    "tags": []
   },
   "outputs": [
    {
     "data": {
      "text/plain": [
       "0        [\\n, Compact, \\n]\n",
       "1        [\\n, Compact, \\n]\n",
       "2        [\\n, Compact, \\n]\n",
       "3        [\\n, Compact, \\n]\n",
       "4        [\\n, Compact, \\n]\n",
       "               ...        \n",
       "29475      [\\n, Sedan, \\n]\n",
       "29476      [\\n, Sedan, \\n]\n",
       "29477      [\\n, Sedan, \\n]\n",
       "29478      [\\n, Sedan, \\n]\n",
       "29479                  NaN\n",
       "Name: body_type, Length: 29480, dtype: object"
      ]
     },
     "execution_count": 50,
     "metadata": {},
     "output_type": "execute_result"
    }
   ],
   "source": [
    "df.body_type"
   ]
  },
  {
   "cell_type": "code",
   "execution_count": 51,
   "metadata": {
    "scrolled": true,
    "tags": []
   },
   "outputs": [
    {
     "data": {
      "text/plain": [
       "0        \\n, Compact, \\n\n",
       "1        \\n, Compact, \\n\n",
       "2        \\n, Compact, \\n\n",
       "3        \\n, Compact, \\n\n",
       "4        \\n, Compact, \\n\n",
       "              ...       \n",
       "29475      \\n, Sedan, \\n\n",
       "29476      \\n, Sedan, \\n\n",
       "29477      \\n, Sedan, \\n\n",
       "29478      \\n, Sedan, \\n\n",
       "29479                NaN\n",
       "Name: body_type, Length: 29480, dtype: object"
      ]
     },
     "execution_count": 51,
     "metadata": {},
     "output_type": "execute_result"
    }
   ],
   "source": [
    "df.body_type.explode()"
   ]
  },
  {
   "cell_type": "code",
   "execution_count": 52,
   "metadata": {},
   "outputs": [],
   "source": [
    "#type(df.body_type.explode().str.strip('\\n, ')[1])"
   ]
  },
  {
   "cell_type": "code",
   "execution_count": 53,
   "metadata": {
    "scrolled": true,
    "tags": []
   },
   "outputs": [
    {
     "data": {
      "text/plain": [
       "0        Compact\n",
       "1        Compact\n",
       "2        Compact\n",
       "3        Compact\n",
       "4        Compact\n",
       "          ...   \n",
       "29475      Sedan\n",
       "29476      Sedan\n",
       "29477      Sedan\n",
       "29478      Sedan\n",
       "29479        NaN\n",
       "Name: body_type, Length: 29480, dtype: object"
      ]
     },
     "execution_count": 53,
     "metadata": {},
     "output_type": "execute_result"
    }
   ],
   "source": [
    "df.body_type= df.body_type.explode().str.strip('\\n, ')\n",
    "df.body_type"
   ]
  },
  {
   "cell_type": "code",
   "execution_count": 54,
   "metadata": {
    "tags": []
   },
   "outputs": [
    {
     "data": {
      "text/plain": [
       "Station wagon       5448\n",
       "Off-Road/Pick-up    5415\n",
       "Compact             5387\n",
       "Sedan               5043\n",
       "Coupe               4009\n",
       "Convertible         3328\n",
       "NaN                  850\n",
       "Name: body_type, dtype: int64"
      ]
     },
     "execution_count": 54,
     "metadata": {},
     "output_type": "execute_result"
    }
   ],
   "source": [
    "df.body_type.value_counts(dropna=False)"
   ]
  },
  {
   "cell_type": "code",
   "execution_count": 55,
   "metadata": {},
   "outputs": [],
   "source": [
    "def str_splitter(x):\n",
    "    if type(x)==list:\n",
    "       return x[0].split(',')[1]\n",
    "    else :\n",
    "       return x"
   ]
  },
  {
   "cell_type": "markdown",
   "metadata": {},
   "source": []
  },
  {
   "cell_type": "code",
   "execution_count": 56,
   "metadata": {},
   "outputs": [
    {
     "data": {
      "text/plain": [
       "'type'"
      ]
     },
     "execution_count": 56,
     "metadata": {},
     "output_type": "execute_result"
    }
   ],
   "source": [
    "df.columns[7]"
   ]
  },
  {
   "cell_type": "code",
   "execution_count": 57,
   "metadata": {},
   "outputs": [],
   "source": [
    "df.type = df.type.apply(str_splitter)"
   ]
  },
  {
   "cell_type": "code",
   "execution_count": 58,
   "metadata": {},
   "outputs": [
    {
     "data": {
      "text/plain": [
       " Used              25251\n",
       " Demonstration      1433\n",
       " Pre-registered     1377\n",
       "NaN                  850\n",
       " Employee's car      569\n",
       "Name: type, dtype: int64"
      ]
     },
     "execution_count": 58,
     "metadata": {},
     "output_type": "execute_result"
    }
   ],
   "source": [
    "df.type.value_counts(dropna=False)"
   ]
  },
  {
   "cell_type": "markdown",
   "metadata": {},
   "source": []
  },
  {
   "cell_type": "code",
   "execution_count": 59,
   "metadata": {},
   "outputs": [
    {
     "data": {
      "text/plain": [
       "'doors'"
      ]
     },
     "execution_count": 59,
     "metadata": {},
     "output_type": "execute_result"
    }
   ],
   "source": [
    "df.columns[8]"
   ]
  },
  {
   "cell_type": "code",
   "execution_count": 60,
   "metadata": {},
   "outputs": [],
   "source": [
    "df.doors = df.doors.apply(str_splitter).astype('float')"
   ]
  },
  {
   "cell_type": "code",
   "execution_count": 61,
   "metadata": {
    "tags": []
   },
   "outputs": [
    {
     "data": {
      "text/plain": [
       "5.00    17481\n",
       "2.00     5523\n",
       "4.00     3001\n",
       "3.00     2259\n",
       "NaN      1209\n",
       "6.00        5\n",
       "1.00        2\n",
       "Name: doors, dtype: int64"
      ]
     },
     "execution_count": 61,
     "metadata": {},
     "output_type": "execute_result"
    }
   ],
   "source": [
    "df.doors.value_counts(dropna=False)"
   ]
  },
  {
   "cell_type": "code",
   "execution_count": 62,
   "metadata": {},
   "outputs": [
    {
     "data": {
      "text/plain": [
       "<Axes: xlabel='make', ylabel='price'>"
      ]
     },
     "execution_count": 62,
     "metadata": {},
     "output_type": "execute_result"
    },
    {
     "data": {
      "image/png": "[encoded data removed]",
      "text/plain": [
       "<Figure size 1800x1000 with 1 Axes>"
      ]
     },
     "metadata": {},
     "output_type": "display_data"
    }
   ],
   "source": [
    "plt.figure(figsize=(18,10))\n",
    "sns.barplot(x = df.make, y = df.price, hue= df.doors)"
   ]
  },
  {
   "cell_type": "markdown",
   "metadata": {},
   "source": []
  },
  {
   "cell_type": "code",
   "execution_count": 63,
   "metadata": {},
   "outputs": [
    {
     "data": {
      "text/plain": [
       "'country_version'"
      ]
     },
     "execution_count": 63,
     "metadata": {},
     "output_type": "execute_result"
    }
   ],
   "source": [
    "df.columns[9]"
   ]
  },
  {
   "cell_type": "code",
   "execution_count": 64,
   "metadata": {
    "tags": []
   },
   "outputs": [],
   "source": [
    "df.drop(\"country_version\", axis=1, inplace=True)"
   ]
  },
  {
   "cell_type": "markdown",
   "metadata": {},
   "source": []
  },
  {
   "cell_type": "code",
   "execution_count": 65,
   "metadata": {
    "scrolled": true,
    "tags": []
   },
   "outputs": [
    {
     "data": {
      "text/plain": [
       "'warranty'"
      ]
     },
     "execution_count": 65,
     "metadata": {},
     "output_type": "execute_result"
    }
   ],
   "source": [
    "df.columns[10]"
   ]
  },
  {
   "cell_type": "code",
   "execution_count": 66,
   "metadata": {
    "tags": []
   },
   "outputs": [],
   "source": [
    "df.drop(\"offer_number\", axis=1, inplace=True)"
   ]
  },
  {
   "cell_type": "markdown",
   "metadata": {},
   "source": []
  },
  {
   "cell_type": "code",
   "execution_count": 67,
   "metadata": {
    "tags": []
   },
   "outputs": [
    {
     "data": {
      "text/plain": [
       "'first_registration'"
      ]
     },
     "execution_count": 67,
     "metadata": {},
     "output_type": "execute_result"
    }
   ],
   "source": [
    "df.columns[11]"
   ]
  },
  {
   "cell_type": "code",
   "execution_count": 68,
   "metadata": {},
   "outputs": [
    {
     "data": {
      "text/plain": [
       "13696"
      ]
     },
     "execution_count": 68,
     "metadata": {},
     "output_type": "execute_result"
    }
   ],
   "source": [
    "df.warranty.isna().sum()"
   ]
  },
  {
   "cell_type": "code",
   "execution_count": 69,
   "metadata": {
    "tags": []
   },
   "outputs": [],
   "source": [
    "df.warranty=df.warranty.apply(str_splitter).str.replace('months','')"
   ]
  },
  {
   "cell_type": "code",
   "execution_count": 70,
   "metadata": {
    "scrolled": true,
    "tags": []
   },
   "outputs": [
    {
     "data": {
      "text/plain": [
       "NaN      13696\n",
       " 12       9545\n",
       " Yes      2319\n",
       " 24       1515\n",
       " 60        968\n",
       " 6         398\n",
       " 36        257\n",
       " 3         185\n",
       " 0         133\n",
       " 48         78\n",
       " 84         47\n",
       " 72         40\n",
       " 13         22\n",
       " 8          19\n",
       " 18         15\n",
       " 1          15\n",
       " 15         13\n",
       " 14         13\n",
       " 16         13\n",
       " 30         12\n",
       " 34         11\n",
       " 21         11\n",
       " 33         11\n",
       " 32          9\n",
       " 20          9\n",
       " 23          9\n",
       " 19          9\n",
       " 17          9\n",
       " 35          8\n",
       " 28          8\n",
       " 50          6\n",
       " 22          6\n",
       " 42          5\n",
       " 31          4\n",
       " 26          4\n",
       " 52          4\n",
       " 47          4\n",
       " 9           4\n",
       " 25          3\n",
       " 58          3\n",
       " 11          3\n",
       " 27          3\n",
       " 45          2\n",
       " 53          2\n",
       " 10          2\n",
       " 57          2\n",
       " 51          2\n",
       " 29          2\n",
       " 2           2\n",
       " 80          2\n",
       " 90          2\n",
       " 7           2\n",
       " 46          1\n",
       " 117         1\n",
       " 43          1\n",
       " 65          1\n",
       " 39          1\n",
       " 142         1\n",
       " 110         1\n",
       " 37          1\n",
       " 49          1\n",
       " 55          1\n",
       " 99          1\n",
       " 122         1\n",
       " 44          1\n",
       " 4           1\n",
       "Name: warranty, dtype: int64"
      ]
     },
     "execution_count": 70,
     "metadata": {},
     "output_type": "execute_result"
    }
   ],
   "source": [
    "df.warranty.value_counts(dropna=False)"
   ]
  },
  {
   "cell_type": "markdown",
   "metadata": {},
   "source": []
  },
  {
   "cell_type": "code",
   "execution_count": 71,
   "metadata": {
    "tags": []
   },
   "outputs": [
    {
     "data": {
      "text/plain": [
       "'gearbox'"
      ]
     },
     "execution_count": 71,
     "metadata": {},
     "output_type": "execute_result"
    }
   ],
   "source": [
    "df.columns[12]"
   ]
  },
  {
   "cell_type": "code",
   "execution_count": 72,
   "metadata": {
    "scrolled": true,
    "tags": []
   },
   "outputs": [
    {
     "data": {
      "text/plain": [
       "0        120,200 km\n",
       "1          5,000 km\n",
       "2         18,900 km\n",
       "3         18,995 km\n",
       "4        197,000 km\n",
       "            ...    \n",
       "29475    145,000 km\n",
       "29476     96,000 km\n",
       "29477     94,343 km\n",
       "29478    230,047 km\n",
       "29479           NaN\n",
       "Name: mileage, Length: 29480, dtype: object"
      ]
     },
     "execution_count": 72,
     "metadata": {},
     "output_type": "execute_result"
    }
   ],
   "source": [
    "df.mileage"
   ]
  },
  {
   "cell_type": "code",
   "execution_count": 73,
   "metadata": {},
   "outputs": [],
   "source": [
    "df.mileage = df.mileage.str.replace(',','').str.replace(' km','')"
   ]
  },
  {
   "cell_type": "code",
   "execution_count": 74,
   "metadata": {
    "scrolled": true,
    "tags": []
   },
   "outputs": [],
   "source": [
    "df.mileage = df.mileage.astype('float')"
   ]
  },
  {
   "cell_type": "code",
   "execution_count": 75,
   "metadata": {
    "scrolled": true,
    "tags": []
   },
   "outputs": [
    {
     "data": {
      "text/plain": [
       "10.00        586\n",
       "1.00         172\n",
       "50.00        133\n",
       "100.00       119\n",
       "5000.00      118\n",
       "            ... \n",
       "141589.00      1\n",
       "59821.00       1\n",
       "123500.00      1\n",
       "29781.00       1\n",
       "230047.00      1\n",
       "Name: mileage, Length: 14183, dtype: int64"
      ]
     },
     "execution_count": 75,
     "metadata": {},
     "output_type": "execute_result"
    }
   ],
   "source": [
    "df.mileage.value_counts()"
   ]
  },
  {
   "cell_type": "markdown",
   "metadata": {},
   "source": []
  },
  {
   "cell_type": "code",
   "execution_count": 76,
   "metadata": {},
   "outputs": [
    {
     "data": {
      "text/plain": [
       "'fuel_type'"
      ]
     },
     "execution_count": 76,
     "metadata": {},
     "output_type": "execute_result"
    }
   ],
   "source": [
    "df.columns[13]"
   ]
  },
  {
   "cell_type": "markdown",
   "metadata": {},
   "source": []
  },
  {
   "cell_type": "code",
   "execution_count": 77,
   "metadata": {},
   "outputs": [
    {
     "data": {
      "text/plain": [
       "'colour'"
      ]
     },
     "execution_count": 77,
     "metadata": {},
     "output_type": "execute_result"
    }
   ],
   "source": [
    "df.columns[14]"
   ]
  },
  {
   "cell_type": "code",
   "execution_count": 78,
   "metadata": {
    "scrolled": true,
    "tags": []
   },
   "outputs": [
    {
     "data": {
      "text/plain": [
       "0           [\\nManual\\n]\n",
       "1        [\\nAutomatic\\n]\n",
       "2        [\\nAutomatic\\n]\n",
       "3        [\\nAutomatic\\n]\n",
       "4        [\\nAutomatic\\n]\n",
       "              ...       \n",
       "29475    [\\nAutomatic\\n]\n",
       "29476       [\\nManual\\n]\n",
       "29477    [\\nAutomatic\\n]\n",
       "29478    [\\nAutomatic\\n]\n",
       "29479                NaN\n",
       "Name: gearbox, Length: 29480, dtype: object"
      ]
     },
     "execution_count": 78,
     "metadata": {},
     "output_type": "execute_result"
    }
   ],
   "source": [
    "df.gearbox"
   ]
  },
  {
   "cell_type": "code",
   "execution_count": 79,
   "metadata": {
    "scrolled": true,
    "tags": []
   },
   "outputs": [
    {
     "data": {
      "text/plain": [
       "0           Manual\n",
       "1        Automatic\n",
       "2        Automatic\n",
       "3        Automatic\n",
       "4        Automatic\n",
       "           ...    \n",
       "29475    Automatic\n",
       "29476       Manual\n",
       "29477    Automatic\n",
       "29478    Automatic\n",
       "29479          NaN\n",
       "Name: gearbox, Length: 29480, dtype: object"
      ]
     },
     "execution_count": 79,
     "metadata": {},
     "output_type": "execute_result"
    }
   ],
   "source": [
    "df.gearbox = df.gearbox.explode().str.strip()\n",
    "df.gearbox"
   ]
  },
  {
   "cell_type": "markdown",
   "metadata": {},
   "source": []
  },
  {
   "cell_type": "code",
   "execution_count": 80,
   "metadata": {
    "scrolled": true,
    "tags": []
   },
   "outputs": [
    {
     "data": {
      "text/plain": [
       "'paint'"
      ]
     },
     "execution_count": 80,
     "metadata": {},
     "output_type": "execute_result"
    }
   ],
   "source": [
    "df.columns[15]"
   ]
  },
  {
   "cell_type": "code",
   "execution_count": 81,
   "metadata": {
    "scrolled": true,
    "tags": []
   },
   "outputs": [
    {
     "data": {
      "text/plain": [
       "Gasoline                                                                                              8532\n",
       "Diesel                                                                                                5911\n",
       "Super 95                                                                                              3557\n",
       "Diesel (Particle filter)                                                                              2816\n",
       "Regular/Benzine 91                                                                                    2065\n",
       "Super E10 95                                                                                          1016\n",
       "Regular/Benzine 91 (Particle filter)                                                                   555\n",
       "Super 95 (Particle filter)                                                                             537\n",
       "Super E10 95 (Particle filter)                                                                         324\n",
       "Regular/Benzine E10 91                                                                                 278\n",
       "Others                                                                                                 197\n",
       "Gasoline (Particle filter)                                                                             196\n",
       "Electric                                                                                               185\n",
       "Super Plus 98                                                                                          170\n",
       "Liquid petroleum gas (LPG)                                                                             148\n",
       "CNG                                                                                                     87\n",
       "LPG                                                                                                     73\n",
       "Super Plus E10 98                                                                                       42\n",
       "Super Plus E10 98 (Particle filter)                                                                     35\n",
       "Domestic gas H                                                                                          24\n",
       "Others (Particle filter)                                                                                16\n",
       "Super Plus 98 (Particle filter)                                                                         15\n",
       "Domestic gas L                                                                                          10\n",
       "Regular/Benzine E10 91 (Particle filter)                                                                 8\n",
       "CNG (Particle filter)                                                                                    8\n",
       "LPG (Particle filter)                                                                                    4\n",
       "Hydrogen                                                                                                 3\n",
       "Liquid petroleum gas (LPG) (Particle filter) / Super 95 / Super E10 95                                   3\n",
       "Electric (Particle filter)                                                                               3\n",
       "Ethanol                                                                                                  3\n",
       "Liquid petroleum gas (LPG) / Super 95 / Super Plus 98 / Super Plus E10 98 / Super E10 95                 2\n",
       "Liquid petroleum gas (LPG) / Super 95 / Super E10 95 / Super Plus 98                                     2\n",
       "Liquid petroleum gas (LPG) / Super 95                                                                    2\n",
       "Liquid petroleum gas (LPG) (Particle filter)                                                             2\n",
       "Domestic gas L (Particle filter)                                                                         2\n",
       "Liquid petroleum gas (LPG) / Super 95 / Super E10 95                                                     2\n",
       "Domestic gas H / Super E10 95 / Super Plus E10 98 / Super 95 / Super Plus 98 / Domestic gas L            1\n",
       "Domestic gas L / Super 95 / Domestic gas H                                                               1\n",
       "Super 95 / Super Plus 98 / Liquid petroleum gas (LPG)                                                    1\n",
       "Biogas                                                                                                   1\n",
       "Liquid petroleum gas (LPG) / Super 95 / Super Plus 98                                                    1\n",
       "Liquid petroleum gas (LPG) / Super E10 95                                                                1\n",
       "Liquid petroleum gas (LPG) / Super E10 95 / Super Plus E10 98 / Super Plus 98 / Super 95                 1\n",
       "Liquid petroleum gas (LPG) / Super E10 95 / Regular/Benzine 91 / Super 95 / Super Plus 98 / Biogas       1\n",
       "Super 95 (Particle filter) / Super E10 95 / Ethanol                                                      1\n",
       "Super 95 / Liquid petroleum gas (LPG)                                                                    1\n",
       "Name: fuel_type, dtype: int64"
      ]
     },
     "execution_count": 81,
     "metadata": {},
     "output_type": "execute_result"
    }
   ],
   "source": [
    "df.fuel_type.value_counts()"
   ]
  },
  {
   "cell_type": "markdown",
   "metadata": {},
   "source": []
  },
  {
   "cell_type": "code",
   "execution_count": 82,
   "metadata": {
    "tags": []
   },
   "outputs": [
    {
     "data": {
      "text/plain": [
       "'desc'"
      ]
     },
     "execution_count": 82,
     "metadata": {},
     "output_type": "execute_result"
    }
   ],
   "source": [
    "df.columns[16]"
   ]
  },
  {
   "cell_type": "code",
   "execution_count": 83,
   "metadata": {
    "scrolled": true,
    "tags": []
   },
   "outputs": [
    {
     "data": {
      "text/plain": [
       "Black     6473\n",
       "Grey      5998\n",
       "White     5185\n",
       "Blue      3478\n",
       "NaN       2574\n",
       "Red       2242\n",
       "Silver    1622\n",
       "Green      450\n",
       "Brown      437\n",
       "Orange     288\n",
       "Beige      278\n",
       "Yellow     230\n",
       "Violet      98\n",
       "Bronze      65\n",
       "Gold        62\n",
       "Name: colour, dtype: int64"
      ]
     },
     "execution_count": 83,
     "metadata": {},
     "output_type": "execute_result"
    }
   ],
   "source": [
    "df.colour.value_counts(dropna=False)"
   ]
  },
  {
   "cell_type": "code",
   "execution_count": 84,
   "metadata": {},
   "outputs": [
    {
     "data": {
      "image/png": "[encoded data removed]",
      "text/plain": [
       "<Figure size 1000x600 with 1 Axes>"
      ]
     },
     "metadata": {},
     "output_type": "display_data"
    }
   ],
   "source": [
    "sns.barplot(x= df.colour.value_counts(dropna=False).index, y =df.colour.value_counts(dropna=False) )\n",
    "plt.xticks(rotation =45);"
   ]
  },
  {
   "cell_type": "code",
   "execution_count": 85,
   "metadata": {
    "tags": []
   },
   "outputs": [],
   "source": [
    "df.drop(\"colour\", axis=1, inplace=True)"
   ]
  },
  {
   "cell_type": "markdown",
   "metadata": {},
   "source": []
  },
  {
   "cell_type": "code",
   "execution_count": 86,
   "metadata": {},
   "outputs": [
    {
     "data": {
      "text/plain": [
       "'seats'"
      ]
     },
     "execution_count": 86,
     "metadata": {},
     "output_type": "execute_result"
    }
   ],
   "source": [
    "df.columns[17]"
   ]
  },
  {
   "cell_type": "code",
   "execution_count": 87,
   "metadata": {
    "tags": []
   },
   "outputs": [],
   "source": [
    "df.drop(\"paint\", axis=1, inplace=True)"
   ]
  },
  {
   "cell_type": "markdown",
   "metadata": {},
   "source": []
  },
  {
   "cell_type": "code",
   "execution_count": 88,
   "metadata": {},
   "outputs": [
    {
     "data": {
      "text/plain": [
       "'engine_size'"
      ]
     },
     "execution_count": 88,
     "metadata": {},
     "output_type": "execute_result"
    }
   ],
   "source": [
    "df.columns[18]"
   ]
  },
  {
   "cell_type": "code",
   "execution_count": 89,
   "metadata": {
    "tags": []
   },
   "outputs": [],
   "source": [
    "df.drop(\"desc\", axis=1, inplace=True)"
   ]
  },
  {
   "cell_type": "markdown",
   "metadata": {},
   "source": []
  },
  {
   "cell_type": "code",
   "execution_count": 90,
   "metadata": {},
   "outputs": [
    {
     "data": {
      "text/plain": [
       "'co_emissions'"
      ]
     },
     "execution_count": 90,
     "metadata": {},
     "output_type": "execute_result"
    }
   ],
   "source": [
    "df.columns[19]"
   ]
  },
  {
   "cell_type": "markdown",
   "metadata": {},
   "source": []
  },
  {
   "cell_type": "code",
   "execution_count": 91,
   "metadata": {
    "tags": []
   },
   "outputs": [
    {
     "data": {
      "text/plain": [
       "'manufacturer_colour'"
      ]
     },
     "execution_count": 91,
     "metadata": {},
     "output_type": "execute_result"
    }
   ],
   "source": [
    "df.columns[20]"
   ]
  },
  {
   "cell_type": "code",
   "execution_count": 92,
   "metadata": {},
   "outputs": [
    {
     "data": {
      "text/plain": [
       "[\\n, 5, \\n]     18308\n",
       "[\\n, 4, \\n]      5390\n",
       "NaN              3975\n",
       "[\\n, 2, \\n]      1186\n",
       "[\\n, 7, \\n]       488\n",
       "[\\n, 8, \\n]        43\n",
       "[\\n, 9, \\n]        35\n",
       "[\\n, 3, \\n]        25\n",
       "[\\n, 6, \\n]        12\n",
       "[\\n, 0, \\n]         9\n",
       "[\\n, 1, \\n]         7\n",
       "[\\n, 17, \\n]        2\n",
       "Name: seats, dtype: int64"
      ]
     },
     "execution_count": 92,
     "metadata": {},
     "output_type": "execute_result"
    }
   ],
   "source": [
    "df.seats.value_counts(dropna=False)"
   ]
  },
  {
   "cell_type": "code",
   "execution_count": 93,
   "metadata": {},
   "outputs": [],
   "source": [
    "df.seats = df.seats.apply(str_splitter)"
   ]
  },
  {
   "cell_type": "code",
   "execution_count": 94,
   "metadata": {},
   "outputs": [
    {
     "data": {
      "text/plain": [
       " 5     18308\n",
       " 4      5390\n",
       "NaN     3975\n",
       " 2      1186\n",
       " 7       488\n",
       " 8        43\n",
       " 9        35\n",
       " 3        25\n",
       " 6        12\n",
       " 0         9\n",
       " 1         7\n",
       " 17        2\n",
       "Name: seats, dtype: int64"
      ]
     },
     "execution_count": 94,
     "metadata": {},
     "output_type": "execute_result"
    }
   ],
   "source": [
    "df.seats.value_counts(dropna=False)"
   ]
  },
  {
   "cell_type": "code",
   "execution_count": 95,
   "metadata": {},
   "outputs": [
    {
     "data": {
      "text/plain": [
       "Index(['make_model', 'short_description', 'make', 'model', 'location', 'price',\n",
       "       'body_type', 'type', 'doors', 'warranty', 'mileage',\n",
       "       'first_registration', 'gearbox', 'fuel_type', 'seller', 'seats',\n",
       "       'power', 'engine_size', 'gears', 'co_emissions', 'manufacturer_colour',\n",
       "       'drivetrain', 'cylinders', 'fuel_consumption', 'comfort_&_convenience',\n",
       "       'entertainment_&_media', 'safety_&_security', 'extras', 'empty_weight',\n",
       "       'model_code', 'general_inspection', 'last_service',\n",
       "       'full_service_history', 'non_smoker_vehicle', 'emission_class',\n",
       "       'emissions_sticker', 'upholstery_colour', 'upholstery',\n",
       "       'production_date', 'previous_owner', 'other_fuel_types',\n",
       "       'power_consumption', 'energy_efficiency_class', 'co_efficiency',\n",
       "       'fuel_consumption_wltp', 'co_emissions_wltp', 'available_from',\n",
       "       'taxi_or_rental_car', 'availability', 'last_timing_belt_change',\n",
       "       'electric_range_wltp', 'power_consumption_wltp', 'battery_ownership',\n",
       "       'new'],\n",
       "      dtype='object')"
      ]
     },
     "execution_count": 95,
     "metadata": {},
     "output_type": "execute_result"
    }
   ],
   "source": [
    "df.columns"
   ]
  },
  {
   "cell_type": "markdown",
   "metadata": {},
   "source": []
  },
  {
   "cell_type": "code",
   "execution_count": 96,
   "metadata": {
    "tags": []
   },
   "outputs": [
    {
     "data": {
      "text/plain": [
       "'drivetrain'"
      ]
     },
     "execution_count": 96,
     "metadata": {},
     "output_type": "execute_result"
    }
   ],
   "source": [
    "df.columns[21]"
   ]
  },
  {
   "cell_type": "code",
   "execution_count": 97,
   "metadata": {
    "scrolled": true,
    "tags": []
   },
   "outputs": [
    {
     "data": {
      "text/plain": [
       "[\\n110 kW (150 hp)\\n]      1992\n",
       "NaN                        1422\n",
       "[\\n96 kW (131 hp)\\n]       1356\n",
       "[\\n88 kW (120 hp)\\n]       1182\n",
       "[\\n81 kW (110 hp)\\n]       1166\n",
       "                           ... \n",
       "[\\n746 kW (1,014 hp)\\n]       1\n",
       "[\\n570 kW (775 hp)\\n]         1\n",
       "[\\n471 kW (640 hp)\\n]         1\n",
       "[\\n179 kW (243 hp)\\n]         1\n",
       "[\\n26 kW (35 hp)\\n]           1\n",
       "Name: power, Length: 352, dtype: int64"
      ]
     },
     "execution_count": 97,
     "metadata": {},
     "output_type": "execute_result"
    }
   ],
   "source": [
    "df.power.value_counts(dropna=False)"
   ]
  },
  {
   "cell_type": "code",
   "execution_count": 98,
   "metadata": {},
   "outputs": [
    {
     "data": {
      "text/plain": [
       "0                          NaN\n",
       "1        [\\n215 kW (292 hp)\\n]\n",
       "2        [\\n310 kW (421 hp)\\n]\n",
       "3        [\\n225 kW (306 hp)\\n]\n",
       "4        [\\n100 kW (136 hp)\\n]\n",
       "                 ...          \n",
       "29475    [\\n125 kW (170 hp)\\n]\n",
       "29476     [\\n84 kW (114 hp)\\n]\n",
       "29477    [\\n187 kW (254 hp)\\n]\n",
       "29478    [\\n147 kW (200 hp)\\n]\n",
       "29479                      NaN\n",
       "Name: power, Length: 29480, dtype: object"
      ]
     },
     "execution_count": 98,
     "metadata": {},
     "output_type": "execute_result"
    }
   ],
   "source": [
    "df.power"
   ]
  },
  {
   "cell_type": "code",
   "execution_count": 99,
   "metadata": {},
   "outputs": [
    {
     "data": {
      "text/plain": [
       "0          NaN\n",
       "1       215.00\n",
       "2       310.00\n",
       "3       225.00\n",
       "4       100.00\n",
       "         ...  \n",
       "29475   125.00\n",
       "29476    84.00\n",
       "29477   187.00\n",
       "29478   147.00\n",
       "29479      NaN\n",
       "Name: power, Length: 29480, dtype: float64"
      ]
     },
     "execution_count": 99,
     "metadata": {},
     "output_type": "execute_result"
    }
   ],
   "source": [
    "df.power.astype(\"str\").apply(lambda x : re.findall(\"([,0-9]+)\",x)[0] if len(re.findall(\"([,0-9]+)\",x))>0 else np.nan).str.replace(\",\",\"\").astype(float)"
   ]
  },
  {
   "cell_type": "code",
   "execution_count": 100,
   "metadata": {},
   "outputs": [],
   "source": [
    "df.power = df.power.astype(\"str\").apply(lambda x : re.findall(\"([,0-9]+)\",x)[0] if len(re.findall(\"([,0-9]+)\",x))>0 else np.nan).str.replace(\",\",\"\").astype(float)"
   ]
  },
  {
   "cell_type": "code",
   "execution_count": 101,
   "metadata": {},
   "outputs": [
    {
     "data": {
      "text/plain": [
       "110.00    1992\n",
       "NaN       1422\n",
       "96.00     1356\n",
       "88.00     1182\n",
       "81.00     1166\n",
       "          ... \n",
       "746.00       1\n",
       "570.00       1\n",
       "471.00       1\n",
       "179.00       1\n",
       "26.00        1\n",
       "Name: power, Length: 352, dtype: int64"
      ]
     },
     "execution_count": 101,
     "metadata": {},
     "output_type": "execute_result"
    }
   ],
   "source": [
    "df.power.value_counts(dropna=False)"
   ]
  },
  {
   "cell_type": "code",
   "execution_count": 102,
   "metadata": {
    "tags": []
   },
   "outputs": [],
   "source": [
    "df.drop(\"power\", axis=1, inplace=True)"
   ]
  },
  {
   "cell_type": "markdown",
   "metadata": {},
   "source": []
  },
  {
   "cell_type": "code",
   "execution_count": 103,
   "metadata": {},
   "outputs": [
    {
     "data": {
      "text/plain": [
       "'fuel_consumption'"
      ]
     },
     "execution_count": 103,
     "metadata": {},
     "output_type": "execute_result"
    }
   ],
   "source": [
    "df.columns[22]"
   ]
  },
  {
   "cell_type": "code",
   "execution_count": 104,
   "metadata": {},
   "outputs": [
    {
     "data": {
      "text/plain": [
       "dtype('O')"
      ]
     },
     "execution_count": 104,
     "metadata": {},
     "output_type": "execute_result"
    }
   ],
   "source": [
    "df.engine_size.dtypes"
   ]
  },
  {
   "cell_type": "code",
   "execution_count": 105,
   "metadata": {},
   "outputs": [
    {
     "data": {
      "text/plain": [
       "NaN               2253\n",
       "[\\n1,598 cc\\n]    2099\n",
       "[\\n999 cc\\n]      2068\n",
       "[\\n1,969 cc\\n]    1929\n",
       "[\\n1,461 cc\\n]    1110\n",
       "                  ... \n",
       "[\\n2,753 cc\\n]       1\n",
       "[\\n2,495 cc\\n]       1\n",
       "[\\n200 cc\\n]         1\n",
       "[\\n3,224 cc\\n]       1\n",
       "[\\n2,473 cc\\n]       1\n",
       "Name: engine_size, Length: 468, dtype: int64"
      ]
     },
     "execution_count": 105,
     "metadata": {},
     "output_type": "execute_result"
    }
   ],
   "source": [
    "df.engine_size.value_counts(dropna=False)"
   ]
  },
  {
   "cell_type": "code",
   "execution_count": 106,
   "metadata": {},
   "outputs": [],
   "source": [
    "#df.engine_size = df.engine_size.explode().str.strip()\n",
    "#df['engine_size'] = df.engine_size.str.extract('(\\d+\\,\\d+)')\n",
    "#df['engine_size'] = df.engine_size.str.replace(',','').apply(pd.to_numeric, errors='ignore')"
   ]
  },
  {
   "cell_type": "code",
   "execution_count": 107,
   "metadata": {},
   "outputs": [],
   "source": [
    "df.engine_size = df.engine_size.astype(\"str\").apply(lambda x : re.findall(\"([,0-9]+)\",x)[0] if len(re.findall(\"([,0-9]+)\",x))>0 else np.nan).str.replace(\",\",\"\").astype(\"float\")"
   ]
  },
  {
   "cell_type": "markdown",
   "metadata": {},
   "source": []
  },
  {
   "cell_type": "code",
   "execution_count": 108,
   "metadata": {},
   "outputs": [
    {
     "data": {
      "text/plain": [
       "'comfort_&_convenience'"
      ]
     },
     "execution_count": 108,
     "metadata": {},
     "output_type": "execute_result"
    }
   ],
   "source": [
    "df.columns[23]"
   ]
  },
  {
   "cell_type": "code",
   "execution_count": 109,
   "metadata": {},
   "outputs": [
    {
     "data": {
      "text/plain": [
       "dtype('O')"
      ]
     },
     "execution_count": 109,
     "metadata": {},
     "output_type": "execute_result"
    }
   ],
   "source": [
    "df.gears.dtypes"
   ]
  },
  {
   "cell_type": "code",
   "execution_count": 110,
   "metadata": {},
   "outputs": [
    {
     "data": {
      "text/plain": [
       "NaN         10526\n",
       "[\\n6\\n]      8412\n",
       "[\\n5\\n]      5335\n",
       "[\\n7\\n]      1738\n",
       "[\\n8\\n]      1690\n",
       "[\\n1\\n]       712\n",
       "[\\n9\\n]       642\n",
       "[\\n4\\n]       256\n",
       "[\\n10\\n]      112\n",
       "[\\n0\\n]        31\n",
       "[\\n3\\n]        24\n",
       "[\\n2\\n]         2\n",
       "Name: gears, dtype: int64"
      ]
     },
     "execution_count": 110,
     "metadata": {},
     "output_type": "execute_result"
    }
   ],
   "source": [
    "df.gears.value_counts(dropna=False)"
   ]
  },
  {
   "cell_type": "code",
   "execution_count": 111,
   "metadata": {},
   "outputs": [],
   "source": [
    "#df['gears'] = df.gears.str.extract(\"(\\d)\")\n",
    "#df['gears'] = df['gears'].apply(pd.to_numeric, errors='ignore')"
   ]
  },
  {
   "cell_type": "code",
   "execution_count": 112,
   "metadata": {},
   "outputs": [],
   "source": [
    "df.gears = df.gears.astype(\"str\").apply(lambda x : re.findall(\"[0-9]+\",x)[0] if len(re.findall(\"[0-9]+\",x))>0 else np.nan).astype(float)"
   ]
  },
  {
   "cell_type": "markdown",
   "metadata": {},
   "source": []
  },
  {
   "cell_type": "code",
   "execution_count": 113,
   "metadata": {},
   "outputs": [
    {
     "data": {
      "text/plain": [
       "'entertainment_&_media'"
      ]
     },
     "execution_count": 113,
     "metadata": {},
     "output_type": "execute_result"
    }
   ],
   "source": [
    "df.columns[24]"
   ]
  },
  {
   "cell_type": "code",
   "execution_count": 114,
   "metadata": {},
   "outputs": [
    {
     "data": {
      "text/plain": [
       "dtype('O')"
      ]
     },
     "execution_count": 114,
     "metadata": {},
     "output_type": "execute_result"
    }
   ],
   "source": [
    "df.co_emissions.dtypes"
   ]
  },
  {
   "cell_type": "code",
   "execution_count": 115,
   "metadata": {},
   "outputs": [
    {
     "data": {
      "text/plain": [
       "NaN                  10886\n",
       "0 g/km (comb.)        1038\n",
       "119 g/km (comb.)       393\n",
       "124 g/km (comb.)       340\n",
       "129 g/km (comb.)       319\n",
       "                     ...  \n",
       "7 g/km (comb.)           1\n",
       "80 g/km (comb.)          1\n",
       "196  g/km (comb.)        1\n",
       "100  g/km (comb.)        1\n",
       "53 g/km (comb.)          1\n",
       "Name: co_emissions, Length: 348, dtype: int64"
      ]
     },
     "execution_count": 115,
     "metadata": {},
     "output_type": "execute_result"
    }
   ],
   "source": [
    "df.co_emissions.value_counts(dropna=False)"
   ]
  },
  {
   "cell_type": "code",
   "execution_count": 116,
   "metadata": {},
   "outputs": [
    {
     "data": {
      "text/plain": [
       "0          NaN\n",
       "1         0.00\n",
       "2          NaN\n",
       "3          NaN\n",
       "4          NaN\n",
       "         ...  \n",
       "29475   217.00\n",
       "29476    99.00\n",
       "29477   149.00\n",
       "29478   251.00\n",
       "29479      NaN\n",
       "Name: co_emissions, Length: 29480, dtype: float64"
      ]
     },
     "execution_count": 116,
     "metadata": {},
     "output_type": "execute_result"
    }
   ],
   "source": [
    "df['co_emissions'] = df['co_emissions'].str.extract(r'(\\d+)').astype(float)\n",
    "df.co_emissions"
   ]
  },
  {
   "cell_type": "code",
   "execution_count": 117,
   "metadata": {},
   "outputs": [
    {
     "data": {
      "text/plain": [
       "NaN       10886\n",
       "0.00       1040\n",
       "119.00      393\n",
       "124.00      340\n",
       "129.00      319\n",
       "          ...  \n",
       "332.00        1\n",
       "70.00         1\n",
       "338.00        1\n",
       "342.00        1\n",
       "53.00         1\n",
       "Name: co_emissions, Length: 327, dtype: int64"
      ]
     },
     "execution_count": 117,
     "metadata": {},
     "output_type": "execute_result"
    }
   ],
   "source": [
    "df.co_emissions.value_counts(dropna=False)"
   ]
  },
  {
   "cell_type": "markdown",
   "metadata": {},
   "source": []
  },
  {
   "cell_type": "code",
   "execution_count": 118,
   "metadata": {},
   "outputs": [
    {
     "data": {
      "text/plain": [
       "'safety_&_security'"
      ]
     },
     "execution_count": 118,
     "metadata": {},
     "output_type": "execute_result"
    }
   ],
   "source": [
    "df.columns[25]"
   ]
  },
  {
   "cell_type": "code",
   "execution_count": 119,
   "metadata": {},
   "outputs": [
    {
     "data": {
      "text/plain": [
       "dtype('O')"
      ]
     },
     "execution_count": 119,
     "metadata": {},
     "output_type": "execute_result"
    }
   ],
   "source": [
    "df.manufacturer_colour.dtypes"
   ]
  },
  {
   "cell_type": "code",
   "execution_count": 120,
   "metadata": {},
   "outputs": [
    {
     "data": {
      "text/plain": [
       "NaN                               7693\n",
       "Blanco                            1235\n",
       "Gris                               671\n",
       "Azul                               552\n",
       "Negro                              546\n",
       "                                  ... \n",
       "Colore esterno (snowflake whit       1\n",
       "Pompeigraumetallic                   1\n",
       "Cararragrau                          1\n",
       "ICE WHITE (wit metallic)             1\n",
       "Denim Blue metallic (blauw met       1\n",
       "Name: manufacturer_colour, Length: 4964, dtype: int64"
      ]
     },
     "execution_count": 120,
     "metadata": {},
     "output_type": "execute_result"
    }
   ],
   "source": [
    "df.manufacturer_colour.value_counts(dropna=False)"
   ]
  },
  {
   "cell_type": "code",
   "execution_count": 121,
   "metadata": {},
   "outputs": [],
   "source": [
    "df['manufacturer_colour'] = df['manufacturer_colour'].str.lower()"
   ]
  },
  {
   "cell_type": "code",
   "execution_count": 122,
   "metadata": {},
   "outputs": [],
   "source": [
    "df.manufacturer_colour = df.manufacturer_colour.replace({\"-\":np.nan})"
   ]
  },
  {
   "cell_type": "code",
   "execution_count": 123,
   "metadata": {},
   "outputs": [
    {
     "data": {
      "text/plain": [
       "NaN                             7813\n",
       "blanco                          1329\n",
       "gris                             721\n",
       "negro                            590\n",
       "azul                             584\n",
       "                                ... \n",
       "colore esterno (bronzo met.)       1\n",
       "grafito                            1\n",
       "negro mtl                          1\n",
       "rojo passione                      1\n",
       "demin blue                         1\n",
       "Name: manufacturer_colour, Length: 4177, dtype: int64"
      ]
     },
     "execution_count": 123,
     "metadata": {},
     "output_type": "execute_result"
    }
   ],
   "source": [
    "df.manufacturer_colour.value_counts(dropna=False)"
   ]
  },
  {
   "cell_type": "code",
   "execution_count": 124,
   "metadata": {
    "tags": []
   },
   "outputs": [],
   "source": [
    "df.drop(\"manufacturer_colour\", axis=1, inplace=True)"
   ]
  },
  {
   "cell_type": "markdown",
   "metadata": {},
   "source": []
  },
  {
   "cell_type": "code",
   "execution_count": 125,
   "metadata": {},
   "outputs": [
    {
     "data": {
      "text/plain": [
       "'empty_weight'"
      ]
     },
     "execution_count": 125,
     "metadata": {},
     "output_type": "execute_result"
    }
   ],
   "source": [
    "df.columns[26]"
   ]
  },
  {
   "cell_type": "code",
   "execution_count": 126,
   "metadata": {},
   "outputs": [
    {
     "data": {
      "text/plain": [
       "dtype('O')"
      ]
     },
     "execution_count": 126,
     "metadata": {},
     "output_type": "execute_result"
    }
   ],
   "source": [
    "df.drivetrain.dtypes"
   ]
  },
  {
   "cell_type": "code",
   "execution_count": 127,
   "metadata": {},
   "outputs": [
    {
     "data": {
      "text/plain": [
       "NaN                12587\n",
       "[\\n, Front, \\n]    12066\n",
       "[\\n, 4WD, \\n]       3252\n",
       "[\\n, Rear, \\n]      1575\n",
       "Name: drivetrain, dtype: int64"
      ]
     },
     "execution_count": 127,
     "metadata": {},
     "output_type": "execute_result"
    }
   ],
   "source": [
    "df.drivetrain.value_counts(dropna=False)"
   ]
  },
  {
   "cell_type": "code",
   "execution_count": 128,
   "metadata": {},
   "outputs": [],
   "source": [
    "#df.drivetrain = df.drivetrain.explode().str.strip()"
   ]
  },
  {
   "cell_type": "code",
   "execution_count": 129,
   "metadata": {},
   "outputs": [],
   "source": [
    "df.drivetrain = df.drivetrain.apply(str_splitter)"
   ]
  },
  {
   "cell_type": "code",
   "execution_count": 130,
   "metadata": {},
   "outputs": [
    {
     "data": {
      "text/plain": [
       "NaN       12587\n",
       " Front    12066\n",
       " 4WD       3252\n",
       " Rear      1575\n",
       "Name: drivetrain, dtype: int64"
      ]
     },
     "execution_count": 130,
     "metadata": {},
     "output_type": "execute_result"
    }
   ],
   "source": [
    "df.drivetrain.value_counts(dropna=False)"
   ]
  },
  {
   "cell_type": "markdown",
   "metadata": {},
   "source": []
  },
  {
   "cell_type": "code",
   "execution_count": 131,
   "metadata": {},
   "outputs": [
    {
     "data": {
      "text/plain": [
       "'model_code'"
      ]
     },
     "execution_count": 131,
     "metadata": {},
     "output_type": "execute_result"
    }
   ],
   "source": [
    "df.columns[27]"
   ]
  },
  {
   "cell_type": "code",
   "execution_count": 132,
   "metadata": {},
   "outputs": [
    {
     "data": {
      "text/plain": [
       "dtype('O')"
      ]
     },
     "execution_count": 132,
     "metadata": {},
     "output_type": "execute_result"
    }
   ],
   "source": [
    "df.cylinders.dtypes"
   ]
  },
  {
   "cell_type": "code",
   "execution_count": 133,
   "metadata": {},
   "outputs": [],
   "source": [
    "df.cylinders = df.cylinders.astype(str).apply(lambda x: re.findall(\"[0-9]+\",x)[0] if len(re.findall(\"[0-9]+\",x))>0 else np.nan).astype(float)"
   ]
  },
  {
   "cell_type": "code",
   "execution_count": 134,
   "metadata": {},
   "outputs": [
    {
     "data": {
      "text/plain": [
       "4.00     13068\n",
       "NaN      10628\n",
       "3.00      3258\n",
       "6.00      1013\n",
       "5.00       799\n",
       "8.00       539\n",
       "2.00       103\n",
       "0.00        35\n",
       "1.00        21\n",
       "12.00        8\n",
       "7.00         6\n",
       "26.00        1\n",
       "16.00        1\n",
       "Name: cylinders, dtype: int64"
      ]
     },
     "execution_count": 134,
     "metadata": {},
     "output_type": "execute_result"
    }
   ],
   "source": [
    "df.cylinders.value_counts(dropna=False)"
   ]
  },
  {
   "cell_type": "markdown",
   "metadata": {},
   "source": []
  },
  {
   "cell_type": "code",
   "execution_count": 135,
   "metadata": {},
   "outputs": [
    {
     "data": {
      "text/plain": [
       "'general_inspection'"
      ]
     },
     "execution_count": 135,
     "metadata": {},
     "output_type": "execute_result"
    }
   ],
   "source": [
    "df.columns[28]"
   ]
  },
  {
   "cell_type": "code",
   "execution_count": 136,
   "metadata": {},
   "outputs": [
    {
     "data": {
      "text/plain": [
       "dtype('O')"
      ]
     },
     "execution_count": 136,
     "metadata": {},
     "output_type": "execute_result"
    }
   ],
   "source": [
    "df.fuel_consumption.dtypes"
   ]
  },
  {
   "cell_type": "code",
   "execution_count": 137,
   "metadata": {},
   "outputs": [
    {
     "data": {
      "text/plain": [
       "NaN                                                                            6095\n",
       "[[0 l/100 km (comb.)]]                                                          330\n",
       "[[0 l/100 km (comb.)], [0 l/100 km (city)], [0 l/100 km (country)]]             306\n",
       "[[3.4 l/100 km (comb.)], [3.7 l/100 km (city)], [3.2 l/100 km (country)]]       170\n",
       "[[4 l/100 km (comb.)]]                                                          149\n",
       "                                                                               ... \n",
       "[[14.2 l/100 km (comb.)], [21.3 l/100 km (city)], [10 l/100 km (country)]]        1\n",
       "[[3.5 l/100 km (comb.)], [4.4 l/100 km (city)], [2.9 l/100 km (country)]]         1\n",
       "[[4.5 l/100 km (comb.)], [6.2 l/100 km (city)], [3.5 l/100 km (country)]]         1\n",
       "[[4.9 l/100 km (comb.)], [99.9 l/100 km (city)], [98 l/100 km (country)]]         1\n",
       "[[10.4 l/100 km (comb.)], [15.3 l/100 km (city)], [7.6 l/100 km (country)]]       1\n",
       "Name: fuel_consumption, Length: 3453, dtype: int64"
      ]
     },
     "execution_count": 137,
     "metadata": {},
     "output_type": "execute_result"
    }
   ],
   "source": [
    "df.fuel_consumption.value_counts(dropna=False)"
   ]
  },
  {
   "cell_type": "code",
   "execution_count": 138,
   "metadata": {},
   "outputs": [],
   "source": [
    "def combined(x):\n",
    "    if type(x) == list and len(x) >= 1:\n",
    "        if x[0] != []:\n",
    "            return x[0][0]\n",
    "        else:\n",
    "            return None\n",
    "    else:\n",
    "        return None"
   ]
  },
  {
   "cell_type": "code",
   "execution_count": 139,
   "metadata": {},
   "outputs": [],
   "source": [
    "def city(x):\n",
    "    if type(x) == list and len(x) >= 2:\n",
    "        if x[1] != []:\n",
    "            return x[1][0]\n",
    "        else:\n",
    "            return None\n",
    "    else:\n",
    "        return None"
   ]
  },
  {
   "cell_type": "code",
   "execution_count": 140,
   "metadata": {},
   "outputs": [],
   "source": [
    "def country(x):\n",
    "    if type(x) == list and len(x) >= 3:\n",
    "        if x[2] != []:\n",
    "            return x[2][0]\n",
    "        else:\n",
    "            return None\n",
    "    else:\n",
    "        return None"
   ]
  },
  {
   "cell_type": "code",
   "execution_count": 141,
   "metadata": {},
   "outputs": [],
   "source": [
    "\n",
    "df[\"combined_fuel_cons\"] = df.fuel_consumption.apply(combined).str.extract('(\\S+)').astype(\"float\")"
   ]
  },
  {
   "cell_type": "code",
   "execution_count": 142,
   "metadata": {
    "scrolled": true
   },
   "outputs": [
    {
     "data": {
      "text/plain": [
       "NaN      6095\n",
       "5.00      831\n",
       "4.90      812\n",
       "4.50      690\n",
       "0.00      652\n",
       "5.10      647\n",
       "4.70      618\n",
       "5.40      609\n",
       "4.80      609\n",
       "5.60      594\n",
       "4.30      564\n",
       "5.30      558\n",
       "5.20      552\n",
       "4.60      550\n",
       "4.20      539\n",
       "4.10      518\n",
       "3.80      516\n",
       "5.70      504\n",
       "5.50      503\n",
       "5.90      498\n",
       "4.00      484\n",
       "4.40      442\n",
       "6.40      438\n",
       "6.00      430\n",
       "6.30      414\n",
       "5.80      399\n",
       "3.70      360\n",
       "3.90      353\n",
       "3.60      327\n",
       "7.00      312\n",
       "3.40      296\n",
       "6.50      292\n",
       "6.10      282\n",
       "6.20      278\n",
       "6.60      274\n",
       "6.90      270\n",
       "7.40      265\n",
       "7.10      253\n",
       "6.70      251\n",
       "6.80      226\n",
       "7.30      220\n",
       "7.20      202\n",
       "8.40      194\n",
       "8.00      194\n",
       "7.60      181\n",
       "3.50      180\n",
       "8.20      166\n",
       "7.70      165\n",
       "7.80      165\n",
       "7.50      156\n",
       "12.00     110\n",
       "3.30      109\n",
       "9.00      107\n",
       "9.20      103\n",
       "12.50     102\n",
       "8.60       95\n",
       "9.80       93\n",
       "8.90       92\n",
       "8.30       88\n",
       "3.00       84\n",
       "7.90       83\n",
       "9.60       79\n",
       "8.70       79\n",
       "1.70       77\n",
       "9.50       77\n",
       "1.50       73\n",
       "9.40       72\n",
       "9.70       69\n",
       "8.80       69\n",
       "8.50       67\n",
       "10.10      66\n",
       "1.80       66\n",
       "10.60      66\n",
       "3.20       64\n",
       "8.10       64\n",
       "11.80      62\n",
       "11.40      62\n",
       "9.10       61\n",
       "9.90       55\n",
       "10.90      52\n",
       "12.10      51\n",
       "2.10       49\n",
       "1.90       47\n",
       "10.00      46\n",
       "1.40       44\n",
       "10.50      44\n",
       "12.40      41\n",
       "9.30       40\n",
       "1.20       40\n",
       "11.00      39\n",
       "12.80      37\n",
       "10.30      36\n",
       "10.40      35\n",
       "12.20      34\n",
       "2.80       33\n",
       "1.60       30\n",
       "11.20      28\n",
       "2.00       27\n",
       "1.10       26\n",
       "10.80      25\n",
       "12.30      23\n",
       "11.70      23\n",
       "13.60      22\n",
       "11.50      22\n",
       "11.90      22\n",
       "10.20      21\n",
       "3.10       19\n",
       "13.50      19\n",
       "2.40       16\n",
       "1.30       15\n",
       "11.60      14\n",
       "12.60      14\n",
       "2.20       13\n",
       "11.10      13\n",
       "11.30      13\n",
       "10.70      12\n",
       "1.00       11\n",
       "2.50       11\n",
       "14.00      10\n",
       "2.30       10\n",
       "13.80       9\n",
       "13.00       8\n",
       "0.80        8\n",
       "2.90        7\n",
       "12.90       7\n",
       "13.10       7\n",
       "2.60        6\n",
       "12.70       6\n",
       "0.60        5\n",
       "13.40       5\n",
       "13.90       5\n",
       "13.20       5\n",
       "0.70        5\n",
       "99.90       4\n",
       "14.30       3\n",
       "0.90        3\n",
       "16.70       3\n",
       "14.40       3\n",
       "14.10       3\n",
       "2.70        2\n",
       "16.50       2\n",
       "14.90       2\n",
       "53.00       2\n",
       "15.60       2\n",
       "93.00       2\n",
       "14.20       1\n",
       "14.70       1\n",
       "15.00       1\n",
       "16.80       1\n",
       "18.30       1\n",
       "23.00       1\n",
       "16.40       1\n",
       "15.50       1\n",
       "15.10       1\n",
       "15.90       1\n",
       "56.00       1\n",
       "0.50        1\n",
       "16.00       1\n",
       "57.00       1\n",
       "61.00       1\n",
       "14.50       1\n",
       "44.00       1\n",
       "Name: combined_fuel_cons, dtype: int64"
      ]
     },
     "execution_count": 142,
     "metadata": {},
     "output_type": "execute_result"
    }
   ],
   "source": [
    "df.combined_fuel_cons.value_counts(dropna=False)"
   ]
  },
  {
   "cell_type": "code",
   "execution_count": 143,
   "metadata": {
    "tags": []
   },
   "outputs": [],
   "source": [
    "df.drop(\"fuel_consumption\", axis=1, inplace=True)"
   ]
  },
  {
   "cell_type": "markdown",
   "metadata": {},
   "source": []
  },
  {
   "cell_type": "code",
   "execution_count": 144,
   "metadata": {
    "tags": []
   },
   "outputs": [
    {
     "data": {
      "text/plain": [
       "'full_service_history'"
      ]
     },
     "execution_count": 144,
     "metadata": {},
     "output_type": "execute_result"
    }
   ],
   "source": [
    "df.columns[29]"
   ]
  },
  {
   "cell_type": "markdown",
   "metadata": {},
   "source": []
  },
  {
   "cell_type": "code",
   "execution_count": 145,
   "metadata": {
    "tags": []
   },
   "outputs": [
    {
     "data": {
      "text/plain": [
       "'non_smoker_vehicle'"
      ]
     },
     "execution_count": 145,
     "metadata": {},
     "output_type": "execute_result"
    }
   ],
   "source": [
    "df.columns[30]"
   ]
  },
  {
   "cell_type": "markdown",
   "metadata": {},
   "source": []
  },
  {
   "cell_type": "code",
   "execution_count": 146,
   "metadata": {
    "tags": []
   },
   "outputs": [
    {
     "data": {
      "text/plain": [
       "'emission_class'"
      ]
     },
     "execution_count": 146,
     "metadata": {},
     "output_type": "execute_result"
    }
   ],
   "source": [
    "df.columns[31]"
   ]
  },
  {
   "cell_type": "markdown",
   "metadata": {},
   "source": []
  },
  {
   "cell_type": "code",
   "execution_count": 147,
   "metadata": {},
   "outputs": [
    {
     "data": {
      "text/plain": [
       "'emissions_sticker'"
      ]
     },
     "execution_count": 147,
     "metadata": {},
     "output_type": "execute_result"
    }
   ],
   "source": [
    "df.columns[32]"
   ]
  },
  {
   "cell_type": "code",
   "execution_count": 148,
   "metadata": {},
   "outputs": [],
   "source": [
    "df.extras = [\",\".join(i) if type(i) == list else i for i in df.extras]"
   ]
  },
  {
   "cell_type": "code",
   "execution_count": 149,
   "metadata": {
    "scrolled": true,
    "tags": []
   },
   "outputs": [
    {
     "data": {
      "text/plain": [
       "NaN                                                                                                                                                                                                                                                                 6000\n",
       "Alloy wheels                                                                                                                                                                                                                                                        3408\n",
       "Alloy wheels, Roof rack                                                                                                                                                                                                                                              380\n",
       "Alloy wheels, Sport seats                                                                                                                                                                                                                                            372\n",
       "Alloy wheels, Touch screen                                                                                                                                                                                                                                           231\n",
       "                                                                                                                                                                                                                                                                    ... \n",
       "Alloy wheels (18\"), Spoiler, Summer tyres, Trailer hitch                                                                                                                                                                                                               1\n",
       "All season tyres, Alloy wheels, Automatically dimming interior mirror, Catalytic Converter, Headlight washer system, Ski bag, Sport seats, Trailer hitch, Winter tyres                                                                                                 1\n",
       "Alloy wheels, Automatically dimming interior mirror, Headlight washer system, Sport package, Sport seats, Summer tyres                                                                                                                                                 1\n",
       "Alloy wheels (19\"), Ambient lighting, Automatically dimming interior mirror, Catalytic Converter, E10-enabled, Emergency tyre repair kit, Headlight washer system, Spoiler, Sport package, Sport seats, Sport suspension, Summer tyres, Tuned car, Voice Control       1\n",
       "Alloy wheels, Automatically dimming interior mirror, Ski bag, Trailer hitch                                                                                                                                                                                            1\n",
       "Name: extras, Length: 9361, dtype: int64"
      ]
     },
     "execution_count": 149,
     "metadata": {},
     "output_type": "execute_result"
    }
   ],
   "source": [
    "df.extras.value_counts(dropna=False)"
   ]
  },
  {
   "cell_type": "markdown",
   "metadata": {},
   "source": []
  },
  {
   "cell_type": "code",
   "execution_count": 150,
   "metadata": {},
   "outputs": [
    {
     "data": {
      "text/plain": [
       "'upholstery_colour'"
      ]
     },
     "execution_count": 150,
     "metadata": {},
     "output_type": "execute_result"
    }
   ],
   "source": [
    "df.columns[33]"
   ]
  },
  {
   "cell_type": "code",
   "execution_count": 151,
   "metadata": {
    "scrolled": true,
    "tags": []
   },
   "outputs": [
    {
     "data": {
      "text/plain": [
       "0                   NaN\n",
       "1                   NaN\n",
       "2                   NaN\n",
       "3                   NaN\n",
       "4        [\\n1,545 kg\\n]\n",
       "              ...      \n",
       "29475    [\\n1,357 kg\\n]\n",
       "29476    [\\n1,356 kg\\n]\n",
       "29477    [\\n1,617 kg\\n]\n",
       "29478    [\\n1,573 kg\\n]\n",
       "29479               NaN\n",
       "Name: empty_weight, Length: 29480, dtype: object"
      ]
     },
     "execution_count": 151,
     "metadata": {},
     "output_type": "execute_result"
    }
   ],
   "source": [
    "df['empty_weight']"
   ]
  },
  {
   "cell_type": "code",
   "execution_count": 152,
   "metadata": {},
   "outputs": [],
   "source": [
    "df.empty_weight = df.empty_weight.astype(str).apply(lambda x : re.findall(\"[,0-9]+\",x)[0] if len(re.findall(\"[,0-9]+\",x))>0 else np.nan).str.replace(\",\",\"\").astype(float)"
   ]
  },
  {
   "cell_type": "code",
   "execution_count": 153,
   "metadata": {
    "scrolled": true,
    "tags": []
   },
   "outputs": [
    {
     "data": {
      "text/plain": [
       "NaN        11722\n",
       "1395.00      233\n",
       "1055.00      224\n",
       "1423.00      216\n",
       "1165.00      200\n",
       "           ...  \n",
       "1877.00        1\n",
       "1011.00        1\n",
       "1069.00        1\n",
       "983.00         1\n",
       "1391.00        1\n",
       "Name: empty_weight, Length: 1219, dtype: int64"
      ]
     },
     "execution_count": 153,
     "metadata": {},
     "output_type": "execute_result"
    }
   ],
   "source": [
    "df.empty_weight.value_counts(dropna=False)"
   ]
  },
  {
   "cell_type": "code",
   "execution_count": 154,
   "metadata": {
    "tags": []
   },
   "outputs": [
    {
     "data": {
      "image/png": "[encoded data removed]",
      "text/plain": [
       "<Figure size 1600x1000 with 1 Axes>"
      ]
     },
     "metadata": {},
     "output_type": "display_data"
    }
   ],
   "source": [
    "plt.figure(figsize =(16,10))\n",
    "sns.scatterplot(x=df.empty_weight.value_counts(dropna=False).index, y=df.empty_weight.value_counts(dropna=False));"
   ]
  },
  {
   "cell_type": "markdown",
   "metadata": {},
   "source": []
  },
  {
   "cell_type": "code",
   "execution_count": 155,
   "metadata": {},
   "outputs": [
    {
     "data": {
      "text/plain": [
       "'upholstery'"
      ]
     },
     "execution_count": 155,
     "metadata": {},
     "output_type": "execute_result"
    }
   ],
   "source": [
    "df.columns[34]"
   ]
  },
  {
   "cell_type": "code",
   "execution_count": 156,
   "metadata": {
    "tags": []
   },
   "outputs": [],
   "source": [
    "df.drop(\"model_code\", axis=1, inplace=True)"
   ]
  },
  {
   "cell_type": "markdown",
   "metadata": {},
   "source": []
  },
  {
   "cell_type": "code",
   "execution_count": 157,
   "metadata": {},
   "outputs": [
    {
     "data": {
      "text/plain": [
       "'previous_owner'"
      ]
     },
     "execution_count": 157,
     "metadata": {},
     "output_type": "execute_result"
    }
   ],
   "source": [
    "df.columns[35]"
   ]
  },
  {
   "cell_type": "code",
   "execution_count": 158,
   "metadata": {
    "scrolled": true,
    "tags": []
   },
   "outputs": [
    {
     "data": {
      "text/plain": [
       "NaN        17226\n",
       "New         5883\n",
       "05/2023      286\n",
       "08/2023      280\n",
       "03/2023      268\n",
       "06/2023      266\n",
       "04/2023      262\n",
       "09/2023      255\n",
       "07/2023      254\n",
       "06/2024      216\n",
       "05/2024      212\n",
       "01/2023      210\n",
       "02/2023      209\n",
       "03/2024      207\n",
       "07/2024      203\n",
       "08/2024      187\n",
       "09/2024      182\n",
       "11/2023      176\n",
       "01/2024      164\n",
       "02/2024      163\n",
       "04/2024      162\n",
       "12/2023      160\n",
       "12/2022      159\n",
       "10/2023      155\n",
       "06/2025      147\n",
       "11/2022      131\n",
       "08/2025      122\n",
       "07/2025      110\n",
       "09/2022       96\n",
       "03/2025       95\n",
       "05/2025       93\n",
       "10/2022       90\n",
       "04/2025       89\n",
       "01/2025       75\n",
       "02/2025       66\n",
       "09/2025       65\n",
       "10/2024       64\n",
       "08/2022       64\n",
       "12/2024       61\n",
       "11/2024       50\n",
       "06/2022       42\n",
       "07/2022       41\n",
       "04/2022       34\n",
       "03/2022       25\n",
       "05/2022       22\n",
       "10/2021       17\n",
       "11/2021       11\n",
       "01/2022       10\n",
       "07/2021       10\n",
       "09/2021        8\n",
       "08/2021        7\n",
       "12/2021        7\n",
       "02/2022        6\n",
       "05/2026        5\n",
       "07/2020        5\n",
       "10/2025        4\n",
       "05/2021        4\n",
       "06/2026        4\n",
       "12/2019        4\n",
       "06/2021        3\n",
       "01/2021        3\n",
       "11/2020        3\n",
       "04/2026        3\n",
       "02/2021        2\n",
       "02/2026        2\n",
       "12/2025        2\n",
       "09/2026        2\n",
       "01/2026        2\n",
       "12/2020        2\n",
       "07/2026        2\n",
       "08/2026        2\n",
       "02/2027        2\n",
       "06/2020        2\n",
       "12/2017        1\n",
       "10/2020        1\n",
       "01/2020        1\n",
       "04/2020        1\n",
       "10/2019        1\n",
       "05/2018        1\n",
       "09/2020        1\n",
       "07/2019        1\n",
       "05/2020        1\n",
       "08/2019        1\n",
       "03/2026        1\n",
       "11/2019        1\n",
       "01/2018        1\n",
       "07/2017        1\n",
       "09/2017        1\n",
       "08/2013        1\n",
       "08/2020        1\n",
       "08/2018        1\n",
       "03/2021        1\n",
       "Name: general_inspection, dtype: int64"
      ]
     },
     "execution_count": 158,
     "metadata": {},
     "output_type": "execute_result"
    }
   ],
   "source": [
    "df.general_inspection.value_counts(dropna=False)"
   ]
  },
  {
   "cell_type": "code",
   "execution_count": 159,
   "metadata": {
    "tags": []
   },
   "outputs": [],
   "source": [
    "df.drop(\"general_inspection\", axis=1, inplace=True)"
   ]
  },
  {
   "cell_type": "markdown",
   "metadata": {},
   "source": []
  },
  {
   "cell_type": "code",
   "execution_count": 160,
   "metadata": {
    "tags": []
   },
   "outputs": [
    {
     "data": {
      "text/plain": [
       "'power_consumption'"
      ]
     },
     "execution_count": 160,
     "metadata": {},
     "output_type": "execute_result"
    }
   ],
   "source": [
    "df.columns[36] "
   ]
  },
  {
   "cell_type": "code",
   "execution_count": 161,
   "metadata": {
    "tags": []
   },
   "outputs": [],
   "source": [
    "df.drop(\"last_service\", axis=1, inplace=True)"
   ]
  },
  {
   "cell_type": "markdown",
   "metadata": {},
   "source": []
  },
  {
   "cell_type": "code",
   "execution_count": 162,
   "metadata": {
    "tags": []
   },
   "outputs": [
    {
     "data": {
      "text/plain": [
       "'co_efficiency'"
      ]
     },
     "execution_count": 162,
     "metadata": {},
     "output_type": "execute_result"
    }
   ],
   "source": [
    "df.columns[37]"
   ]
  },
  {
   "cell_type": "code",
   "execution_count": 163,
   "metadata": {
    "tags": []
   },
   "outputs": [
    {
     "data": {
      "text/plain": [
       "57.377883310719135"
      ]
     },
     "execution_count": 163,
     "metadata": {},
     "output_type": "execute_result"
    }
   ],
   "source": [
    "df['full_service_history'].isnull().sum()/len(df['full_service_history'])*100"
   ]
  },
  {
   "cell_type": "code",
   "execution_count": 164,
   "metadata": {
    "tags": []
   },
   "outputs": [],
   "source": [
    "df[\"full_service_history\"].replace(np.nan, \"No\", inplace=True)"
   ]
  },
  {
   "cell_type": "code",
   "execution_count": 165,
   "metadata": {},
   "outputs": [
    {
     "data": {
      "text/plain": [
       "No    16915.00\n",
       "Yes   12565.00\n",
       "Name: full_service_history, dtype: float64"
      ]
     },
     "execution_count": 165,
     "metadata": {},
     "output_type": "execute_result"
    }
   ],
   "source": [
    "df.full_service_history.value_counts(dropna=False).astype(float)"
   ]
  },
  {
   "cell_type": "markdown",
   "metadata": {},
   "source": []
  },
  {
   "cell_type": "code",
   "execution_count": 166,
   "metadata": {},
   "outputs": [
    {
     "data": {
      "text/plain": [
       "'fuel_consumption_wltp'"
      ]
     },
     "execution_count": 166,
     "metadata": {},
     "output_type": "execute_result"
    }
   ],
   "source": [
    "df.columns[38]"
   ]
  },
  {
   "cell_type": "code",
   "execution_count": 167,
   "metadata": {},
   "outputs": [
    {
     "data": {
      "text/plain": [
       "NaN   17886.00\n",
       "Yes   11594.00\n",
       "Name: non_smoker_vehicle, dtype: float64"
      ]
     },
     "execution_count": 167,
     "metadata": {},
     "output_type": "execute_result"
    }
   ],
   "source": [
    "df.non_smoker_vehicle.value_counts(dropna=False).astype(float)"
   ]
  },
  {
   "cell_type": "code",
   "execution_count": 168,
   "metadata": {
    "tags": []
   },
   "outputs": [],
   "source": [
    "df.drop(\"non_smoker_vehicle\", axis=1, inplace=True)"
   ]
  },
  {
   "cell_type": "markdown",
   "metadata": {},
   "source": []
  },
  {
   "cell_type": "code",
   "execution_count": 169,
   "metadata": {},
   "outputs": [
    {
     "data": {
      "text/plain": [
       "'available_from'"
      ]
     },
     "execution_count": 169,
     "metadata": {},
     "output_type": "execute_result"
    }
   ],
   "source": [
    "df.columns[39]"
   ]
  },
  {
   "cell_type": "code",
   "execution_count": 170,
   "metadata": {},
   "outputs": [
    {
     "data": {
      "text/plain": [
       "NaN             11621\n",
       "Euro 6           6418\n",
       "Euro 6d-TEMP     3399\n",
       "Euro 6d          2858\n",
       "Euro 5           2389\n",
       "Euro 4           1743\n",
       "Euro 3            523\n",
       "Euro 2            217\n",
       "Euro 1            172\n",
       "Euro 6c           140\n",
       "Name: emission_class, dtype: int64"
      ]
     },
     "execution_count": 170,
     "metadata": {},
     "output_type": "execute_result"
    }
   ],
   "source": [
    "df.emission_class.value_counts(dropna=False)"
   ]
  },
  {
   "cell_type": "code",
   "execution_count": 171,
   "metadata": {},
   "outputs": [],
   "source": [
    "df.replace({\"emission_class\" : {\"Euro 6c\":\"6\",\"Euro 6\":\"6\",\"Euro 6d-TEMP\":\"6\",\"Euro 6d\":\"6\", \"Euro 5\":\"5\", \"Euro 4\":\"4\",\"Euro 3\":\"3\",\"Euro 2\":\"2\",\"Euro 1\":\"1\"}}, regex = True, inplace = True)\n"
   ]
  },
  {
   "cell_type": "code",
   "execution_count": 172,
   "metadata": {},
   "outputs": [
    {
     "data": {
      "text/plain": [
       "NaN        11621\n",
       "6           6558\n",
       "6d-TEMP     3399\n",
       "6d          2858\n",
       "5           2389\n",
       "4           1743\n",
       "3            523\n",
       "2            217\n",
       "1            172\n",
       "Name: emission_class, dtype: int64"
      ]
     },
     "execution_count": 172,
     "metadata": {},
     "output_type": "execute_result"
    }
   ],
   "source": [
    "df.emission_class.value_counts(dropna=False)"
   ]
  },
  {
   "cell_type": "code",
   "execution_count": 173,
   "metadata": {
    "tags": []
   },
   "outputs": [],
   "source": [
    "df.drop(\"emission_class\", axis=1, inplace=True)"
   ]
  },
  {
   "cell_type": "markdown",
   "metadata": {},
   "source": []
  },
  {
   "cell_type": "code",
   "execution_count": 174,
   "metadata": {},
   "outputs": [
    {
     "data": {
      "text/plain": [
       "'availability'"
      ]
     },
     "execution_count": 174,
     "metadata": {},
     "output_type": "execute_result"
    }
   ],
   "source": [
    "df.columns[40]"
   ]
  },
  {
   "cell_type": "code",
   "execution_count": 175,
   "metadata": {},
   "outputs": [],
   "source": [
    "df.emissions_sticker = df.emissions_sticker.astype(str).apply(lambda x : re.findall(\"[0-9]+\",x)[0] if len(re.findall(\"[0-9]+\",x))>0 else np.nan).astype(float)"
   ]
  },
  {
   "cell_type": "code",
   "execution_count": 176,
   "metadata": {},
   "outputs": [
    {
     "data": {
      "text/plain": [
       "NaN     20066\n",
       "4.00     9230\n",
       "1.00      176\n",
       "3.00        6\n",
       "2.00        2\n",
       "Name: emissions_sticker, dtype: int64"
      ]
     },
     "execution_count": 176,
     "metadata": {},
     "output_type": "execute_result"
    }
   ],
   "source": [
    "df.emissions_sticker.value_counts(dropna=False)"
   ]
  },
  {
   "cell_type": "code",
   "execution_count": 177,
   "metadata": {
    "tags": []
   },
   "outputs": [],
   "source": [
    "df.drop(\"emissions_sticker\", axis=1, inplace=True)"
   ]
  },
  {
   "cell_type": "markdown",
   "metadata": {},
   "source": []
  },
  {
   "cell_type": "code",
   "execution_count": 178,
   "metadata": {},
   "outputs": [
    {
     "data": {
      "text/plain": [
       "'electric_range_wltp'"
      ]
     },
     "execution_count": 178,
     "metadata": {},
     "output_type": "execute_result"
    }
   ],
   "source": [
    "df.columns[41]"
   ]
  },
  {
   "cell_type": "code",
   "execution_count": 179,
   "metadata": {},
   "outputs": [
    {
     "data": {
      "text/plain": [
       "NaN       14911\n",
       "Black     10416\n",
       "Grey       2038\n",
       "Other      1003\n",
       "Beige       466\n",
       "Brown       275\n",
       "Red         159\n",
       "White        93\n",
       "Blue         82\n",
       "Orange       23\n",
       "Green         8\n",
       "Yellow        6\n",
       "Name: upholstery_colour, dtype: int64"
      ]
     },
     "execution_count": 179,
     "metadata": {},
     "output_type": "execute_result"
    }
   ],
   "source": [
    "df.upholstery_colour.value_counts(dropna=False)"
   ]
  },
  {
   "cell_type": "code",
   "execution_count": 180,
   "metadata": {
    "tags": []
   },
   "outputs": [],
   "source": [
    "df.drop(\"upholstery_colour\", axis=1, inplace=True)"
   ]
  },
  {
   "cell_type": "markdown",
   "metadata": {},
   "source": []
  },
  {
   "cell_type": "code",
   "execution_count": 181,
   "metadata": {},
   "outputs": [
    {
     "data": {
      "text/plain": [
       "'battery_ownership'"
      ]
     },
     "execution_count": 181,
     "metadata": {},
     "output_type": "execute_result"
    }
   ],
   "source": [
    "df.columns[42]"
   ]
  },
  {
   "cell_type": "code",
   "execution_count": 182,
   "metadata": {
    "tags": []
   },
   "outputs": [
    {
     "data": {
      "text/plain": [
       "1251     Full leather\n",
       "12834    Full leather\n",
       "22841    Part leather\n",
       "4221            Cloth\n",
       "12676           Cloth\n",
       "24169           Cloth\n",
       "26342             NaN\n",
       "1667     Full leather\n",
       "11245           Cloth\n",
       "28473    Full leather\n",
       "Name: upholstery, dtype: object"
      ]
     },
     "execution_count": 182,
     "metadata": {},
     "output_type": "execute_result"
    }
   ],
   "source": [
    "df.upholstery.sample(10)"
   ]
  },
  {
   "cell_type": "code",
   "execution_count": 183,
   "metadata": {},
   "outputs": [
    {
     "data": {
      "text/plain": [
       "NaN             10870\n",
       "Cloth            8736\n",
       "Full leather     5439\n",
       "Part leather     2835\n",
       "alcantara         764\n",
       "Other             628\n",
       "Velour            208\n",
       "Name: upholstery, dtype: int64"
      ]
     },
     "execution_count": 183,
     "metadata": {},
     "output_type": "execute_result"
    }
   ],
   "source": [
    "df.upholstery.value_counts(dropna=False)"
   ]
  },
  {
   "cell_type": "markdown",
   "metadata": {},
   "source": [
    "# production_date"
   ]
  },
  {
   "cell_type": "code",
   "execution_count": 218,
   "metadata": {},
   "outputs": [
    {
     "ename": "IndexError",
     "evalue": "index 43 is out of bounds for axis 0 with size 33",
     "output_type": "error",
     "traceback": [
      "\u001b[1;31m---------------------------------------------------------------------------\u001b[0m",
      "\u001b[1;31mIndexError\u001b[0m                                Traceback (most recent call last)",
      "Cell \u001b[1;32mIn[218], line 1\u001b[0m\n\u001b[1;32m----> 1\u001b[0m \u001b[43mdf\u001b[49m\u001b[38;5;241;43m.\u001b[39;49m\u001b[43mcolumns\u001b[49m\u001b[43m[\u001b[49m\u001b[38;5;241;43m43\u001b[39;49m\u001b[43m]\u001b[49m\n",
      "File \u001b[1;32m~\\anaconda3\\lib\\site-packages\\pandas\\core\\indexes\\base.py:5320\u001b[0m, in \u001b[0;36mIndex.__getitem__\u001b[1;34m(self, key)\u001b[0m\n\u001b[0;32m   5317\u001b[0m \u001b[38;5;28;01mif\u001b[39;00m is_integer(key) \u001b[38;5;129;01mor\u001b[39;00m is_float(key):\n\u001b[0;32m   5318\u001b[0m     \u001b[38;5;66;03m# GH#44051 exclude bool, which would return a 2d ndarray\u001b[39;00m\n\u001b[0;32m   5319\u001b[0m     key \u001b[38;5;241m=\u001b[39m com\u001b[38;5;241m.\u001b[39mcast_scalar_indexer(key, warn_float\u001b[38;5;241m=\u001b[39m\u001b[38;5;28;01mTrue\u001b[39;00m)\n\u001b[1;32m-> 5320\u001b[0m     \u001b[38;5;28;01mreturn\u001b[39;00m \u001b[43mgetitem\u001b[49m\u001b[43m(\u001b[49m\u001b[43mkey\u001b[49m\u001b[43m)\u001b[49m\n\u001b[0;32m   5322\u001b[0m \u001b[38;5;28;01mif\u001b[39;00m \u001b[38;5;28misinstance\u001b[39m(key, \u001b[38;5;28mslice\u001b[39m):\n\u001b[0;32m   5323\u001b[0m     \u001b[38;5;66;03m# This case is separated from the conditional above to avoid\u001b[39;00m\n\u001b[0;32m   5324\u001b[0m     \u001b[38;5;66;03m# pessimization com.is_bool_indexer and ndim checks.\u001b[39;00m\n\u001b[0;32m   5325\u001b[0m     result \u001b[38;5;241m=\u001b[39m getitem(key)\n",
      "\u001b[1;31mIndexError\u001b[0m: index 43 is out of bounds for axis 0 with size 33"
     ]
    }
   ],
   "source": [
    "df.columns[43]"
   ]
  },
  {
   "cell_type": "code",
   "execution_count": 185,
   "metadata": {
    "scrolled": true,
    "tags": []
   },
   "outputs": [
    {
     "name": "stdout",
     "output_type": "stream",
     "text": [
      "column name    :  production_date\n",
      "--------------------------------\n",
      "per_of_nulls   :  % 79.96\n",
      "num_of_nulls   :  23572\n",
      "num_of_uniques :  50\n",
      "shape_of_df    :  (29480, 45)\n",
      "--------------------------------\n",
      "NaN        23572\n",
      "2019.00     1179\n",
      "2021.00      980\n",
      "2022.00      894\n",
      "2020.00      763\n",
      "2018.00      762\n",
      "2017.00      391\n",
      "2016.00      239\n",
      "2015.00      118\n",
      "2014.00       90\n",
      "2013.00       76\n",
      "2010.00       53\n",
      "2012.00       43\n",
      "2011.00       43\n",
      "2008.00       34\n",
      "2009.00       26\n",
      "2007.00       20\n",
      "2006.00       17\n",
      "2002.00       15\n",
      "2004.00       13\n",
      "2003.00       13\n",
      "1967.00       12\n",
      "2001.00       12\n",
      "1966.00       11\n",
      "1999.00        9\n",
      "2005.00        9\n",
      "1965.00        9\n",
      "1970.00        9\n",
      "1997.00        8\n",
      "1994.00        8\n",
      "1968.00        7\n",
      "2000.00        7\n",
      "1998.00        5\n",
      "1990.00        3\n",
      "1973.00        3\n",
      "1987.00        3\n",
      "1993.00        3\n",
      "1991.00        3\n",
      "1996.00        3\n",
      "1995.00        2\n",
      "1969.00        2\n",
      "1978.00        2\n",
      "1982.00        2\n",
      "1961.00        1\n",
      "1954.00        1\n",
      "1988.00        1\n",
      "1962.00        1\n",
      "1981.00        1\n",
      "1985.00        1\n",
      "1976.00        1\n",
      "Name: production_date, dtype: int64\n"
     ]
    }
   ],
   "source": [
    "first_looking(df, \"production_date\")"
   ]
  },
  {
   "cell_type": "markdown",
   "metadata": {},
   "source": [
    "**Let's check the compatibility of the values in the ``first_registration`` with the ones in the ``production_date`` column:**"
   ]
  },
  {
   "cell_type": "code",
   "execution_count": 186,
   "metadata": {
    "scrolled": true,
    "tags": []
   },
   "outputs": [
    {
     "data": {
      "text/html": [
       "<div>\n",
       "<style scoped>\n",
       "    .dataframe tbody tr th:only-of-type {\n",
       "        vertical-align: middle;\n",
       "    }\n",
       "\n",
       "    .dataframe tbody tr th {\n",
       "        vertical-align: top;\n",
       "    }\n",
       "\n",
       "    .dataframe thead th {\n",
       "        text-align: right;\n",
       "    }\n",
       "</style>\n",
       "<table border=\"1\" class=\"dataframe\">\n",
       "  <thead>\n",
       "    <tr style=\"text-align: right;\">\n",
       "      <th></th>\n",
       "      <th>first_registration</th>\n",
       "      <th>production_date</th>\n",
       "    </tr>\n",
       "  </thead>\n",
       "  <tbody>\n",
       "    <tr>\n",
       "      <th>8</th>\n",
       "      <td>06/2019</td>\n",
       "      <td>2019.00</td>\n",
       "    </tr>\n",
       "    <tr>\n",
       "      <th>16</th>\n",
       "      <td>03/2021</td>\n",
       "      <td>2021.00</td>\n",
       "    </tr>\n",
       "    <tr>\n",
       "      <th>23</th>\n",
       "      <td>01/2019</td>\n",
       "      <td>2018.00</td>\n",
       "    </tr>\n",
       "    <tr>\n",
       "      <th>27</th>\n",
       "      <td>03/2014</td>\n",
       "      <td>2014.00</td>\n",
       "    </tr>\n",
       "    <tr>\n",
       "      <th>30</th>\n",
       "      <td>07/2020</td>\n",
       "      <td>2018.00</td>\n",
       "    </tr>\n",
       "    <tr>\n",
       "      <th>...</th>\n",
       "      <td>...</td>\n",
       "      <td>...</td>\n",
       "    </tr>\n",
       "    <tr>\n",
       "      <th>29436</th>\n",
       "      <td>01/2022</td>\n",
       "      <td>2021.00</td>\n",
       "    </tr>\n",
       "    <tr>\n",
       "      <th>29437</th>\n",
       "      <td>04/2022</td>\n",
       "      <td>2022.00</td>\n",
       "    </tr>\n",
       "    <tr>\n",
       "      <th>29438</th>\n",
       "      <td>09/2021</td>\n",
       "      <td>2021.00</td>\n",
       "    </tr>\n",
       "    <tr>\n",
       "      <th>29447</th>\n",
       "      <td>03/2022</td>\n",
       "      <td>2022.00</td>\n",
       "    </tr>\n",
       "    <tr>\n",
       "      <th>29455</th>\n",
       "      <td>09/2018</td>\n",
       "      <td>2018.00</td>\n",
       "    </tr>\n",
       "  </tbody>\n",
       "</table>\n",
       "<p>5907 rows × 2 columns</p>\n",
       "</div>"
      ],
      "text/plain": [
       "      first_registration  production_date\n",
       "8                06/2019          2019.00\n",
       "16               03/2021          2021.00\n",
       "23               01/2019          2018.00\n",
       "27               03/2014          2014.00\n",
       "30               07/2020          2018.00\n",
       "...                  ...              ...\n",
       "29436            01/2022          2021.00\n",
       "29437            04/2022          2022.00\n",
       "29438            09/2021          2021.00\n",
       "29447            03/2022          2022.00\n",
       "29455            09/2018          2018.00\n",
       "\n",
       "[5907 rows x 2 columns]"
      ]
     },
     "execution_count": 186,
     "metadata": {},
     "output_type": "execute_result"
    }
   ],
   "source": [
    "df[(df[\"first_registration\"].notnull()) &\\\n",
    "   (df[\"production_date\"].notnull()) &\\\n",
    "   (df[\"first_registration\"]!=df[\"production_date\"])]\\\n",
    "    [[\"first_registration\", \"production_date\"]]"
   ]
  },
  {
   "cell_type": "markdown",
   "metadata": {},
   "source": []
  },
  {
   "cell_type": "code",
   "execution_count": 187,
   "metadata": {},
   "outputs": [
    {
     "data": {
      "text/plain": [
       "'combined_fuel_cons'"
      ]
     },
     "execution_count": 187,
     "metadata": {},
     "output_type": "execute_result"
    }
   ],
   "source": [
    "df.columns[44]"
   ]
  },
  {
   "cell_type": "code",
   "execution_count": 217,
   "metadata": {
    "scrolled": true,
    "tags": []
   },
   "outputs": [
    {
     "name": "stdout",
     "output_type": "stream",
     "text": [
      "column name    :  previous_owner\n",
      "--------------------------------\n",
      "per_of_nulls   :  % 6.77\n",
      "num_of_nulls   :  160\n",
      "num_of_uniques :  5\n",
      "shape_of_df    :  (2364, 33)\n",
      "--------------------------------\n",
      "1      1704\n",
      "2       434\n",
      "NaN     160\n",
      "3        59\n",
      "4         7\n",
      "Name: previous_owner, dtype: int64\n"
     ]
    }
   ],
   "source": [
    "first_looking(df, \"previous_owner\")"
   ]
  },
  {
   "cell_type": "code",
   "execution_count": 189,
   "metadata": {
    "scrolled": true,
    "tags": []
   },
   "outputs": [
    {
     "data": {
      "text/plain": [
       "0        NaN\n",
       "1        NaN\n",
       "2        NaN\n",
       "3        NaN\n",
       "4        NaN\n",
       "        ... \n",
       "29475    NaN\n",
       "29476      1\n",
       "29477    NaN\n",
       "29478      5\n",
       "29479    NaN\n",
       "Name: previous_owner, Length: 29480, dtype: object"
      ]
     },
     "execution_count": 189,
     "metadata": {},
     "output_type": "execute_result"
    }
   ],
   "source": [
    "df[\"previous_owner\"] = df[\"previous_owner\"].str[1]\n",
    "df[\"previous_owner\"]"
   ]
  },
  {
   "cell_type": "code",
   "execution_count": 190,
   "metadata": {
    "scrolled": true,
    "tags": []
   },
   "outputs": [],
   "source": [
    "# df.previous_owner= df.previous_owner.apply(lambda x : x[1] if type(x)==list else np.nan).astype(float)"
   ]
  },
  {
   "cell_type": "code",
   "execution_count": 191,
   "metadata": {},
   "outputs": [
    {
     "data": {
      "text/plain": [
       "NaN    15465\n",
       "1       9746\n",
       "2       3221\n",
       "3        699\n",
       "4        184\n",
       "5         69\n",
       "6         37\n",
       "7         22\n",
       "8         16\n",
       "9         14\n",
       "12         3\n",
       "10         2\n",
       "14         1\n",
       "13         1\n",
       "Name: previous_owner, dtype: int64"
      ]
     },
     "execution_count": 191,
     "metadata": {},
     "output_type": "execute_result"
    }
   ],
   "source": [
    "df.previous_owner.value_counts(dropna=False) "
   ]
  },
  {
   "cell_type": "markdown",
   "metadata": {},
   "source": [
    "# other_fuel_types ..drop"
   ]
  },
  {
   "cell_type": "code",
   "execution_count": 192,
   "metadata": {
    "tags": []
   },
   "outputs": [],
   "source": [
    "df.drop(\"other_fuel_types\", axis=1, inplace=True)"
   ]
  },
  {
   "cell_type": "markdown",
   "metadata": {},
   "source": [
    "# power_consumption ..drop"
   ]
  },
  {
   "cell_type": "code",
   "execution_count": 193,
   "metadata": {
    "tags": []
   },
   "outputs": [],
   "source": [
    "df.drop(\"power_consumption\", axis=1, inplace=True)"
   ]
  },
  {
   "cell_type": "markdown",
   "metadata": {},
   "source": [
    "# energy_efficiency_class"
   ]
  },
  {
   "cell_type": "code",
   "execution_count": 194,
   "metadata": {
    "tags": []
   },
   "outputs": [
    {
     "name": "stdout",
     "output_type": "stream",
     "text": [
      "column name    :  energy_efficiency_class\n",
      "--------------------------------\n",
      "per_of_nulls   :  % 73.53\n",
      "num_of_nulls   :  21676\n",
      "num_of_uniques :  11\n",
      "shape_of_df    :  (29480, 43)\n",
      "--------------------------------\n",
      "NaN     21676\n",
      "B        2090\n",
      "A        1687\n",
      "C        1133\n",
      "A+       1089\n",
      "D         636\n",
      "A+++      375\n",
      "G         309\n",
      "E         271\n",
      "F         147\n",
      "A++        67\n",
      "Name: energy_efficiency_class, dtype: int64\n"
     ]
    }
   ],
   "source": [
    "first_looking(df, \"energy_efficiency_class\")"
   ]
  },
  {
   "cell_type": "code",
   "execution_count": 195,
   "metadata": {},
   "outputs": [],
   "source": [
    "efficient = [\"A\", \"A+\", \"A++\", \"A+++\", \"B\"]\n",
    "unefficient = [\"C\", \"D\", \"E\", \"F\", \"G\"]\n",
    "\n",
    "def energyefficiency(x):\n",
    "    if x in efficient:\n",
    "        return \"efficient\"\n",
    "    elif x in unefficient:\n",
    "        return \"unefficient\"    \n",
    "    else:\n",
    "        return x\n",
    "\n",
    "df[\"energy_efficiency_class\"] = df[\"energy_efficiency_class\"].apply(energyefficiency)"
   ]
  },
  {
   "cell_type": "code",
   "execution_count": 196,
   "metadata": {
    "scrolled": true,
    "tags": []
   },
   "outputs": [
    {
     "data": {
      "text/plain": [
       "NaN            21676\n",
       "efficient       5308\n",
       "unefficient     2496\n",
       "Name: energy_efficiency_class, dtype: int64"
      ]
     },
     "execution_count": 196,
     "metadata": {},
     "output_type": "execute_result"
    }
   ],
   "source": [
    "df.energy_efficiency_class.value_counts(dropna=False)"
   ]
  },
  {
   "cell_type": "markdown",
   "metadata": {},
   "source": [
    "# co_efficiency..drop"
   ]
  },
  {
   "cell_type": "code",
   "execution_count": 197,
   "metadata": {},
   "outputs": [],
   "source": [
    "df.drop(\"co_efficiency\", axis=1, inplace=True)"
   ]
  },
  {
   "cell_type": "markdown",
   "metadata": {},
   "source": [
    "# fuel_consumption_wltp ..drop"
   ]
  },
  {
   "cell_type": "code",
   "execution_count": 198,
   "metadata": {},
   "outputs": [],
   "source": [
    "df.drop(\"fuel_consumption_wltp\", axis=1, inplace=True)"
   ]
  },
  {
   "cell_type": "markdown",
   "metadata": {},
   "source": [
    "# co_emissions_wltp ..drop"
   ]
  },
  {
   "cell_type": "code",
   "execution_count": 199,
   "metadata": {},
   "outputs": [],
   "source": [
    "df.drop(\"co_emissions_wltp\", axis=1, inplace=True)"
   ]
  },
  {
   "cell_type": "markdown",
   "metadata": {},
   "source": [
    "# available_from ..drop"
   ]
  },
  {
   "cell_type": "code",
   "execution_count": 200,
   "metadata": {},
   "outputs": [],
   "source": [
    "df.drop(\"available_from\", axis=1, inplace=True)"
   ]
  },
  {
   "cell_type": "markdown",
   "metadata": {},
   "source": [
    "# taxi_or_rental_car ..drop"
   ]
  },
  {
   "cell_type": "code",
   "execution_count": 201,
   "metadata": {},
   "outputs": [],
   "source": [
    "df.drop(\"taxi_or_rental_car\", axis=1, inplace=True)"
   ]
  },
  {
   "cell_type": "markdown",
   "metadata": {},
   "source": [
    "# availability ..drop"
   ]
  },
  {
   "cell_type": "code",
   "execution_count": 202,
   "metadata": {},
   "outputs": [],
   "source": [
    "df.drop(\"availability\", axis=1, inplace=True)"
   ]
  },
  {
   "cell_type": "markdown",
   "metadata": {},
   "source": [
    "# last_timing_belt_change ..drop"
   ]
  },
  {
   "cell_type": "code",
   "execution_count": 203,
   "metadata": {},
   "outputs": [],
   "source": [
    "df.drop(\"last_timing_belt_change\", axis=1, inplace=True)"
   ]
  },
  {
   "cell_type": "markdown",
   "metadata": {},
   "source": [
    "# electric_range_wltp ..drop"
   ]
  },
  {
   "cell_type": "code",
   "execution_count": 204,
   "metadata": {},
   "outputs": [],
   "source": [
    "df.drop(\"electric_range_wltp\", axis=1, inplace=True)"
   ]
  },
  {
   "cell_type": "markdown",
   "metadata": {},
   "source": [
    "# power_consumption_wltp ..drop"
   ]
  },
  {
   "cell_type": "code",
   "execution_count": 205,
   "metadata": {},
   "outputs": [],
   "source": [
    "df.drop(\"power_consumption_wltp\", axis=1, inplace=True)"
   ]
  },
  {
   "cell_type": "markdown",
   "metadata": {},
   "source": [
    "# battery_ownership ..drop"
   ]
  },
  {
   "cell_type": "code",
   "execution_count": 206,
   "metadata": {
    "tags": []
   },
   "outputs": [],
   "source": [
    "df.drop(\"battery_ownership\", axis=1, inplace=True)"
   ]
  },
  {
   "cell_type": "markdown",
   "metadata": {},
   "source": [
    "missing"
   ]
  },
  {
   "cell_type": "code",
   "execution_count": 207,
   "metadata": {
    "tags": []
   },
   "outputs": [],
   "source": [
    "def df_nans(df, limit):\n",
    "    missing = df.isnull().sum()*100 / df.shape[0]\n",
    "    missing = missing.loc[lambda x : x >= limit]\n",
    "    if missing.empty:\n",
    "        return \"No columns have missing values that exceed the given limit.\"\n",
    "    else:\n",
    "        return missing\n",
    "\n",
    "def show_missing_values(limit):\n",
    "    return df_nans(df, limit)\n",
    "\n",
    "def column_nans(serial):\n",
    "    # display percentage of nans in a Series\n",
    "    return serial.isnull().sum()*100 / serial.shape[0]"
   ]
  },
  {
   "cell_type": "code",
   "execution_count": 208,
   "metadata": {
    "tags": []
   },
   "outputs": [
    {
     "data": {
      "text/plain": [
       "<function str.index>"
      ]
     },
     "execution_count": 208,
     "metadata": {},
     "output_type": "execute_result"
    }
   ],
   "source": [
    "drop_columns = df_nans(df, 80).index\n",
    "drop_columns"
   ]
  },
  {
   "cell_type": "code",
   "execution_count": 209,
   "metadata": {
    "tags": []
   },
   "outputs": [
    {
     "data": {
      "text/plain": [
       "4686"
      ]
     },
     "execution_count": 209,
     "metadata": {},
     "output_type": "execute_result"
    }
   ],
   "source": [
    "df.astype(str).duplicated(keep=False).sum()"
   ]
  },
  {
   "cell_type": "code",
   "execution_count": 210,
   "metadata": {},
   "outputs": [
    {
     "name": "stdout",
     "output_type": "stream",
     "text": [
      "<class 'pandas.core.frame.DataFrame'>\n",
      "RangeIndex: 29480 entries, 0 to 29479\n",
      "Data columns (total 33 columns):\n",
      " #   Column                   Non-Null Count  Dtype  \n",
      "---  ------                   --------------  -----  \n",
      " 0   make_model               28630 non-null  object \n",
      " 1   short_description        28630 non-null  object \n",
      " 2   make                     28630 non-null  object \n",
      " 3   model                    28630 non-null  object \n",
      " 4   location                 28630 non-null  object \n",
      " 5   price                    28630 non-null  float64\n",
      " 6   body_type                28630 non-null  object \n",
      " 7   type                     28630 non-null  object \n",
      " 8   doors                    28271 non-null  float64\n",
      " 9   warranty                 15784 non-null  object \n",
      " 10  mileage                  28629 non-null  float64\n",
      " 11  first_registration       28628 non-null  object \n",
      " 12  gearbox                  28382 non-null  object \n",
      " 13  fuel_type                26843 non-null  object \n",
      " 14  seller                   28630 non-null  object \n",
      " 15  seats                    25505 non-null  object \n",
      " 16  engine_size              27227 non-null  float64\n",
      " 17  gears                    18954 non-null  float64\n",
      " 18  co_emissions             18594 non-null  float64\n",
      " 19  drivetrain               16893 non-null  object \n",
      " 20  cylinders                18852 non-null  float64\n",
      " 21  comfort_&_convenience    25433 non-null  object \n",
      " 22  entertainment_&_media    23644 non-null  object \n",
      " 23  safety_&_security        25415 non-null  object \n",
      " 24  extras                   23480 non-null  object \n",
      " 25  empty_weight             17758 non-null  float64\n",
      " 26  full_service_history     29480 non-null  object \n",
      " 27  upholstery               18610 non-null  object \n",
      " 28  production_date          5908 non-null   float64\n",
      " 29  previous_owner           14015 non-null  object \n",
      " 30  energy_efficiency_class  7804 non-null   object \n",
      " 31  new                      28630 non-null  object \n",
      " 32  combined_fuel_cons       23385 non-null  float64\n",
      "dtypes: float64(10), object(23)\n",
      "memory usage: 7.4+ MB\n"
     ]
    }
   ],
   "source": [
    "df.info()"
   ]
  },
  {
   "cell_type": "code",
   "execution_count": 211,
   "metadata": {
    "tags": []
   },
   "outputs": [],
   "source": [
    "df.dropna(subset=['combined_fuel_cons'], inplace=True)"
   ]
  },
  {
   "cell_type": "code",
   "execution_count": 212,
   "metadata": {
    "tags": []
   },
   "outputs": [],
   "source": [
    "df.dropna(subset=['warranty'], inplace=True)"
   ]
  },
  {
   "cell_type": "code",
   "execution_count": 213,
   "metadata": {
    "tags": []
   },
   "outputs": [],
   "source": [
    "df.dropna(subset=['production_date'], inplace=True)"
   ]
  },
  {
   "cell_type": "code",
   "execution_count": 214,
   "metadata": {
    "tags": []
   },
   "outputs": [],
   "source": [
    "df.dropna(subset=['energy_efficiency_class'], inplace=True)"
   ]
  },
  {
   "cell_type": "code",
   "execution_count": 215,
   "metadata": {
    "scrolled": true,
    "tags": []
   },
   "outputs": [
    {
     "data": {
      "text/plain": [
       "<bound method DataFrame.info of                  make_model  \\\n",
       "403     Mercedes-Benz E 400   \n",
       "408    Mercedes-Benz AMG GT   \n",
       "415     Mercedes-Benz C 400   \n",
       "418    Mercedes-Benz AMG GT   \n",
       "426    Mercedes-Benz AMG GT   \n",
       "...                     ...   \n",
       "29334             Volvo S60   \n",
       "29380             Volvo S90   \n",
       "29394             Volvo S90   \n",
       "29414             Volvo S60   \n",
       "29438             Volvo S60   \n",
       "\n",
       "                                       short_description           make  \\\n",
       "403    d 4M AMG/Com/ILS/Distr/KeyG/360/Standh/ABC Autom.  Mercedes-Benz   \n",
       "408    Mercedes- Keramik/Carbon/Burmester/Night Distr...  Mercedes-Benz   \n",
       "415    AMG/Comand/Distr/KeyGO/Sitzklima/Memory Distronic  Mercedes-Benz   \n",
       "418       Roadster COMAND/Burmester/Memory/Kamera Autom.  Mercedes-Benz   \n",
       "426       GT S Roadster KAMERA+BURMESTER+MEMORY+AIRSCARF  Mercedes-Benz   \n",
       "...                                                  ...            ...   \n",
       "29334  R Design B5 Benzin EU6d LED Navi StandHZG Keyless          Volvo   \n",
       "29380  R Design AWD B5 Diesel EU6d Leder LED Navi Sta...          Volvo   \n",
       "29394                             D4 Geartronic R Design          Volvo   \n",
       "29414  R Design B4 Benzin EU6d LED Navi StandHZG Keyless          Volvo   \n",
       "29438      R Design B4 Mild Hybrid Benzin EU6d Pano BLIS          Volvo   \n",
       "\n",
       "         model                                      location     price  \\\n",
       "403     E 400       Julius-Rütgers-Str. 1,  15537 Erkner, DE  64870.00   \n",
       "408    AMG GT      Wormser Landstraße 194,  67346 Speyer, DE 197500.00   \n",
       "415     C 400           Autofocus 3,  15517 Fürstenwalde, DE  63370.00   \n",
       "418    AMG GT   Meckenheimer Straße 12,  53359 Rheinbach, DE 175000.00   \n",
       "426    AMG GT    St.-Georgener-Straße 1,  79111 Freiburg, DE 149890.00   \n",
       "...        ...                                           ...       ...   \n",
       "29334     S60          Lagerstraße 12,  93055 Regensburg, DE  44990.00   \n",
       "29380     S90          Lagerstraße 12,  93055 Regensburg, DE  67990.00   \n",
       "29394     S90      Cannstatter Str. 46,  70190 Stuttgart, DE  37900.00   \n",
       "29414     S60          Lagerstraße 12,  93055 Regensburg, DE  46890.00   \n",
       "29438     S60      Hannöversche Str. 44,  44143 Dortmund, DE  43700.00   \n",
       "\n",
       "         body_type             type  doors warranty  mileage  \\\n",
       "403    Convertible             Used   2.00      24  78473.00   \n",
       "408    Convertible   Employee's car   2.00       0   9550.00   \n",
       "415    Convertible   Employee's car   2.00      24  20145.00   \n",
       "418    Convertible             Used   2.00      24   3561.00   \n",
       "426    Convertible             Used   3.00      Yes 23851.00   \n",
       "...            ...              ...    ...      ...      ...   \n",
       "29334        Sedan             Used   4.00      12  10500.00   \n",
       "29380        Sedan    Demonstration   4.00      24   9990.00   \n",
       "29394        Sedan             Used   4.00      12  37846.00   \n",
       "29414        Sedan    Demonstration   4.00      24   9990.00   \n",
       "29438        Sedan    Demonstration   4.00      24  13500.00   \n",
       "\n",
       "      first_registration    gearbox                       fuel_type  seller  \\\n",
       "403              01/2020  Automatic        Diesel (Particle filter)  Dealer   \n",
       "408              04/2021  Automatic                        Super 95  Dealer   \n",
       "415              01/2021  Automatic                        Super 95  Dealer   \n",
       "418              07/2021  Automatic                        Super 95  Dealer   \n",
       "426              12/2019  Automatic  Super E10 95 (Particle filter)  Dealer   \n",
       "...                  ...        ...                             ...     ...   \n",
       "29334            06/2021  Automatic                        Super 95  Dealer   \n",
       "29380            02/2022  Automatic        Diesel (Particle filter)  Dealer   \n",
       "29394            04/2019  Automatic        Diesel (Particle filter)  Dealer   \n",
       "29414            02/2022  Automatic                        Super 95  Dealer   \n",
       "29438            09/2021  Automatic      Super 95 (Particle filter)  Dealer   \n",
       "\n",
       "      seats  engine_size  gears  co_emissions drivetrain  cylinders  \\\n",
       "403       4      2925.00   9.00        162.00        4WD       6.00   \n",
       "408       2      3982.00   7.00        298.00       Rear       8.00   \n",
       "415       4      2996.00   9.00        196.00        4WD       6.00   \n",
       "418       2      3982.00   7.00        296.00        NaN       8.00   \n",
       "426       2      3982.00   7.00        262.00        NaN       8.00   \n",
       "...     ...          ...    ...           ...        ...        ...   \n",
       "29334     5      1969.00   8.00        140.00      Front       4.00   \n",
       "29380     5      1969.00   8.00        128.00        4WD       4.00   \n",
       "29394     5      1969.00   8.00        121.00        NaN       4.00   \n",
       "29414     5      1969.00   8.00        145.00      Front       4.00   \n",
       "29438     5      1969.00   8.00        145.00      Front       4.00   \n",
       "\n",
       "                                   comfort_&_convenience  \\\n",
       "403    [360° camera, Air conditioning, Air suspension...   \n",
       "408    [Air conditioning, Armrest, Automatic climate ...   \n",
       "415    [Armrest, Automatic climate control, 2 zones, ...   \n",
       "418    [Air conditioning, Armrest, Automatic climate ...   \n",
       "426    [Air conditioning, Armrest, Automatic climate ...   \n",
       "...                                                  ...   \n",
       "29334  [Air conditioning, Automatic climate control, ...   \n",
       "29380  [Air conditioning, Armrest, Automatic climate ...   \n",
       "29394  [Air conditioning, Armrest, Automatic climate ...   \n",
       "29414  [Air conditioning, Armrest, Automatic climate ...   \n",
       "29438  [Air conditioning, Armrest, Automatic climate ...   \n",
       "\n",
       "                                   entertainment_&_media  \\\n",
       "403    [Android Auto, Apple CarPlay, Bluetooth, Digit...   \n",
       "408    [Android Auto, Apple CarPlay, Bluetooth, Digit...   \n",
       "415    [Android Auto, Apple CarPlay, Bluetooth, Digit...   \n",
       "418    [Android Auto, Apple CarPlay, Digital radio, O...   \n",
       "426    [Apple CarPlay, Bluetooth, Digital radio, Hand...   \n",
       "...                                                  ...   \n",
       "29334  [Android Auto, Apple CarPlay, Bluetooth, Digit...   \n",
       "29380  [Bluetooth, Digital cockpit, Digital radio, Ha...   \n",
       "29394  [Android Auto, Apple CarPlay, Bluetooth, Digit...   \n",
       "29414  [Android Auto, Apple CarPlay, Bluetooth, Digit...   \n",
       "29438  [Android Auto, Apple CarPlay, Bluetooth, Digit...   \n",
       "\n",
       "                                       safety_&_security  \\\n",
       "403    [ABS, Adaptive Cruise Control, Adaptive headli...   \n",
       "408    [ABS, Adaptive Cruise Control, Alarm system, B...   \n",
       "415    [ABS, Adaptive Cruise Control, Adaptive headli...   \n",
       "418    [ABS, Blind spot monitor, Central door lock, D...   \n",
       "426    [ABS, Adaptive Cruise Control, Alarm system, B...   \n",
       "...                                                  ...   \n",
       "29334  [ABS, Adaptive Cruise Control, Adaptive headli...   \n",
       "29380  [ABS, Adaptive Cruise Control, Adaptive headli...   \n",
       "29394  [ABS, Adaptive Cruise Control, Blind spot moni...   \n",
       "29414  [ABS, Adaptive headlights, Bi-Xenon headlights...   \n",
       "29438  [ABS, Adaptive Cruise Control, Adaptive headli...   \n",
       "\n",
       "                                                  extras  empty_weight  \\\n",
       "403    Alloy wheels, Ambient lighting, Automatically ...       2010.00   \n",
       "408    Alloy wheels, Ambient lighting, Automatically ...       1735.00   \n",
       "415    Alloy wheels, Ambient lighting, Automatically ...       1825.00   \n",
       "418    Alloy wheels, Automatically dimming interior m...       1700.00   \n",
       "426    Alloy wheels (20\"), Ambient lighting, Automati...       1700.00   \n",
       "...                                                  ...           ...   \n",
       "29334  Alloy wheels, Sport seats, Sport suspension, T...       1752.00   \n",
       "29380  Alloy wheels, Sport seats, Touch screen, Voice...           NaN   \n",
       "29394  Alloy wheels (19\"), Ambient lighting, Automati...       1866.00   \n",
       "29414  Sport seats, Sport suspension, Touch screen, V...           NaN   \n",
       "29438  Alloy wheels, Catalytic Converter, Sport packa...       1819.00   \n",
       "\n",
       "      full_service_history    upholstery  production_date previous_owner  \\\n",
       "403                    Yes           NaN          2020.00              1   \n",
       "408                    Yes           NaN          2021.00              1   \n",
       "415                    Yes           NaN          2021.00              1   \n",
       "418                     No           NaN          2021.00              1   \n",
       "426                    Yes  Full leather          2019.00              2   \n",
       "...                    ...           ...              ...            ...   \n",
       "29334                  Yes  Part leather          2021.00              1   \n",
       "29380                   No  Full leather          2021.00              1   \n",
       "29394                  Yes  Part leather          2019.00              2   \n",
       "29414                   No  Part leather          2021.00              1   \n",
       "29438                  Yes  Part leather          2021.00              1   \n",
       "\n",
       "      energy_efficiency_class                   new  combined_fuel_cons  \n",
       "403                 efficient   Mercedes-Benz E 400                6.20  \n",
       "408               unefficient  Mercedes-Benz AMG GT               13.00  \n",
       "415               unefficient   Mercedes-Benz C 400                8.60  \n",
       "418               unefficient  Mercedes-Benz AMG GT               12.90  \n",
       "426               unefficient  Mercedes-Benz AMG GT               11.50  \n",
       "...                       ...                   ...                 ...  \n",
       "29334               efficient             Volvo S60                6.20  \n",
       "29380               efficient             Volvo S90                4.90  \n",
       "29394               efficient             Volvo S90                4.60  \n",
       "29414               efficient             Volvo S60                6.30  \n",
       "29438               efficient             Volvo S60                6.30  \n",
       "\n",
       "[2364 rows x 33 columns]>"
      ]
     },
     "execution_count": 215,
     "metadata": {},
     "output_type": "execute_result"
    }
   ],
   "source": [
    "df.info"
   ]
  },
  {
   "cell_type": "code",
   "execution_count": 216,
   "metadata": {},
   "outputs": [],
   "source": [
    "df.to_csv('autoscout_cleaned.csv', index=False)"
   ]
  },
  {
   "cell_type": "code",
   "execution_count": null,
   "metadata": {},
   "outputs": [],
   "source": []
  }
 ],
 "metadata": {
  "colab": {
   "name": "DAwPy-Capstone_Project_(AutoScout)_Student.ipynb",
   "provenance": []
  },
  "kernelspec": {
   "display_name": "Python 3 (ipykernel)",
   "language": "python",
   "name": "python3"
  },
  "language_info": {
   "codemirror_mode": {
    "name": "ipython",
    "version": 3
   },
   "file_extension": ".py",
   "mimetype": "text/x-python",
   "name": "python",
   "nbconvert_exporter": "python",
   "pygments_lexer": "ipython3",
   "version": "3.10.9"
  },
  "toc": {
   "base_numbering": 1,
   "nav_menu": {},
   "number_sections": false,
   "sideBar": true,
   "skip_h1_title": false,
   "title_cell": "Table of Contents",
   "title_sidebar": "Contents",
   "toc_cell": false,
   "toc_position": {},
   "toc_section_display": true,
   "toc_window_display": false
  },
  "toc-autonumbering": false
 },
 "nbformat": 4,
 "nbformat_minor": 4
}
